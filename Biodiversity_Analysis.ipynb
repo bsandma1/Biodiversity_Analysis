{
 "cells": [
  {
   "attachments": {},
   "cell_type": "markdown",
   "metadata": {},
   "source": [
    "# Biodiversity in National Parks - Data Analysis\n",
    "### Analysis Overview\n",
    "In this analysis, we will be analyzing data from two datasets containing information on National Parks and the species who inhabit them.\n",
    "\n",
    "The datasets are:\n",
    "\n",
    "- ```\"observations.csv\"``` - includes data on the national park being observed, what species live their, and how many times each species has been recorded being spotted within the last 7 days.\n",
    "- ```\"species_info.csv\"``` - includes data on a large number of different species.  It features the species' scientific name, common name, category of species, and conservation status."
   ]
  },
  {
   "attachments": {},
   "cell_type": "markdown",
   "metadata": {},
   "source": [
    "---"
   ]
  },
  {
   "attachments": {},
   "cell_type": "markdown",
   "metadata": {},
   "source": [
    "## Section 1 - Understanding the Data\n",
    "In order to work with any data, you first need to understand what you'll be working with.  \n",
    "\n",
    "1. Import the Python libraries you'll need to conduct your analysis \n",
    "2. Load the two CSV datasets into two seperate Pandas DataFrames, ```parks``` and ```species```\n",
    "3. View the first 10 rows of the ```parks``` dataframe\n",
    "4. View the first 10 rows of the ```species``` dataframe"
   ]
  },
  {
   "cell_type": "code",
   "execution_count": 1403,
   "metadata": {},
   "outputs": [],
   "source": [
    "# 1\n",
    "\n",
    "import numpy as np\n",
    "import pandas as pd\n",
    "import matplotlib.pyplot as plt\n",
    "import seaborn as sns\n",
    "import statsmodels.api as sm"
   ]
  },
  {
   "cell_type": "code",
   "execution_count": 1404,
   "metadata": {},
   "outputs": [],
   "source": [
    "# 2\n",
    "\n",
    "parks = pd.read_csv('observations.csv')\n",
    "species = pd.read_csv('species_info.csv')"
   ]
  },
  {
   "cell_type": "code",
   "execution_count": 1405,
   "metadata": {},
   "outputs": [
    {
     "data": {
      "text/html": [
       "<div>\n",
       "<style scoped>\n",
       "    .dataframe tbody tr th:only-of-type {\n",
       "        vertical-align: middle;\n",
       "    }\n",
       "\n",
       "    .dataframe tbody tr th {\n",
       "        vertical-align: top;\n",
       "    }\n",
       "\n",
       "    .dataframe thead th {\n",
       "        text-align: right;\n",
       "    }\n",
       "</style>\n",
       "<table border=\"1\" class=\"dataframe\">\n",
       "  <thead>\n",
       "    <tr style=\"text-align: right;\">\n",
       "      <th></th>\n",
       "      <th>scientific_name</th>\n",
       "      <th>park_name</th>\n",
       "      <th>observations</th>\n",
       "    </tr>\n",
       "  </thead>\n",
       "  <tbody>\n",
       "    <tr>\n",
       "      <th>0</th>\n",
       "      <td>Vicia benghalensis</td>\n",
       "      <td>Great Smoky Mountains National Park</td>\n",
       "      <td>68</td>\n",
       "    </tr>\n",
       "    <tr>\n",
       "      <th>1</th>\n",
       "      <td>Neovison vison</td>\n",
       "      <td>Great Smoky Mountains National Park</td>\n",
       "      <td>77</td>\n",
       "    </tr>\n",
       "    <tr>\n",
       "      <th>2</th>\n",
       "      <td>Prunus subcordata</td>\n",
       "      <td>Yosemite National Park</td>\n",
       "      <td>138</td>\n",
       "    </tr>\n",
       "    <tr>\n",
       "      <th>3</th>\n",
       "      <td>Abutilon theophrasti</td>\n",
       "      <td>Bryce National Park</td>\n",
       "      <td>84</td>\n",
       "    </tr>\n",
       "    <tr>\n",
       "      <th>4</th>\n",
       "      <td>Githopsis specularioides</td>\n",
       "      <td>Great Smoky Mountains National Park</td>\n",
       "      <td>85</td>\n",
       "    </tr>\n",
       "    <tr>\n",
       "      <th>5</th>\n",
       "      <td>Elymus virginicus var. virginicus</td>\n",
       "      <td>Yosemite National Park</td>\n",
       "      <td>112</td>\n",
       "    </tr>\n",
       "    <tr>\n",
       "      <th>6</th>\n",
       "      <td>Spizella pusilla</td>\n",
       "      <td>Yellowstone National Park</td>\n",
       "      <td>228</td>\n",
       "    </tr>\n",
       "    <tr>\n",
       "      <th>7</th>\n",
       "      <td>Elymus multisetus</td>\n",
       "      <td>Great Smoky Mountains National Park</td>\n",
       "      <td>39</td>\n",
       "    </tr>\n",
       "    <tr>\n",
       "      <th>8</th>\n",
       "      <td>Lysimachia quadrifolia</td>\n",
       "      <td>Yosemite National Park</td>\n",
       "      <td>168</td>\n",
       "    </tr>\n",
       "    <tr>\n",
       "      <th>9</th>\n",
       "      <td>Diphyscium cumberlandianum</td>\n",
       "      <td>Yellowstone National Park</td>\n",
       "      <td>250</td>\n",
       "    </tr>\n",
       "  </tbody>\n",
       "</table>\n",
       "</div>"
      ],
      "text/plain": [
       "                     scientific_name                            park_name  \\\n",
       "0                 Vicia benghalensis  Great Smoky Mountains National Park   \n",
       "1                     Neovison vison  Great Smoky Mountains National Park   \n",
       "2                  Prunus subcordata               Yosemite National Park   \n",
       "3               Abutilon theophrasti                  Bryce National Park   \n",
       "4           Githopsis specularioides  Great Smoky Mountains National Park   \n",
       "5  Elymus virginicus var. virginicus               Yosemite National Park   \n",
       "6                   Spizella pusilla            Yellowstone National Park   \n",
       "7                  Elymus multisetus  Great Smoky Mountains National Park   \n",
       "8             Lysimachia quadrifolia               Yosemite National Park   \n",
       "9         Diphyscium cumberlandianum            Yellowstone National Park   \n",
       "\n",
       "   observations  \n",
       "0            68  \n",
       "1            77  \n",
       "2           138  \n",
       "3            84  \n",
       "4            85  \n",
       "5           112  \n",
       "6           228  \n",
       "7            39  \n",
       "8           168  \n",
       "9           250  "
      ]
     },
     "execution_count": 1405,
     "metadata": {},
     "output_type": "execute_result"
    }
   ],
   "source": [
    "# 3 \n",
    "\n",
    "parks.head(10)"
   ]
  },
  {
   "cell_type": "code",
   "execution_count": 1406,
   "metadata": {},
   "outputs": [
    {
     "data": {
      "text/html": [
       "<div>\n",
       "<style scoped>\n",
       "    .dataframe tbody tr th:only-of-type {\n",
       "        vertical-align: middle;\n",
       "    }\n",
       "\n",
       "    .dataframe tbody tr th {\n",
       "        vertical-align: top;\n",
       "    }\n",
       "\n",
       "    .dataframe thead th {\n",
       "        text-align: right;\n",
       "    }\n",
       "</style>\n",
       "<table border=\"1\" class=\"dataframe\">\n",
       "  <thead>\n",
       "    <tr style=\"text-align: right;\">\n",
       "      <th></th>\n",
       "      <th>category</th>\n",
       "      <th>scientific_name</th>\n",
       "      <th>common_names</th>\n",
       "      <th>conservation_status</th>\n",
       "    </tr>\n",
       "  </thead>\n",
       "  <tbody>\n",
       "    <tr>\n",
       "      <th>0</th>\n",
       "      <td>Mammal</td>\n",
       "      <td>Clethrionomys gapperi gapperi</td>\n",
       "      <td>Gapper's Red-Backed Vole</td>\n",
       "      <td>NaN</td>\n",
       "    </tr>\n",
       "    <tr>\n",
       "      <th>1</th>\n",
       "      <td>Mammal</td>\n",
       "      <td>Bos bison</td>\n",
       "      <td>American Bison, Bison</td>\n",
       "      <td>NaN</td>\n",
       "    </tr>\n",
       "    <tr>\n",
       "      <th>2</th>\n",
       "      <td>Mammal</td>\n",
       "      <td>Bos taurus</td>\n",
       "      <td>Aurochs, Aurochs, Domestic Cattle (Feral), Dom...</td>\n",
       "      <td>NaN</td>\n",
       "    </tr>\n",
       "    <tr>\n",
       "      <th>3</th>\n",
       "      <td>Mammal</td>\n",
       "      <td>Ovis aries</td>\n",
       "      <td>Domestic Sheep, Mouflon, Red Sheep, Sheep (Feral)</td>\n",
       "      <td>NaN</td>\n",
       "    </tr>\n",
       "    <tr>\n",
       "      <th>4</th>\n",
       "      <td>Mammal</td>\n",
       "      <td>Cervus elaphus</td>\n",
       "      <td>Wapiti Or Elk</td>\n",
       "      <td>NaN</td>\n",
       "    </tr>\n",
       "    <tr>\n",
       "      <th>5</th>\n",
       "      <td>Mammal</td>\n",
       "      <td>Odocoileus virginianus</td>\n",
       "      <td>White-Tailed Deer</td>\n",
       "      <td>NaN</td>\n",
       "    </tr>\n",
       "    <tr>\n",
       "      <th>6</th>\n",
       "      <td>Mammal</td>\n",
       "      <td>Sus scrofa</td>\n",
       "      <td>Feral Hog, Wild Pig</td>\n",
       "      <td>NaN</td>\n",
       "    </tr>\n",
       "    <tr>\n",
       "      <th>7</th>\n",
       "      <td>Mammal</td>\n",
       "      <td>Canis latrans</td>\n",
       "      <td>Coyote</td>\n",
       "      <td>Species of Concern</td>\n",
       "    </tr>\n",
       "    <tr>\n",
       "      <th>8</th>\n",
       "      <td>Mammal</td>\n",
       "      <td>Canis lupus</td>\n",
       "      <td>Gray Wolf</td>\n",
       "      <td>Endangered</td>\n",
       "    </tr>\n",
       "    <tr>\n",
       "      <th>9</th>\n",
       "      <td>Mammal</td>\n",
       "      <td>Canis rufus</td>\n",
       "      <td>Red Wolf</td>\n",
       "      <td>Endangered</td>\n",
       "    </tr>\n",
       "  </tbody>\n",
       "</table>\n",
       "</div>"
      ],
      "text/plain": [
       "  category                scientific_name  \\\n",
       "0   Mammal  Clethrionomys gapperi gapperi   \n",
       "1   Mammal                      Bos bison   \n",
       "2   Mammal                     Bos taurus   \n",
       "3   Mammal                     Ovis aries   \n",
       "4   Mammal                 Cervus elaphus   \n",
       "5   Mammal         Odocoileus virginianus   \n",
       "6   Mammal                     Sus scrofa   \n",
       "7   Mammal                  Canis latrans   \n",
       "8   Mammal                    Canis lupus   \n",
       "9   Mammal                    Canis rufus   \n",
       "\n",
       "                                        common_names conservation_status  \n",
       "0                           Gapper's Red-Backed Vole                 NaN  \n",
       "1                              American Bison, Bison                 NaN  \n",
       "2  Aurochs, Aurochs, Domestic Cattle (Feral), Dom...                 NaN  \n",
       "3  Domestic Sheep, Mouflon, Red Sheep, Sheep (Feral)                 NaN  \n",
       "4                                      Wapiti Or Elk                 NaN  \n",
       "5                                  White-Tailed Deer                 NaN  \n",
       "6                                Feral Hog, Wild Pig                 NaN  \n",
       "7                                             Coyote  Species of Concern  \n",
       "8                                          Gray Wolf          Endangered  \n",
       "9                                           Red Wolf          Endangered  "
      ]
     },
     "execution_count": 1406,
     "metadata": {},
     "output_type": "execute_result"
    }
   ],
   "source": [
    "# 4\n",
    "\n",
    "species.head(10)"
   ]
  },
  {
   "attachments": {},
   "cell_type": "markdown",
   "metadata": {},
   "source": [
    "The first thing that stands out to me is in the ```species``` dataframe.  Without looking any deeper you can already see that it contains some missing values ('NaN').  In order to accurately work with this data, you'll need to clean up your dataframes.  Aside from that one column in the ```species``` dataframe, you aren't sure which columns may have missing data in either of the two dataframes, so you'll need to do some work to find out.\n",
    "\n",
    "Let's focus on looking at your ```parks``` dataframe first!\n",
    "\n",
    "5. Check to see if the ```parks``` dataframe contains any missing values.  Check column names and data types as well\n",
    "6. Take a look at the summary statistics\n",
    "7. find out how many species observations there are for each National Park "
   ]
  },
  {
   "cell_type": "code",
   "execution_count": 1407,
   "metadata": {},
   "outputs": [
    {
     "name": "stdout",
     "output_type": "stream",
     "text": [
      "<class 'pandas.core.frame.DataFrame'>\n",
      "RangeIndex: 23296 entries, 0 to 23295\n",
      "Data columns (total 3 columns):\n",
      " #   Column           Non-Null Count  Dtype \n",
      "---  ------           --------------  ----- \n",
      " 0   scientific_name  23296 non-null  object\n",
      " 1   park_name        23296 non-null  object\n",
      " 2   observations     23296 non-null  int64 \n",
      "dtypes: int64(1), object(2)\n",
      "memory usage: 546.1+ KB\n"
     ]
    }
   ],
   "source": [
    "# 5\n",
    "\n",
    "parks.info()"
   ]
  },
  {
   "cell_type": "code",
   "execution_count": 1408,
   "metadata": {},
   "outputs": [
    {
     "data": {
      "text/html": [
       "<div>\n",
       "<style scoped>\n",
       "    .dataframe tbody tr th:only-of-type {\n",
       "        vertical-align: middle;\n",
       "    }\n",
       "\n",
       "    .dataframe tbody tr th {\n",
       "        vertical-align: top;\n",
       "    }\n",
       "\n",
       "    .dataframe thead th {\n",
       "        text-align: right;\n",
       "    }\n",
       "</style>\n",
       "<table border=\"1\" class=\"dataframe\">\n",
       "  <thead>\n",
       "    <tr style=\"text-align: right;\">\n",
       "      <th></th>\n",
       "      <th>scientific_name</th>\n",
       "      <th>park_name</th>\n",
       "      <th>observations</th>\n",
       "    </tr>\n",
       "  </thead>\n",
       "  <tbody>\n",
       "    <tr>\n",
       "      <th>count</th>\n",
       "      <td>23296</td>\n",
       "      <td>23296</td>\n",
       "      <td>23296.000000</td>\n",
       "    </tr>\n",
       "    <tr>\n",
       "      <th>unique</th>\n",
       "      <td>5541</td>\n",
       "      <td>4</td>\n",
       "      <td>NaN</td>\n",
       "    </tr>\n",
       "    <tr>\n",
       "      <th>top</th>\n",
       "      <td>Myotis lucifugus</td>\n",
       "      <td>Great Smoky Mountains National Park</td>\n",
       "      <td>NaN</td>\n",
       "    </tr>\n",
       "    <tr>\n",
       "      <th>freq</th>\n",
       "      <td>12</td>\n",
       "      <td>5824</td>\n",
       "      <td>NaN</td>\n",
       "    </tr>\n",
       "    <tr>\n",
       "      <th>mean</th>\n",
       "      <td>NaN</td>\n",
       "      <td>NaN</td>\n",
       "      <td>142.287904</td>\n",
       "    </tr>\n",
       "    <tr>\n",
       "      <th>std</th>\n",
       "      <td>NaN</td>\n",
       "      <td>NaN</td>\n",
       "      <td>69.890532</td>\n",
       "    </tr>\n",
       "    <tr>\n",
       "      <th>min</th>\n",
       "      <td>NaN</td>\n",
       "      <td>NaN</td>\n",
       "      <td>9.000000</td>\n",
       "    </tr>\n",
       "    <tr>\n",
       "      <th>25%</th>\n",
       "      <td>NaN</td>\n",
       "      <td>NaN</td>\n",
       "      <td>86.000000</td>\n",
       "    </tr>\n",
       "    <tr>\n",
       "      <th>50%</th>\n",
       "      <td>NaN</td>\n",
       "      <td>NaN</td>\n",
       "      <td>124.000000</td>\n",
       "    </tr>\n",
       "    <tr>\n",
       "      <th>75%</th>\n",
       "      <td>NaN</td>\n",
       "      <td>NaN</td>\n",
       "      <td>195.000000</td>\n",
       "    </tr>\n",
       "    <tr>\n",
       "      <th>max</th>\n",
       "      <td>NaN</td>\n",
       "      <td>NaN</td>\n",
       "      <td>321.000000</td>\n",
       "    </tr>\n",
       "  </tbody>\n",
       "</table>\n",
       "</div>"
      ],
      "text/plain": [
       "         scientific_name                            park_name  observations\n",
       "count              23296                                23296  23296.000000\n",
       "unique              5541                                    4           NaN\n",
       "top     Myotis lucifugus  Great Smoky Mountains National Park           NaN\n",
       "freq                  12                                 5824           NaN\n",
       "mean                 NaN                                  NaN    142.287904\n",
       "std                  NaN                                  NaN     69.890532\n",
       "min                  NaN                                  NaN      9.000000\n",
       "25%                  NaN                                  NaN     86.000000\n",
       "50%                  NaN                                  NaN    124.000000\n",
       "75%                  NaN                                  NaN    195.000000\n",
       "max                  NaN                                  NaN    321.000000"
      ]
     },
     "execution_count": 1408,
     "metadata": {},
     "output_type": "execute_result"
    }
   ],
   "source": [
    "# 6\n",
    "\n",
    "parks.describe(include='all')"
   ]
  },
  {
   "cell_type": "code",
   "execution_count": 1409,
   "metadata": {},
   "outputs": [
    {
     "data": {
      "text/plain": [
       "Great Smoky Mountains National Park    5824\n",
       "Yosemite National Park                 5824\n",
       "Bryce National Park                    5824\n",
       "Yellowstone National Park              5824\n",
       "Name: park_name, dtype: int64"
      ]
     },
     "execution_count": 1409,
     "metadata": {},
     "output_type": "execute_result"
    }
   ],
   "source": [
    "# 7\n",
    "\n",
    "parks.park_name.value_counts()"
   ]
  },
  {
   "attachments": {},
   "cell_type": "markdown",
   "metadata": {},
   "source": [
    "You can see that the length of the dataframe is 23,296 rows long and that it has 3 columns, each with 0 missing values.  The column names are clean and easy to work with and you can also see the data types of each column make sense.\n",
    "\n",
    "Looking at the output from code block #6, you can see that there are a lot of unique species within the dataframe (5541), but only 4 diferent National Parks.    \n",
    "\n",
    "Since there isn't a lot of unique values, you can easily use ```.value_counts()``` on the dataframe to show that there is 5824 observations of species in each National Park.  \n",
    "\n",
    "Though our data looks seemingly nice and tidy, we could further inspect the ```scientific_name``` column to see if there are any strange values that are hidden within the column that could effect the analysis.  An example of a strange value could be an empty string (\"\") or a string that says ```\"NULL\"``` or ```\"NaN\"```.  These would technically count as values but they should instead be classified as a missing value.\n",
    "\n",
    "8. Pull some random samples of the ```scientific_name``` column, look over the values, and check to see if there are any entries that don't belong\n",
    "  "
   ]
  },
  {
   "cell_type": "code",
   "execution_count": 1410,
   "metadata": {},
   "outputs": [
    {
     "name": "stdout",
     "output_type": "stream",
     "text": [
      "Sample 1\n",
      "17225    Acer negundo var. violaceum\n",
      "4378                 Pohlia elongata\n",
      "23002        Potamogeton amplifolius\n",
      "9518             Carex leavenworthii\n",
      "22595     Viola sagittata var. ovata\n",
      "21124       Caprimulgus carolinensis\n",
      "10147                    Vinca major\n",
      "11602              Agrostis gigantea\n",
      "16294           Vaccinium corymbosum\n",
      "6461               Juncus canadensis\n",
      "Name: scientific_name, dtype: object\n",
      "\n",
      "Sample 2\n",
      "10277                         Phacelia purpusii\n",
      "17317                            Silene oregana\n",
      "21103                           Viola hirsutula\n",
      "15257           Hazardia whitneyi var. whitneyi\n",
      "4224                              Geum radiatum\n",
      "492                          Sayornis nigricans\n",
      "20483                     Menyanthes trifoliata\n",
      "1929                          Lycopus uniflorus\n",
      "18539                            Rana sylvatica\n",
      "21851    Asplenium trichomanes ssp. trichomanes\n",
      "Name: scientific_name, dtype: object\n",
      "\n",
      "Sample 3\n",
      "22442                    Dicentra cucullaria\n",
      "3408                        Acanthus flammea\n",
      "5759                        Cornus nuttallii\n",
      "11510                 Polygonum bistortoides\n",
      "15796                       Celtis laevigata\n",
      "2224                        Lupinus covillei\n",
      "9909                       Ledum glandulosum\n",
      "12923                    Zonotrichia querula\n",
      "11445    Artemisia ludoviciana ssp. mexicana\n",
      "13257                         Molothrus ater\n",
      "Name: scientific_name, dtype: object\n",
      "\n",
      "Sample 4\n",
      "21077                   Euphorbia purpurea\n",
      "16310    Circaea lutetiana ssp. canadensis\n",
      "4832               Tradescantia virginiana\n",
      "7636            Eriogonum nudum var. nudum\n",
      "21319       Sambucus nigra ssp. canadensis\n",
      "9271                       Rubus trivialis\n",
      "5956                          Rhododendron\n",
      "6873                     Collomia linearis\n",
      "7562                 Tadarida brasiliensis\n",
      "16265                       Monarda didyma\n",
      "Name: scientific_name, dtype: object\n",
      "\n",
      "Sample 5\n",
      "2247                             Viola missouriensis\n",
      "11265    Ranunculus orthorhynchus var. orthorhynchus\n",
      "9822                                  Juncus torreyi\n",
      "19740                          Kummerowia stipulacea\n",
      "5314                          Tragopogon porrifolius\n",
      "16782                       Eleocharis quadrangulata\n",
      "23151                        Potentilla pensylvanica\n",
      "14786                            Chimaphila maculata\n",
      "12522                          Notropis rubricroceus\n",
      "18793                            Colinus virginianus\n",
      "Name: scientific_name, dtype: object\n",
      "\n",
      "Sample 6\n",
      "8424               Ondatra zibethicus\n",
      "10471                   Carya pallida\n",
      "6504                 Senecio anonymus\n",
      "14392                 Cirsium vulgare\n",
      "15629             Fragaria virginiana\n",
      "6857     Symphyotrichum prenanthoides\n",
      "18945                Ruellia strepens\n",
      "13870      Silene latifolia ssp. alba\n",
      "21682                   Carex diandra\n",
      "14080                           Pinus\n",
      "Name: scientific_name, dtype: object\n",
      "\n",
      "Sample 7\n",
      "8864             Pseudotriton ruber nitidus\n",
      "13899       Luzula acuminata var. acuminata\n",
      "9032                  Hedysarum occidentale\n",
      "22866                     Quercus douglasii\n",
      "13751                      Esox masquinongy\n",
      "20320          Tetragonotheca helianthoides\n",
      "1245     Ipomopsis aggregata var. aggregata\n",
      "3693                          Mimulus nanus\n",
      "12285                 Vaccinium macrocarpon\n",
      "21778                         Sitta pygmaea\n",
      "Name: scientific_name, dtype: object\n",
      "\n",
      "Sample 8\n",
      "18048             Botrychium ascendens\n",
      "20649                Panicum rigidulum\n",
      "670                 Sparganium emersum\n",
      "14138             Polygonum hydropiper\n",
      "5373      Arabis lyallii var. nubigena\n",
      "20045            Orogenia linearifolia\n",
      "14497               Lysimachia fraseri\n",
      "16349               Clintonia borealis\n",
      "18348    Camassia quamash ssp. quamash\n",
      "21612             Mimulus inconspicuus\n",
      "Name: scientific_name, dtype: object\n",
      "\n",
      "Sample 9\n",
      "4154               Otospermophilus beecheyi\n",
      "16407                   Pentagramma pallida\n",
      "5443       Rudbeckia hirta var. pulcherrima\n",
      "923                       Silene noctiflora\n",
      "11564                    Celastrus scandens\n",
      "18959      Aristida purpurea var. longiseta\n",
      "17646                Chenopodium atrovirens\n",
      "361                   Eriophyllum nubigenum\n",
      "1245     Ipomopsis aggregata var. aggregata\n",
      "13125    Claytonia megarhiza var. megarhiza\n",
      "Name: scientific_name, dtype: object\n",
      "\n",
      "Sample 10\n",
      "14729                          Panicum capillare\n",
      "3984     Polygala verticillata var. verticillata\n",
      "23091                Arnoglossum atriplicifolium\n",
      "1153                       Castilleja applegatei\n",
      "13175             Carex atlantica ssp. atlantica\n",
      "9802             Myosurus apetalus var. montanus\n",
      "2992                     Corynorhinus townsendii\n",
      "12295                               Phlox amoena\n",
      "13680                        Chamaesyce maculata\n",
      "13034                      Epilobium densiflorum\n",
      "Name: scientific_name, dtype: object\n",
      "\n"
     ]
    }
   ],
   "source": [
    "# 8\n",
    "\n",
    "for num in range(10):\n",
    "    print(f'Sample {num + 1}')\n",
    "    parks_sample = parks.scientific_name.sample(10) # sample size of 10 used to conserve space but 20-25 preferred\n",
    "    print(parks_sample)\n",
    "    print()"
   ]
  },
  {
   "attachments": {},
   "cell_type": "markdown",
   "metadata": {},
   "source": [
    "According to the samples, the data is good to go!\n",
    "\n",
    "Time to check out the ```species``` dataframe!\n",
    "\n",
    "9. Check to see if the ```species``` dataframe contains any missing values.  Check column names and data types as well\n",
    "10. Take a look at the summary statistics\n",
    "11. Find out how many species there are within each ```category```\n",
    "12. Find out how many species there are within each ```conservation_status```\n",
    "13. Find out the number of ```NaN``` values in the ```conservation_status``` column, and the percentage"
   ]
  },
  {
   "cell_type": "code",
   "execution_count": 1411,
   "metadata": {},
   "outputs": [
    {
     "name": "stdout",
     "output_type": "stream",
     "text": [
      "<class 'pandas.core.frame.DataFrame'>\n",
      "RangeIndex: 5824 entries, 0 to 5823\n",
      "Data columns (total 4 columns):\n",
      " #   Column               Non-Null Count  Dtype \n",
      "---  ------               --------------  ----- \n",
      " 0   category             5824 non-null   object\n",
      " 1   scientific_name      5824 non-null   object\n",
      " 2   common_names         5824 non-null   object\n",
      " 3   conservation_status  191 non-null    object\n",
      "dtypes: object(4)\n",
      "memory usage: 182.1+ KB\n"
     ]
    }
   ],
   "source": [
    "# 9 \n",
    "\n",
    "species.info()"
   ]
  },
  {
   "cell_type": "code",
   "execution_count": 1412,
   "metadata": {},
   "outputs": [
    {
     "data": {
      "text/html": [
       "<div>\n",
       "<style scoped>\n",
       "    .dataframe tbody tr th:only-of-type {\n",
       "        vertical-align: middle;\n",
       "    }\n",
       "\n",
       "    .dataframe tbody tr th {\n",
       "        vertical-align: top;\n",
       "    }\n",
       "\n",
       "    .dataframe thead th {\n",
       "        text-align: right;\n",
       "    }\n",
       "</style>\n",
       "<table border=\"1\" class=\"dataframe\">\n",
       "  <thead>\n",
       "    <tr style=\"text-align: right;\">\n",
       "      <th></th>\n",
       "      <th>category</th>\n",
       "      <th>scientific_name</th>\n",
       "      <th>common_names</th>\n",
       "      <th>conservation_status</th>\n",
       "    </tr>\n",
       "  </thead>\n",
       "  <tbody>\n",
       "    <tr>\n",
       "      <th>count</th>\n",
       "      <td>5824</td>\n",
       "      <td>5824</td>\n",
       "      <td>5824</td>\n",
       "      <td>191</td>\n",
       "    </tr>\n",
       "    <tr>\n",
       "      <th>unique</th>\n",
       "      <td>7</td>\n",
       "      <td>5541</td>\n",
       "      <td>5504</td>\n",
       "      <td>4</td>\n",
       "    </tr>\n",
       "    <tr>\n",
       "      <th>top</th>\n",
       "      <td>Vascular Plant</td>\n",
       "      <td>Castor canadensis</td>\n",
       "      <td>Brachythecium Moss</td>\n",
       "      <td>Species of Concern</td>\n",
       "    </tr>\n",
       "    <tr>\n",
       "      <th>freq</th>\n",
       "      <td>4470</td>\n",
       "      <td>3</td>\n",
       "      <td>7</td>\n",
       "      <td>161</td>\n",
       "    </tr>\n",
       "  </tbody>\n",
       "</table>\n",
       "</div>"
      ],
      "text/plain": [
       "              category    scientific_name        common_names  \\\n",
       "count             5824               5824                5824   \n",
       "unique               7               5541                5504   \n",
       "top     Vascular Plant  Castor canadensis  Brachythecium Moss   \n",
       "freq              4470                  3                   7   \n",
       "\n",
       "       conservation_status  \n",
       "count                  191  \n",
       "unique                   4  \n",
       "top     Species of Concern  \n",
       "freq                   161  "
      ]
     },
     "execution_count": 1412,
     "metadata": {},
     "output_type": "execute_result"
    }
   ],
   "source": [
    "# 10\n",
    "\n",
    "species.describe(include='all')"
   ]
  },
  {
   "cell_type": "code",
   "execution_count": 1413,
   "metadata": {},
   "outputs": [
    {
     "data": {
      "text/plain": [
       "Vascular Plant       4470\n",
       "Bird                  521\n",
       "Nonvascular Plant     333\n",
       "Mammal                214\n",
       "Fish                  127\n",
       "Amphibian              80\n",
       "Reptile                79\n",
       "Name: category, dtype: int64"
      ]
     },
     "execution_count": 1413,
     "metadata": {},
     "output_type": "execute_result"
    }
   ],
   "source": [
    "# 11\n",
    "\n",
    "species.category.value_counts()"
   ]
  },
  {
   "cell_type": "code",
   "execution_count": 1414,
   "metadata": {},
   "outputs": [
    {
     "data": {
      "text/plain": [
       "Species of Concern    161\n",
       "Endangered             16\n",
       "Threatened             10\n",
       "In Recovery             4\n",
       "Name: conservation_status, dtype: int64"
      ]
     },
     "execution_count": 1414,
     "metadata": {},
     "output_type": "execute_result"
    }
   ],
   "source": [
    "# 12\n",
    "\n",
    "species.conservation_status.value_counts()"
   ]
  },
  {
   "cell_type": "code",
   "execution_count": 1415,
   "metadata": {},
   "outputs": [
    {
     "name": "stdout",
     "output_type": "stream",
     "text": [
      "NaN values in 'conservation_status' column: 5633 out of 5824\n",
      "Percentage of NaN values in 'conservation_status' column: 96.72%\n"
     ]
    }
   ],
   "source": [
    "# 13\n",
    "\n",
    "nan_count = len(species[species.conservation_status.isnull() == True])\n",
    "nan_percent = (len(species[species.conservation_status.isnull() == True]) / len(species)) * 100\n",
    "\n",
    "print(f'NaN values in \\'conservation_status\\' column: {nan_count} out of {len(species)}')\n",
    "print(f'Percentage of NaN values in \\'conservation_status\\' column: {round(nan_percent, 2)}%')"
   ]
  },
  {
   "attachments": {},
   "cell_type": "markdown",
   "metadata": {},
   "source": [
    "Going through the summary statistics gives us plenty of insight into the data.  The ```conservation_status``` column is clearly missing a massive chunk of data,\n",
    "96.72% actually.  But why is this data missing?  If you take a look at the unique values within the column, you can see that there are only 4 values, and all of them are associated with endangerment to some degree (output of code block #12).  With this knowledge, we can assume that the ```NaN``` values just mean that the species is not at risk of endangerment.  The values seem to be missing for a reason.\n",
    "\n",
    "With this assumption, you can go ahead and fill in the missing values with an appropriate value."
   ]
  },
  {
   "attachments": {},
   "cell_type": "markdown",
   "metadata": {},
   "source": [
    "---"
   ]
  },
  {
   "attachments": {},
   "cell_type": "markdown",
   "metadata": {},
   "source": [
    "# Section 2 - Cleaning the Data\n",
    "Before creating any visualizations of the data, you first need to clean the data to make sure that our visualizations accurately represent what is happening within the dataset.\n",
    "\n",
    "14. Fill in the ```NaN``` values in the ```conservation_status``` column with the string value ```\"Not at risk\"```"
   ]
  },
  {
   "cell_type": "code",
   "execution_count": 1416,
   "metadata": {},
   "outputs": [
    {
     "data": {
      "text/plain": [
       "Not at Risk           5633\n",
       "Species of Concern     161\n",
       "Endangered              16\n",
       "Threatened              10\n",
       "In Recovery              4\n",
       "Name: conservation_status, dtype: int64"
      ]
     },
     "execution_count": 1416,
     "metadata": {},
     "output_type": "execute_result"
    }
   ],
   "source": [
    "# 14\n",
    "\n",
    "species.conservation_status.fillna('Not at Risk', inplace=True)\n",
    "species.conservation_status.value_counts()"
   ]
  },
  {
   "attachments": {},
   "cell_type": "markdown",
   "metadata": {},
   "source": [
    "After doing this, it wouldn't hurt to check the scientific name column for any duplicate values.  If you refer back to code block #10, you can see that the column does have some repeating values.  This should be looked into.\n",
    "\n",
    "15. Figure out how many values are duplicates within the ```scientific_name``` column\n",
    "16. Find out how many duplicate rows exist within the ```species``` dataframe, if any"
   ]
  },
  {
   "cell_type": "code",
   "execution_count": 1417,
   "metadata": {},
   "outputs": [
    {
     "name": "stdout",
     "output_type": "stream",
     "text": [
      "Duplicated values in 'scientific_name' column: 283\n"
     ]
    }
   ],
   "source": [
    "# 15\n",
    "\n",
    "dup = species.scientific_name.duplicated().sum()\n",
    "print(f'Duplicated values in \\'scientific_name\\' column: {dup}')"
   ]
  },
  {
   "cell_type": "code",
   "execution_count": 1418,
   "metadata": {},
   "outputs": [
    {
     "name": "stdout",
     "output_type": "stream",
     "text": [
      "Duplicated rows in 'species' dataframe: 0\n"
     ]
    }
   ],
   "source": [
    "# 16 \n",
    "\n",
    "dup = species.duplicated().sum()\n",
    "print(f'Duplicated rows in \\'species\\' dataframe: {dup}')"
   ]
  },
  {
   "attachments": {},
   "cell_type": "markdown",
   "metadata": {},
   "source": [
    "So there aren't any duplicate rows within the ```species``` dataframe, but there are 283 duplicates within the ```scientific_name``` column of the ```species``` dataframe.  This may be due to the fact that more than one person recorded the same species and they recorded different numbers observed in the ```observations``` column.  Let's find out.\n",
    "\n",
    "17. Experiment with the ```species``` dataframe and determine if these duplicate values should be dropped or not"
   ]
  },
  {
   "cell_type": "code",
   "execution_count": 1419,
   "metadata": {},
   "outputs": [
    {
     "data": {
      "text/html": [
       "<div>\n",
       "<style scoped>\n",
       "    .dataframe tbody tr th:only-of-type {\n",
       "        vertical-align: middle;\n",
       "    }\n",
       "\n",
       "    .dataframe tbody tr th {\n",
       "        vertical-align: top;\n",
       "    }\n",
       "\n",
       "    .dataframe thead th {\n",
       "        text-align: right;\n",
       "    }\n",
       "</style>\n",
       "<table border=\"1\" class=\"dataframe\">\n",
       "  <thead>\n",
       "    <tr style=\"text-align: right;\">\n",
       "      <th></th>\n",
       "      <th>category</th>\n",
       "      <th>scientific_name</th>\n",
       "      <th>common_names</th>\n",
       "      <th>conservation_status</th>\n",
       "    </tr>\n",
       "  </thead>\n",
       "  <tbody>\n",
       "    <tr>\n",
       "      <th>3017</th>\n",
       "      <td>Mammal</td>\n",
       "      <td>Cervus elaphus</td>\n",
       "      <td>Rocky Mountain Elk</td>\n",
       "      <td>Not at Risk</td>\n",
       "    </tr>\n",
       "    <tr>\n",
       "      <th>3019</th>\n",
       "      <td>Mammal</td>\n",
       "      <td>Odocoileus virginianus</td>\n",
       "      <td>White-Tailed Deer, White-Tailed Deer</td>\n",
       "      <td>Not at Risk</td>\n",
       "    </tr>\n",
       "    <tr>\n",
       "      <th>3020</th>\n",
       "      <td>Mammal</td>\n",
       "      <td>Canis lupus</td>\n",
       "      <td>Gray Wolf, Wolf</td>\n",
       "      <td>In Recovery</td>\n",
       "    </tr>\n",
       "    <tr>\n",
       "      <th>3022</th>\n",
       "      <td>Mammal</td>\n",
       "      <td>Puma concolor</td>\n",
       "      <td>Cougar, Mountain Lion, Puma</td>\n",
       "      <td>Not at Risk</td>\n",
       "    </tr>\n",
       "    <tr>\n",
       "      <th>3025</th>\n",
       "      <td>Mammal</td>\n",
       "      <td>Lutra canadensis</td>\n",
       "      <td>River Otter</td>\n",
       "      <td>Not at Risk</td>\n",
       "    </tr>\n",
       "  </tbody>\n",
       "</table>\n",
       "</div>"
      ],
      "text/plain": [
       "     category         scientific_name                          common_names  \\\n",
       "3017   Mammal          Cervus elaphus                    Rocky Mountain Elk   \n",
       "3019   Mammal  Odocoileus virginianus  White-Tailed Deer, White-Tailed Deer   \n",
       "3020   Mammal             Canis lupus                       Gray Wolf, Wolf   \n",
       "3022   Mammal           Puma concolor           Cougar, Mountain Lion, Puma   \n",
       "3025   Mammal        Lutra canadensis                           River Otter   \n",
       "\n",
       "     conservation_status  \n",
       "3017         Not at Risk  \n",
       "3019         Not at Risk  \n",
       "3020         In Recovery  \n",
       "3022         Not at Risk  \n",
       "3025         Not at Risk  "
      ]
     },
     "execution_count": 1419,
     "metadata": {},
     "output_type": "execute_result"
    }
   ],
   "source": [
    "# 17\n",
    "\n",
    "species[species.scientific_name.duplicated()].head()"
   ]
  },
  {
   "cell_type": "code",
   "execution_count": 1420,
   "metadata": {},
   "outputs": [
    {
     "data": {
      "text/html": [
       "<div>\n",
       "<style scoped>\n",
       "    .dataframe tbody tr th:only-of-type {\n",
       "        vertical-align: middle;\n",
       "    }\n",
       "\n",
       "    .dataframe tbody tr th {\n",
       "        vertical-align: top;\n",
       "    }\n",
       "\n",
       "    .dataframe thead th {\n",
       "        text-align: right;\n",
       "    }\n",
       "</style>\n",
       "<table border=\"1\" class=\"dataframe\">\n",
       "  <thead>\n",
       "    <tr style=\"text-align: right;\">\n",
       "      <th></th>\n",
       "      <th>category</th>\n",
       "      <th>scientific_name</th>\n",
       "      <th>common_names</th>\n",
       "      <th>conservation_status</th>\n",
       "    </tr>\n",
       "  </thead>\n",
       "  <tbody>\n",
       "    <tr>\n",
       "      <th>8</th>\n",
       "      <td>Mammal</td>\n",
       "      <td>Canis lupus</td>\n",
       "      <td>Gray Wolf</td>\n",
       "      <td>Endangered</td>\n",
       "    </tr>\n",
       "    <tr>\n",
       "      <th>3020</th>\n",
       "      <td>Mammal</td>\n",
       "      <td>Canis lupus</td>\n",
       "      <td>Gray Wolf, Wolf</td>\n",
       "      <td>In Recovery</td>\n",
       "    </tr>\n",
       "    <tr>\n",
       "      <th>4448</th>\n",
       "      <td>Mammal</td>\n",
       "      <td>Canis lupus</td>\n",
       "      <td>Gray Wolf, Wolf</td>\n",
       "      <td>Endangered</td>\n",
       "    </tr>\n",
       "  </tbody>\n",
       "</table>\n",
       "</div>"
      ],
      "text/plain": [
       "     category scientific_name     common_names conservation_status\n",
       "8      Mammal     Canis lupus        Gray Wolf          Endangered\n",
       "3020   Mammal     Canis lupus  Gray Wolf, Wolf         In Recovery\n",
       "4448   Mammal     Canis lupus  Gray Wolf, Wolf          Endangered"
      ]
     },
     "execution_count": 1420,
     "metadata": {},
     "output_type": "execute_result"
    }
   ],
   "source": [
    "# 17 (Cont.)\n",
    "\n",
    "species[species.scientific_name == 'Canis lupus']"
   ]
  },
  {
   "attachments": {},
   "cell_type": "markdown",
   "metadata": {},
   "source": [
    "This doesn't seem right.  This is the same mammal, recorded 3 times, and once with a different conservation status.  The only sensible explanation for the repeated entries could be due to a possible change in conservation status.  If that is the case, then we can rest knowing it was recorded for a reason. "
   ]
  },
  {
   "cell_type": "code",
   "execution_count": 1421,
   "metadata": {},
   "outputs": [
    {
     "data": {
      "text/html": [
       "<div>\n",
       "<style scoped>\n",
       "    .dataframe tbody tr th:only-of-type {\n",
       "        vertical-align: middle;\n",
       "    }\n",
       "\n",
       "    .dataframe tbody tr th {\n",
       "        vertical-align: top;\n",
       "    }\n",
       "\n",
       "    .dataframe thead th {\n",
       "        text-align: right;\n",
       "    }\n",
       "</style>\n",
       "<table border=\"1\" class=\"dataframe\">\n",
       "  <thead>\n",
       "    <tr style=\"text-align: right;\">\n",
       "      <th></th>\n",
       "      <th>category</th>\n",
       "      <th>scientific_name</th>\n",
       "      <th>common_names</th>\n",
       "      <th>conservation_status</th>\n",
       "    </tr>\n",
       "  </thead>\n",
       "  <tbody>\n",
       "    <tr>\n",
       "      <th>4</th>\n",
       "      <td>Mammal</td>\n",
       "      <td>Cervus elaphus</td>\n",
       "      <td>Wapiti Or Elk</td>\n",
       "      <td>Not at Risk</td>\n",
       "    </tr>\n",
       "    <tr>\n",
       "      <th>3017</th>\n",
       "      <td>Mammal</td>\n",
       "      <td>Cervus elaphus</td>\n",
       "      <td>Rocky Mountain Elk</td>\n",
       "      <td>Not at Risk</td>\n",
       "    </tr>\n",
       "  </tbody>\n",
       "</table>\n",
       "</div>"
      ],
      "text/plain": [
       "     category scientific_name        common_names conservation_status\n",
       "4      Mammal  Cervus elaphus       Wapiti Or Elk         Not at Risk\n",
       "3017   Mammal  Cervus elaphus  Rocky Mountain Elk         Not at Risk"
      ]
     },
     "execution_count": 1421,
     "metadata": {},
     "output_type": "execute_result"
    }
   ],
   "source": [
    "# 17 (Cont.)\n",
    "\n",
    "species[species.scientific_name == 'Cervus elaphus']"
   ]
  },
  {
   "cell_type": "code",
   "execution_count": 1422,
   "metadata": {},
   "outputs": [
    {
     "data": {
      "text/html": [
       "<div>\n",
       "<style scoped>\n",
       "    .dataframe tbody tr th:only-of-type {\n",
       "        vertical-align: middle;\n",
       "    }\n",
       "\n",
       "    .dataframe tbody tr th {\n",
       "        vertical-align: top;\n",
       "    }\n",
       "\n",
       "    .dataframe thead th {\n",
       "        text-align: right;\n",
       "    }\n",
       "</style>\n",
       "<table border=\"1\" class=\"dataframe\">\n",
       "  <thead>\n",
       "    <tr style=\"text-align: right;\">\n",
       "      <th></th>\n",
       "      <th>category</th>\n",
       "      <th>scientific_name</th>\n",
       "      <th>common_names</th>\n",
       "      <th>conservation_status</th>\n",
       "    </tr>\n",
       "  </thead>\n",
       "  <tbody>\n",
       "    <tr>\n",
       "      <th>16</th>\n",
       "      <td>Mammal</td>\n",
       "      <td>Puma concolor</td>\n",
       "      <td>Panther (Mountain Lion)</td>\n",
       "      <td>Not at Risk</td>\n",
       "    </tr>\n",
       "    <tr>\n",
       "      <th>3022</th>\n",
       "      <td>Mammal</td>\n",
       "      <td>Puma concolor</td>\n",
       "      <td>Cougar, Mountain Lion, Puma</td>\n",
       "      <td>Not at Risk</td>\n",
       "    </tr>\n",
       "    <tr>\n",
       "      <th>4451</th>\n",
       "      <td>Mammal</td>\n",
       "      <td>Puma concolor</td>\n",
       "      <td>Mountain Lion</td>\n",
       "      <td>Not at Risk</td>\n",
       "    </tr>\n",
       "  </tbody>\n",
       "</table>\n",
       "</div>"
      ],
      "text/plain": [
       "     category scientific_name                 common_names conservation_status\n",
       "16     Mammal   Puma concolor      Panther (Mountain Lion)         Not at Risk\n",
       "3022   Mammal   Puma concolor  Cougar, Mountain Lion, Puma         Not at Risk\n",
       "4451   Mammal   Puma concolor                Mountain Lion         Not at Risk"
      ]
     },
     "execution_count": 1422,
     "metadata": {},
     "output_type": "execute_result"
    }
   ],
   "source": [
    "# 17 (Cont.)\n",
    "\n",
    "species[species.scientific_name == 'Puma concolor']"
   ]
  },
  {
   "attachments": {},
   "cell_type": "markdown",
   "metadata": {},
   "source": [
    "Ok, no rest for us, but you can conclude that a changing conservation status is NOT the reason for the duplicate values, and this is comforting, sort of.  It is safe to assume that the duplicates within the dataframe were recorded by different people who each had slightly different common names for the species.  To accurately plot any data, you'll need to drop the duplicates since they will do nothing for you but scew your results ever so slightly.\n",
    "\n",
    "18. Drop duplicates in the ```scientific_name``` column of the ```species``` dataframe"
   ]
  },
  {
   "cell_type": "code",
   "execution_count": 1423,
   "metadata": {},
   "outputs": [
    {
     "name": "stdout",
     "output_type": "stream",
     "text": [
      "Duplicated values in 'scientific_name' column: 0\n"
     ]
    }
   ],
   "source": [
    "species.drop_duplicates(subset=['scientific_name'], inplace=True)\n",
    "dup = species.scientific_name.duplicated().sum()\n",
    "print(f'Duplicated values in \\'scientific_name\\' column: {dup}')"
   ]
  },
  {
   "attachments": {},
   "cell_type": "markdown",
   "metadata": {},
   "source": [
    "18. Find out how many duplicate rows exist within the ```parks``` dataframe, if any\n",
    "19. If so, drop the duplicated rows, you don't need any identical rows"
   ]
  },
  {
   "cell_type": "code",
   "execution_count": 1424,
   "metadata": {},
   "outputs": [
    {
     "data": {
      "text/plain": [
       "15"
      ]
     },
     "execution_count": 1424,
     "metadata": {},
     "output_type": "execute_result"
    }
   ],
   "source": [
    "# 18\n",
    "\n",
    "parks.duplicated().sum()"
   ]
  },
  {
   "cell_type": "code",
   "execution_count": 1425,
   "metadata": {},
   "outputs": [
    {
     "name": "stdout",
     "output_type": "stream",
     "text": [
      "Before dropping duplicates: 23296\n",
      "After dropping duplicates: 23281\n"
     ]
    }
   ],
   "source": [
    "# 19\n",
    "\n",
    "print(f'Before dropping duplicates: {len(parks)}')\n",
    "parks.drop_duplicates(inplace=True)\n",
    "print(f'After dropping duplicates: {len(parks)}')"
   ]
  },
  {
   "attachments": {},
   "cell_type": "markdown",
   "metadata": {},
   "source": [
    "20. The same ```scientific_name``` shouldn't be recorded at the same ```park_name``` more than once.  Find out how many duplicates you have when you check the duplicates between ```scientific_name``` and ```park_name```\n",
    "21. There is a lot of duplicates.  Experiment with the ```parks``` dataframe and determine if these duplicate values should be dropped or not"
   ]
  },
  {
   "cell_type": "code",
   "execution_count": 1426,
   "metadata": {},
   "outputs": [
    {
     "name": "stdout",
     "output_type": "stream",
     "text": [
      "Duplicates: 1117\n"
     ]
    }
   ],
   "source": [
    "# 20\n",
    "\n",
    "dup = parks[['scientific_name', 'park_name']].duplicated().sum()\n",
    "print(f'Duplicates: {dup}')"
   ]
  },
  {
   "cell_type": "code",
   "execution_count": 1427,
   "metadata": {},
   "outputs": [
    {
     "data": {
      "text/html": [
       "<div>\n",
       "<style scoped>\n",
       "    .dataframe tbody tr th:only-of-type {\n",
       "        vertical-align: middle;\n",
       "    }\n",
       "\n",
       "    .dataframe tbody tr th {\n",
       "        vertical-align: top;\n",
       "    }\n",
       "\n",
       "    .dataframe thead th {\n",
       "        text-align: right;\n",
       "    }\n",
       "</style>\n",
       "<table border=\"1\" class=\"dataframe\">\n",
       "  <thead>\n",
       "    <tr style=\"text-align: right;\">\n",
       "      <th></th>\n",
       "      <th>scientific_name</th>\n",
       "      <th>park_name</th>\n",
       "      <th>observations</th>\n",
       "    </tr>\n",
       "  </thead>\n",
       "  <tbody>\n",
       "    <tr>\n",
       "      <th>483</th>\n",
       "      <td>Agrostis gigantea</td>\n",
       "      <td>Yellowstone National Park</td>\n",
       "      <td>235</td>\n",
       "    </tr>\n",
       "    <tr>\n",
       "      <th>490</th>\n",
       "      <td>Agrostis mertensii</td>\n",
       "      <td>Yosemite National Park</td>\n",
       "      <td>128</td>\n",
       "    </tr>\n",
       "    <tr>\n",
       "      <th>945</th>\n",
       "      <td>Rumex crispus</td>\n",
       "      <td>Yellowstone National Park</td>\n",
       "      <td>255</td>\n",
       "    </tr>\n",
       "    <tr>\n",
       "      <th>1213</th>\n",
       "      <td>Dianthus barbatus</td>\n",
       "      <td>Bryce National Park</td>\n",
       "      <td>110</td>\n",
       "    </tr>\n",
       "    <tr>\n",
       "      <th>1259</th>\n",
       "      <td>Riparia riparia</td>\n",
       "      <td>Bryce National Park</td>\n",
       "      <td>91</td>\n",
       "    </tr>\n",
       "    <tr>\n",
       "      <th>...</th>\n",
       "      <td>...</td>\n",
       "      <td>...</td>\n",
       "      <td>...</td>\n",
       "    </tr>\n",
       "    <tr>\n",
       "      <th>23258</th>\n",
       "      <td>Microtus longicaudus</td>\n",
       "      <td>Yellowstone National Park</td>\n",
       "      <td>244</td>\n",
       "    </tr>\n",
       "    <tr>\n",
       "      <th>23259</th>\n",
       "      <td>Agrostis scabra</td>\n",
       "      <td>Bryce National Park</td>\n",
       "      <td>118</td>\n",
       "    </tr>\n",
       "    <tr>\n",
       "      <th>23267</th>\n",
       "      <td>Oxalis corniculata</td>\n",
       "      <td>Yosemite National Park</td>\n",
       "      <td>164</td>\n",
       "    </tr>\n",
       "    <tr>\n",
       "      <th>23273</th>\n",
       "      <td>Dactylis glomerata</td>\n",
       "      <td>Bryce National Park</td>\n",
       "      <td>89</td>\n",
       "    </tr>\n",
       "    <tr>\n",
       "      <th>23280</th>\n",
       "      <td>Botrychium simplex</td>\n",
       "      <td>Yellowstone National Park</td>\n",
       "      <td>241</td>\n",
       "    </tr>\n",
       "  </tbody>\n",
       "</table>\n",
       "<p>1117 rows × 3 columns</p>\n",
       "</div>"
      ],
      "text/plain": [
       "            scientific_name                  park_name  observations\n",
       "483       Agrostis gigantea  Yellowstone National Park           235\n",
       "490      Agrostis mertensii     Yosemite National Park           128\n",
       "945           Rumex crispus  Yellowstone National Park           255\n",
       "1213      Dianthus barbatus        Bryce National Park           110\n",
       "1259        Riparia riparia        Bryce National Park            91\n",
       "...                     ...                        ...           ...\n",
       "23258  Microtus longicaudus  Yellowstone National Park           244\n",
       "23259       Agrostis scabra        Bryce National Park           118\n",
       "23267    Oxalis corniculata     Yosemite National Park           164\n",
       "23273    Dactylis glomerata        Bryce National Park            89\n",
       "23280    Botrychium simplex  Yellowstone National Park           241\n",
       "\n",
       "[1117 rows x 3 columns]"
      ]
     },
     "execution_count": 1427,
     "metadata": {},
     "output_type": "execute_result"
    }
   ],
   "source": [
    "# 21\n",
    "\n",
    "parks[parks[['scientific_name', 'park_name']].duplicated()]"
   ]
  },
  {
   "cell_type": "code",
   "execution_count": 1428,
   "metadata": {},
   "outputs": [
    {
     "data": {
      "text/html": [
       "<div>\n",
       "<style scoped>\n",
       "    .dataframe tbody tr th:only-of-type {\n",
       "        vertical-align: middle;\n",
       "    }\n",
       "\n",
       "    .dataframe tbody tr th {\n",
       "        vertical-align: top;\n",
       "    }\n",
       "\n",
       "    .dataframe thead th {\n",
       "        text-align: right;\n",
       "    }\n",
       "</style>\n",
       "<table border=\"1\" class=\"dataframe\">\n",
       "  <thead>\n",
       "    <tr style=\"text-align: right;\">\n",
       "      <th></th>\n",
       "      <th>scientific_name</th>\n",
       "      <th>park_name</th>\n",
       "      <th>observations</th>\n",
       "    </tr>\n",
       "  </thead>\n",
       "  <tbody>\n",
       "    <tr>\n",
       "      <th>449</th>\n",
       "      <td>Agrostis gigantea</td>\n",
       "      <td>Yellowstone National Park</td>\n",
       "      <td>253</td>\n",
       "    </tr>\n",
       "    <tr>\n",
       "      <th>483</th>\n",
       "      <td>Agrostis gigantea</td>\n",
       "      <td>Yellowstone National Park</td>\n",
       "      <td>235</td>\n",
       "    </tr>\n",
       "    <tr>\n",
       "      <th>6824</th>\n",
       "      <td>Agrostis gigantea</td>\n",
       "      <td>Bryce National Park</td>\n",
       "      <td>104</td>\n",
       "    </tr>\n",
       "    <tr>\n",
       "      <th>7763</th>\n",
       "      <td>Agrostis gigantea</td>\n",
       "      <td>Great Smoky Mountains National Park</td>\n",
       "      <td>93</td>\n",
       "    </tr>\n",
       "    <tr>\n",
       "      <th>8676</th>\n",
       "      <td>Agrostis gigantea</td>\n",
       "      <td>Bryce National Park</td>\n",
       "      <td>116</td>\n",
       "    </tr>\n",
       "    <tr>\n",
       "      <th>11602</th>\n",
       "      <td>Agrostis gigantea</td>\n",
       "      <td>Great Smoky Mountains National Park</td>\n",
       "      <td>57</td>\n",
       "    </tr>\n",
       "    <tr>\n",
       "      <th>13907</th>\n",
       "      <td>Agrostis gigantea</td>\n",
       "      <td>Yosemite National Park</td>\n",
       "      <td>148</td>\n",
       "    </tr>\n",
       "    <tr>\n",
       "      <th>17535</th>\n",
       "      <td>Agrostis gigantea</td>\n",
       "      <td>Yosemite National Park</td>\n",
       "      <td>128</td>\n",
       "    </tr>\n",
       "  </tbody>\n",
       "</table>\n",
       "</div>"
      ],
      "text/plain": [
       "         scientific_name                            park_name  observations\n",
       "449    Agrostis gigantea            Yellowstone National Park           253\n",
       "483    Agrostis gigantea            Yellowstone National Park           235\n",
       "6824   Agrostis gigantea                  Bryce National Park           104\n",
       "7763   Agrostis gigantea  Great Smoky Mountains National Park            93\n",
       "8676   Agrostis gigantea                  Bryce National Park           116\n",
       "11602  Agrostis gigantea  Great Smoky Mountains National Park            57\n",
       "13907  Agrostis gigantea               Yosemite National Park           148\n",
       "17535  Agrostis gigantea               Yosemite National Park           128"
      ]
     },
     "execution_count": 1428,
     "metadata": {},
     "output_type": "execute_result"
    }
   ],
   "source": [
    "# 21 (Cont.)\n",
    "\n",
    "parks[parks.scientific_name == 'Agrostis gigantea']"
   ]
  },
  {
   "cell_type": "code",
   "execution_count": 1429,
   "metadata": {},
   "outputs": [
    {
     "data": {
      "text/html": [
       "<div>\n",
       "<style scoped>\n",
       "    .dataframe tbody tr th:only-of-type {\n",
       "        vertical-align: middle;\n",
       "    }\n",
       "\n",
       "    .dataframe tbody tr th {\n",
       "        vertical-align: top;\n",
       "    }\n",
       "\n",
       "    .dataframe thead th {\n",
       "        text-align: right;\n",
       "    }\n",
       "</style>\n",
       "<table border=\"1\" class=\"dataframe\">\n",
       "  <thead>\n",
       "    <tr style=\"text-align: right;\">\n",
       "      <th></th>\n",
       "      <th>scientific_name</th>\n",
       "      <th>park_name</th>\n",
       "      <th>observations</th>\n",
       "    </tr>\n",
       "  </thead>\n",
       "  <tbody>\n",
       "    <tr>\n",
       "      <th>415</th>\n",
       "      <td>Oxalis corniculata</td>\n",
       "      <td>Bryce National Park</td>\n",
       "      <td>92</td>\n",
       "    </tr>\n",
       "    <tr>\n",
       "      <th>10750</th>\n",
       "      <td>Oxalis corniculata</td>\n",
       "      <td>Bryce National Park</td>\n",
       "      <td>82</td>\n",
       "    </tr>\n",
       "    <tr>\n",
       "      <th>12378</th>\n",
       "      <td>Oxalis corniculata</td>\n",
       "      <td>Yosemite National Park</td>\n",
       "      <td>153</td>\n",
       "    </tr>\n",
       "    <tr>\n",
       "      <th>14294</th>\n",
       "      <td>Oxalis corniculata</td>\n",
       "      <td>Great Smoky Mountains National Park</td>\n",
       "      <td>91</td>\n",
       "    </tr>\n",
       "    <tr>\n",
       "      <th>18638</th>\n",
       "      <td>Oxalis corniculata</td>\n",
       "      <td>Yellowstone National Park</td>\n",
       "      <td>249</td>\n",
       "    </tr>\n",
       "    <tr>\n",
       "      <th>20252</th>\n",
       "      <td>Oxalis corniculata</td>\n",
       "      <td>Great Smoky Mountains National Park</td>\n",
       "      <td>73</td>\n",
       "    </tr>\n",
       "    <tr>\n",
       "      <th>21746</th>\n",
       "      <td>Oxalis corniculata</td>\n",
       "      <td>Yellowstone National Park</td>\n",
       "      <td>223</td>\n",
       "    </tr>\n",
       "    <tr>\n",
       "      <th>23267</th>\n",
       "      <td>Oxalis corniculata</td>\n",
       "      <td>Yosemite National Park</td>\n",
       "      <td>164</td>\n",
       "    </tr>\n",
       "  </tbody>\n",
       "</table>\n",
       "</div>"
      ],
      "text/plain": [
       "          scientific_name                            park_name  observations\n",
       "415    Oxalis corniculata                  Bryce National Park            92\n",
       "10750  Oxalis corniculata                  Bryce National Park            82\n",
       "12378  Oxalis corniculata               Yosemite National Park           153\n",
       "14294  Oxalis corniculata  Great Smoky Mountains National Park            91\n",
       "18638  Oxalis corniculata            Yellowstone National Park           249\n",
       "20252  Oxalis corniculata  Great Smoky Mountains National Park            73\n",
       "21746  Oxalis corniculata            Yellowstone National Park           223\n",
       "23267  Oxalis corniculata               Yosemite National Park           164"
      ]
     },
     "execution_count": 1429,
     "metadata": {},
     "output_type": "execute_result"
    }
   ],
   "source": [
    "# 21 (Cont.)\n",
    "\n",
    "parks[parks.scientific_name == 'Oxalis corniculata']"
   ]
  },
  {
   "attachments": {},
   "cell_type": "markdown",
   "metadata": {},
   "source": [
    "22. The duplicates should definitely be dropped, but which ones?  Some have higher ```observations``` values than others.  The best course of action would be to set the values within the observations column to the average number of observations for each duplicate ```scientific_name``` and ```park_name```.  Let's do just that"
   ]
  },
  {
   "cell_type": "code",
   "execution_count": 1430,
   "metadata": {},
   "outputs": [],
   "source": [
    "# 22\n",
    "\n",
    "duplicated_name_and_park = parks[parks[['scientific_name', 'park_name']].duplicated()].reset_index(drop=True)\n",
    "\n",
    "for i in range(len(duplicated_name_and_park)):\n",
    "    \n",
    "    scientific_name = duplicated_name_and_park.scientific_name.iloc[i]\n",
    "    park_name = duplicated_name_and_park.park_name.iloc[i]\n",
    "\n",
    "    duplicate = parks[(parks.scientific_name == scientific_name) & (parks.park_name == park_name)]\n",
    "    avg_observation = int(duplicate.observations.mean())\n",
    "\n",
    "    mask = parks[(parks.scientific_name == scientific_name) & (parks.park_name == park_name)]\n",
    "    \n",
    "    parks.loc[mask.index, 'observations'] = avg_observation"
   ]
  },
  {
   "attachments": {},
   "cell_type": "markdown",
   "metadata": {},
   "source": [
    "Let's check some duplicates to make sure our conversions worked"
   ]
  },
  {
   "cell_type": "code",
   "execution_count": 1431,
   "metadata": {},
   "outputs": [
    {
     "data": {
      "text/html": [
       "<div>\n",
       "<style scoped>\n",
       "    .dataframe tbody tr th:only-of-type {\n",
       "        vertical-align: middle;\n",
       "    }\n",
       "\n",
       "    .dataframe tbody tr th {\n",
       "        vertical-align: top;\n",
       "    }\n",
       "\n",
       "    .dataframe thead th {\n",
       "        text-align: right;\n",
       "    }\n",
       "</style>\n",
       "<table border=\"1\" class=\"dataframe\">\n",
       "  <thead>\n",
       "    <tr style=\"text-align: right;\">\n",
       "      <th></th>\n",
       "      <th>scientific_name</th>\n",
       "      <th>park_name</th>\n",
       "      <th>observations</th>\n",
       "    </tr>\n",
       "  </thead>\n",
       "  <tbody>\n",
       "    <tr>\n",
       "      <th>483</th>\n",
       "      <td>Agrostis gigantea</td>\n",
       "      <td>Yellowstone National Park</td>\n",
       "      <td>244</td>\n",
       "    </tr>\n",
       "    <tr>\n",
       "      <th>490</th>\n",
       "      <td>Agrostis mertensii</td>\n",
       "      <td>Yosemite National Park</td>\n",
       "      <td>131</td>\n",
       "    </tr>\n",
       "    <tr>\n",
       "      <th>945</th>\n",
       "      <td>Rumex crispus</td>\n",
       "      <td>Yellowstone National Park</td>\n",
       "      <td>255</td>\n",
       "    </tr>\n",
       "    <tr>\n",
       "      <th>1213</th>\n",
       "      <td>Dianthus barbatus</td>\n",
       "      <td>Bryce National Park</td>\n",
       "      <td>97</td>\n",
       "    </tr>\n",
       "    <tr>\n",
       "      <th>1259</th>\n",
       "      <td>Riparia riparia</td>\n",
       "      <td>Bryce National Park</td>\n",
       "      <td>89</td>\n",
       "    </tr>\n",
       "  </tbody>\n",
       "</table>\n",
       "</div>"
      ],
      "text/plain": [
       "         scientific_name                  park_name  observations\n",
       "483    Agrostis gigantea  Yellowstone National Park           244\n",
       "490   Agrostis mertensii     Yosemite National Park           131\n",
       "945        Rumex crispus  Yellowstone National Park           255\n",
       "1213   Dianthus barbatus        Bryce National Park            97\n",
       "1259     Riparia riparia        Bryce National Park            89"
      ]
     },
     "execution_count": 1431,
     "metadata": {},
     "output_type": "execute_result"
    }
   ],
   "source": [
    "# 22 (Cont.)\n",
    "\n",
    "parks[parks.duplicated()].head()"
   ]
  },
  {
   "cell_type": "code",
   "execution_count": 1432,
   "metadata": {},
   "outputs": [
    {
     "data": {
      "text/html": [
       "<div>\n",
       "<style scoped>\n",
       "    .dataframe tbody tr th:only-of-type {\n",
       "        vertical-align: middle;\n",
       "    }\n",
       "\n",
       "    .dataframe tbody tr th {\n",
       "        vertical-align: top;\n",
       "    }\n",
       "\n",
       "    .dataframe thead th {\n",
       "        text-align: right;\n",
       "    }\n",
       "</style>\n",
       "<table border=\"1\" class=\"dataframe\">\n",
       "  <thead>\n",
       "    <tr style=\"text-align: right;\">\n",
       "      <th></th>\n",
       "      <th>scientific_name</th>\n",
       "      <th>park_name</th>\n",
       "      <th>observations</th>\n",
       "    </tr>\n",
       "  </thead>\n",
       "  <tbody>\n",
       "    <tr>\n",
       "      <th>449</th>\n",
       "      <td>Agrostis gigantea</td>\n",
       "      <td>Yellowstone National Park</td>\n",
       "      <td>244</td>\n",
       "    </tr>\n",
       "    <tr>\n",
       "      <th>483</th>\n",
       "      <td>Agrostis gigantea</td>\n",
       "      <td>Yellowstone National Park</td>\n",
       "      <td>244</td>\n",
       "    </tr>\n",
       "  </tbody>\n",
       "</table>\n",
       "</div>"
      ],
      "text/plain": [
       "       scientific_name                  park_name  observations\n",
       "449  Agrostis gigantea  Yellowstone National Park           244\n",
       "483  Agrostis gigantea  Yellowstone National Park           244"
      ]
     },
     "execution_count": 1432,
     "metadata": {},
     "output_type": "execute_result"
    }
   ],
   "source": [
    "# 22 (Cont.)\n",
    "\n",
    "parks[(parks.scientific_name == 'Agrostis gigantea') & (parks.park_name == 'Yellowstone National Park')]"
   ]
  },
  {
   "cell_type": "code",
   "execution_count": 1433,
   "metadata": {},
   "outputs": [
    {
     "data": {
      "text/html": [
       "<div>\n",
       "<style scoped>\n",
       "    .dataframe tbody tr th:only-of-type {\n",
       "        vertical-align: middle;\n",
       "    }\n",
       "\n",
       "    .dataframe tbody tr th {\n",
       "        vertical-align: top;\n",
       "    }\n",
       "\n",
       "    .dataframe thead th {\n",
       "        text-align: right;\n",
       "    }\n",
       "</style>\n",
       "<table border=\"1\" class=\"dataframe\">\n",
       "  <thead>\n",
       "    <tr style=\"text-align: right;\">\n",
       "      <th></th>\n",
       "      <th>scientific_name</th>\n",
       "      <th>park_name</th>\n",
       "      <th>observations</th>\n",
       "    </tr>\n",
       "  </thead>\n",
       "  <tbody>\n",
       "    <tr>\n",
       "      <th>872</th>\n",
       "      <td>Riparia riparia</td>\n",
       "      <td>Bryce National Park</td>\n",
       "      <td>89</td>\n",
       "    </tr>\n",
       "    <tr>\n",
       "      <th>1259</th>\n",
       "      <td>Riparia riparia</td>\n",
       "      <td>Bryce National Park</td>\n",
       "      <td>89</td>\n",
       "    </tr>\n",
       "  </tbody>\n",
       "</table>\n",
       "</div>"
      ],
      "text/plain": [
       "      scientific_name            park_name  observations\n",
       "872   Riparia riparia  Bryce National Park            89\n",
       "1259  Riparia riparia  Bryce National Park            89"
      ]
     },
     "execution_count": 1433,
     "metadata": {},
     "output_type": "execute_result"
    }
   ],
   "source": [
    "# 22 (Cont.)\n",
    "\n",
    "parks[(parks.scientific_name == 'Riparia riparia') & (parks.park_name == 'Bryce National Park')]"
   ]
  },
  {
   "attachments": {},
   "cell_type": "markdown",
   "metadata": {},
   "source": [
    "Everything checks out!  The duplicate ```scientific_name``` and ```park_name``` values now have duplicate ```observations``` values as well, which are equal to the average of the observations between the duplicates.  Now we can simply just drop the duplicate rows of the dataframe since they are equal.\n",
    "\n",
    "23. Now that the values have been correctly updated, you can drop the duplicates"
   ]
  },
  {
   "cell_type": "code",
   "execution_count": 1434,
   "metadata": {},
   "outputs": [
    {
     "name": "stdout",
     "output_type": "stream",
     "text": [
      "Number of duplicates: 1117\n",
      "Length before dropping duplicates: 23281\n",
      "Length after dropping duplicates: 22164\n",
      "Difference between before and after: 23281 - 22164 = 1117 duplicates dropped\n",
      "Duplicates in dataframe: 0\n",
      "Duplicates between 'scientific_name' and 'park_name' columns: 0\n"
     ]
    }
   ],
   "source": [
    "# 23\n",
    "\n",
    "print(f'Number of duplicates: {parks.duplicated().sum()}')\n",
    "\n",
    "before = len(parks)\n",
    "print(f'Length before dropping duplicates: {before}')\n",
    "\n",
    "parks.drop_duplicates(inplace=True)\n",
    "\n",
    "after = len(parks)\n",
    "print(f'Length after dropping duplicates: {after}')\n",
    "\n",
    "print(f'Difference between before and after: {before} - {after} = {before - after} duplicates dropped')\n",
    "print(f'Duplicates in dataframe: {parks.duplicated().sum()}')\n",
    "\n",
    "dup = parks[['scientific_name', 'park_name']].duplicated().sum()\n",
    "print(f'Duplicates between \\'scientific_name\\' and \\'park_name\\' columns: {dup}')"
   ]
  },
  {
   "attachments": {},
   "cell_type": "markdown",
   "metadata": {},
   "source": [
    "Perfect!  Now the ```parks``` dataframe contains each species number of observations ONCE per park.\n",
    "\n",
    "The ```species``` and ```parks``` dataframes cleaned up and ready for further analysis!\n",
    "\n",
    "24. Do a final summary statistics check on the ```species``` dataframe\n",
    "25. Do a final summary statistics check on the ```parks``` dataframe"
   ]
  },
  {
   "cell_type": "code",
   "execution_count": 1435,
   "metadata": {},
   "outputs": [
    {
     "name": "stdout",
     "output_type": "stream",
     "text": [
      "<class 'pandas.core.frame.DataFrame'>\n",
      "Int64Index: 5541 entries, 0 to 5823\n",
      "Data columns (total 4 columns):\n",
      " #   Column               Non-Null Count  Dtype \n",
      "---  ------               --------------  ----- \n",
      " 0   category             5541 non-null   object\n",
      " 1   scientific_name      5541 non-null   object\n",
      " 2   common_names         5541 non-null   object\n",
      " 3   conservation_status  5541 non-null   object\n",
      "dtypes: object(4)\n",
      "memory usage: 216.4+ KB\n"
     ]
    }
   ],
   "source": [
    "# 24\n",
    "\n",
    "species.info()"
   ]
  },
  {
   "cell_type": "code",
   "execution_count": 1436,
   "metadata": {},
   "outputs": [
    {
     "data": {
      "text/html": [
       "<div>\n",
       "<style scoped>\n",
       "    .dataframe tbody tr th:only-of-type {\n",
       "        vertical-align: middle;\n",
       "    }\n",
       "\n",
       "    .dataframe tbody tr th {\n",
       "        vertical-align: top;\n",
       "    }\n",
       "\n",
       "    .dataframe thead th {\n",
       "        text-align: right;\n",
       "    }\n",
       "</style>\n",
       "<table border=\"1\" class=\"dataframe\">\n",
       "  <thead>\n",
       "    <tr style=\"text-align: right;\">\n",
       "      <th></th>\n",
       "      <th>category</th>\n",
       "      <th>scientific_name</th>\n",
       "      <th>common_names</th>\n",
       "      <th>conservation_status</th>\n",
       "    </tr>\n",
       "  </thead>\n",
       "  <tbody>\n",
       "    <tr>\n",
       "      <th>count</th>\n",
       "      <td>5541</td>\n",
       "      <td>5541</td>\n",
       "      <td>5541</td>\n",
       "      <td>5541</td>\n",
       "    </tr>\n",
       "    <tr>\n",
       "      <th>unique</th>\n",
       "      <td>7</td>\n",
       "      <td>5541</td>\n",
       "      <td>5229</td>\n",
       "      <td>5</td>\n",
       "    </tr>\n",
       "    <tr>\n",
       "      <th>top</th>\n",
       "      <td>Vascular Plant</td>\n",
       "      <td>Clethrionomys gapperi gapperi</td>\n",
       "      <td>Brachythecium Moss</td>\n",
       "      <td>Not at Risk</td>\n",
       "    </tr>\n",
       "    <tr>\n",
       "      <th>freq</th>\n",
       "      <td>4262</td>\n",
       "      <td>1</td>\n",
       "      <td>7</td>\n",
       "      <td>5363</td>\n",
       "    </tr>\n",
       "  </tbody>\n",
       "</table>\n",
       "</div>"
      ],
      "text/plain": [
       "              category                scientific_name        common_names  \\\n",
       "count             5541                           5541                5541   \n",
       "unique               7                           5541                5229   \n",
       "top     Vascular Plant  Clethrionomys gapperi gapperi  Brachythecium Moss   \n",
       "freq              4262                              1                   7   \n",
       "\n",
       "       conservation_status  \n",
       "count                 5541  \n",
       "unique                   5  \n",
       "top            Not at Risk  \n",
       "freq                  5363  "
      ]
     },
     "execution_count": 1436,
     "metadata": {},
     "output_type": "execute_result"
    }
   ],
   "source": [
    "# 24 (Cont.)\n",
    "\n",
    "species.describe(include='all')"
   ]
  },
  {
   "cell_type": "code",
   "execution_count": 1437,
   "metadata": {},
   "outputs": [
    {
     "name": "stdout",
     "output_type": "stream",
     "text": [
      "<class 'pandas.core.frame.DataFrame'>\n",
      "Int64Index: 22164 entries, 0 to 23295\n",
      "Data columns (total 3 columns):\n",
      " #   Column           Non-Null Count  Dtype \n",
      "---  ------           --------------  ----- \n",
      " 0   scientific_name  22164 non-null  object\n",
      " 1   park_name        22164 non-null  object\n",
      " 2   observations     22164 non-null  int64 \n",
      "dtypes: int64(1), object(2)\n",
      "memory usage: 692.6+ KB\n"
     ]
    }
   ],
   "source": [
    "# 25\n",
    "\n",
    "parks.info()"
   ]
  },
  {
   "cell_type": "code",
   "execution_count": 1438,
   "metadata": {},
   "outputs": [
    {
     "data": {
      "text/html": [
       "<div>\n",
       "<style scoped>\n",
       "    .dataframe tbody tr th:only-of-type {\n",
       "        vertical-align: middle;\n",
       "    }\n",
       "\n",
       "    .dataframe tbody tr th {\n",
       "        vertical-align: top;\n",
       "    }\n",
       "\n",
       "    .dataframe thead th {\n",
       "        text-align: right;\n",
       "    }\n",
       "</style>\n",
       "<table border=\"1\" class=\"dataframe\">\n",
       "  <thead>\n",
       "    <tr style=\"text-align: right;\">\n",
       "      <th></th>\n",
       "      <th>scientific_name</th>\n",
       "      <th>park_name</th>\n",
       "      <th>observations</th>\n",
       "    </tr>\n",
       "  </thead>\n",
       "  <tbody>\n",
       "    <tr>\n",
       "      <th>count</th>\n",
       "      <td>22164</td>\n",
       "      <td>22164</td>\n",
       "      <td>22164.000000</td>\n",
       "    </tr>\n",
       "    <tr>\n",
       "      <th>unique</th>\n",
       "      <td>5541</td>\n",
       "      <td>4</td>\n",
       "      <td>NaN</td>\n",
       "    </tr>\n",
       "    <tr>\n",
       "      <th>top</th>\n",
       "      <td>Vicia benghalensis</td>\n",
       "      <td>Great Smoky Mountains National Park</td>\n",
       "      <td>NaN</td>\n",
       "    </tr>\n",
       "    <tr>\n",
       "      <th>freq</th>\n",
       "      <td>4</td>\n",
       "      <td>5541</td>\n",
       "      <td>NaN</td>\n",
       "    </tr>\n",
       "    <tr>\n",
       "      <th>mean</th>\n",
       "      <td>NaN</td>\n",
       "      <td>NaN</td>\n",
       "      <td>142.302472</td>\n",
       "    </tr>\n",
       "    <tr>\n",
       "      <th>std</th>\n",
       "      <td>NaN</td>\n",
       "      <td>NaN</td>\n",
       "      <td>69.806198</td>\n",
       "    </tr>\n",
       "    <tr>\n",
       "      <th>min</th>\n",
       "      <td>NaN</td>\n",
       "      <td>NaN</td>\n",
       "      <td>9.000000</td>\n",
       "    </tr>\n",
       "    <tr>\n",
       "      <th>25%</th>\n",
       "      <td>NaN</td>\n",
       "      <td>NaN</td>\n",
       "      <td>86.000000</td>\n",
       "    </tr>\n",
       "    <tr>\n",
       "      <th>50%</th>\n",
       "      <td>NaN</td>\n",
       "      <td>NaN</td>\n",
       "      <td>124.000000</td>\n",
       "    </tr>\n",
       "    <tr>\n",
       "      <th>75%</th>\n",
       "      <td>NaN</td>\n",
       "      <td>NaN</td>\n",
       "      <td>195.000000</td>\n",
       "    </tr>\n",
       "    <tr>\n",
       "      <th>max</th>\n",
       "      <td>NaN</td>\n",
       "      <td>NaN</td>\n",
       "      <td>321.000000</td>\n",
       "    </tr>\n",
       "  </tbody>\n",
       "</table>\n",
       "</div>"
      ],
      "text/plain": [
       "           scientific_name                            park_name  observations\n",
       "count                22164                                22164  22164.000000\n",
       "unique                5541                                    4           NaN\n",
       "top     Vicia benghalensis  Great Smoky Mountains National Park           NaN\n",
       "freq                     4                                 5541           NaN\n",
       "mean                   NaN                                  NaN    142.302472\n",
       "std                    NaN                                  NaN     69.806198\n",
       "min                    NaN                                  NaN      9.000000\n",
       "25%                    NaN                                  NaN     86.000000\n",
       "50%                    NaN                                  NaN    124.000000\n",
       "75%                    NaN                                  NaN    195.000000\n",
       "max                    NaN                                  NaN    321.000000"
      ]
     },
     "execution_count": 1438,
     "metadata": {},
     "output_type": "execute_result"
    }
   ],
   "source": [
    "# 25 (Cont.)\n",
    "\n",
    "parks.describe(include='all')"
   ]
  },
  {
   "attachments": {},
   "cell_type": "markdown",
   "metadata": {},
   "source": [
    "The dataframes look great!  Each dataframe contains 0 null values and 5541 unique values for the ```scientific_name``` column.  The only time there will be a duplicate ```scientific_name``` value in the ```parks``` dataframe is when the scientific name corresponds to a different ```park_name``` value.  Therefore, since there are four unique ```park_name``` values, there can be a maximum of four identical ```scientific_name``` values corresponding to a different unique ```park_name``` value with each occurance.\n",
    "\n",
    "The final step you need to take before looking further into the data is to merge the two dataframes.  This will make plotting our findings much easier.\n",
    "\n",
    "26. Merge the ```species``` and ```parks``` dataframes by inner merging ```species``` onto ```parks```"
   ]
  },
  {
   "cell_type": "code",
   "execution_count": 1439,
   "metadata": {},
   "outputs": [],
   "source": [
    "# 26\n",
    "\n",
    "parks_species = parks.merge(species)"
   ]
  },
  {
   "cell_type": "code",
   "execution_count": 1440,
   "metadata": {},
   "outputs": [
    {
     "data": {
      "text/html": [
       "<div>\n",
       "<style scoped>\n",
       "    .dataframe tbody tr th:only-of-type {\n",
       "        vertical-align: middle;\n",
       "    }\n",
       "\n",
       "    .dataframe tbody tr th {\n",
       "        vertical-align: top;\n",
       "    }\n",
       "\n",
       "    .dataframe thead th {\n",
       "        text-align: right;\n",
       "    }\n",
       "</style>\n",
       "<table border=\"1\" class=\"dataframe\">\n",
       "  <thead>\n",
       "    <tr style=\"text-align: right;\">\n",
       "      <th></th>\n",
       "      <th>scientific_name</th>\n",
       "      <th>park_name</th>\n",
       "      <th>observations</th>\n",
       "      <th>category</th>\n",
       "      <th>common_names</th>\n",
       "      <th>conservation_status</th>\n",
       "    </tr>\n",
       "  </thead>\n",
       "  <tbody>\n",
       "    <tr>\n",
       "      <th>0</th>\n",
       "      <td>Vicia benghalensis</td>\n",
       "      <td>Great Smoky Mountains National Park</td>\n",
       "      <td>68</td>\n",
       "      <td>Vascular Plant</td>\n",
       "      <td>Purple Vetch, Reddish Tufted Vetch</td>\n",
       "      <td>Not at Risk</td>\n",
       "    </tr>\n",
       "    <tr>\n",
       "      <th>1</th>\n",
       "      <td>Vicia benghalensis</td>\n",
       "      <td>Yosemite National Park</td>\n",
       "      <td>148</td>\n",
       "      <td>Vascular Plant</td>\n",
       "      <td>Purple Vetch, Reddish Tufted Vetch</td>\n",
       "      <td>Not at Risk</td>\n",
       "    </tr>\n",
       "    <tr>\n",
       "      <th>2</th>\n",
       "      <td>Vicia benghalensis</td>\n",
       "      <td>Yellowstone National Park</td>\n",
       "      <td>247</td>\n",
       "      <td>Vascular Plant</td>\n",
       "      <td>Purple Vetch, Reddish Tufted Vetch</td>\n",
       "      <td>Not at Risk</td>\n",
       "    </tr>\n",
       "    <tr>\n",
       "      <th>3</th>\n",
       "      <td>Vicia benghalensis</td>\n",
       "      <td>Bryce National Park</td>\n",
       "      <td>104</td>\n",
       "      <td>Vascular Plant</td>\n",
       "      <td>Purple Vetch, Reddish Tufted Vetch</td>\n",
       "      <td>Not at Risk</td>\n",
       "    </tr>\n",
       "    <tr>\n",
       "      <th>4</th>\n",
       "      <td>Neovison vison</td>\n",
       "      <td>Great Smoky Mountains National Park</td>\n",
       "      <td>77</td>\n",
       "      <td>Mammal</td>\n",
       "      <td>American Mink</td>\n",
       "      <td>Not at Risk</td>\n",
       "    </tr>\n",
       "  </tbody>\n",
       "</table>\n",
       "</div>"
      ],
      "text/plain": [
       "      scientific_name                            park_name  observations  \\\n",
       "0  Vicia benghalensis  Great Smoky Mountains National Park            68   \n",
       "1  Vicia benghalensis               Yosemite National Park           148   \n",
       "2  Vicia benghalensis            Yellowstone National Park           247   \n",
       "3  Vicia benghalensis                  Bryce National Park           104   \n",
       "4      Neovison vison  Great Smoky Mountains National Park            77   \n",
       "\n",
       "         category                        common_names conservation_status  \n",
       "0  Vascular Plant  Purple Vetch, Reddish Tufted Vetch         Not at Risk  \n",
       "1  Vascular Plant  Purple Vetch, Reddish Tufted Vetch         Not at Risk  \n",
       "2  Vascular Plant  Purple Vetch, Reddish Tufted Vetch         Not at Risk  \n",
       "3  Vascular Plant  Purple Vetch, Reddish Tufted Vetch         Not at Risk  \n",
       "4          Mammal                       American Mink         Not at Risk  "
      ]
     },
     "execution_count": 1440,
     "metadata": {},
     "output_type": "execute_result"
    }
   ],
   "source": [
    "# 26\n",
    "\n",
    "parks_species.head()"
   ]
  },
  {
   "attachments": {},
   "cell_type": "markdown",
   "metadata": {},
   "source": [
    "By inner merging ```species``` onto ```parks```, the dataframe merges on the common columns, which in this case, was the ```scientific_name``` column.  \n",
    "\n",
    "Time to move into further exploration of the data!"
   ]
  },
  {
   "attachments": {},
   "cell_type": "markdown",
   "metadata": {},
   "source": [
    "---"
   ]
  },
  {
   "attachments": {},
   "cell_type": "markdown",
   "metadata": {},
   "source": [
    "# Section 3 - Exploring the Data - Part 1\n",
    "### _Conservation Statuses within Different Parks_\n",
    "With a \\'tidy\\' pair of dataframes, you can now dive into deeper exploration of the data.\n",
    "\n",
    "In this analysis, you want to find out if there are any common factors amongst endangered species in order to prevent other species becoming endangered in the future.  For this section, the focus will be on the observations of different conservation statuses within different parks.\n",
    "\n",
    "27. Find out which parks have the highest amount of \\'Not at Risk\\' species\n",
    "28. Look at the total observations for all ```conservation_status``` values within every park"
   ]
  },
  {
   "cell_type": "code",
   "execution_count": 1441,
   "metadata": {},
   "outputs": [],
   "source": [
    "# 27\n",
    "\n",
    "not_at_risk = parks_species[parks_species.conservation_status == 'Not at Risk']"
   ]
  },
  {
   "cell_type": "code",
   "execution_count": 1442,
   "metadata": {},
   "outputs": [
    {
     "data": {
      "image/png": "[encoded data removed]",
      "text/plain": [
       "<Figure size 640x480 with 1 Axes>"
      ]
     },
     "metadata": {},
     "output_type": "display_data"
    },
    {
     "data": {
      "text/plain": [
       "<Figure size 640x480 with 0 Axes>"
      ]
     },
     "metadata": {},
     "output_type": "display_data"
    }
   ],
   "source": [
    "# 27\n",
    "\n",
    "sns.scatterplot(data=not_at_risk, x='park_name', y='observations')\n",
    "ax = plt.subplot()\n",
    "ax.set_xticks(range(len(not_at_risk.park_name.unique())))\n",
    "ax.set_xticklabels(not_at_risk.park_name.unique(), rotation=30)\n",
    "plt.title('\\'Not at Risk\\' Observations Per Park')\n",
    "plt.xlabel('National Park')\n",
    "plt.ylabel('Number of Observations')\n",
    "plt.show()\n",
    "plt.clf()"
   ]
  },
  {
   "attachments": {},
   "cell_type": "markdown",
   "metadata": {},
   "source": [
    "You can see that the highest number of 'Not at Risk' species observations is in Yellowstone National Park.  This chart is really just for curiousity because this doesn't necessarily mean that Yellowstone is a 'safer' park for a particular species.  This could be for a variety of reasons such as the park could being larger than the other parks or the park having a larger species population, etc."
   ]
  },
  {
   "cell_type": "code",
   "execution_count": 1443,
   "metadata": {},
   "outputs": [],
   "source": [
    "# 28\n",
    "\n",
    "observations_per_park = parks_species.groupby(['park_name', 'conservation_status']).observations.sum().reset_index()"
   ]
  },
  {
   "cell_type": "code",
   "execution_count": 1444,
   "metadata": {},
   "outputs": [],
   "source": [
    "# 28 (Cont.)\n",
    "\n",
    "observations_per_park_pivot = observations_per_park.pivot(\n",
    "  index='park_name',\n",
    "  columns='conservation_status',\n",
    "  values='observations'\n",
    ")"
   ]
  },
  {
   "cell_type": "code",
   "execution_count": 1445,
   "metadata": {},
   "outputs": [
    {
     "data": {
      "text/html": [
       "<div>\n",
       "<style scoped>\n",
       "    .dataframe tbody tr th:only-of-type {\n",
       "        vertical-align: middle;\n",
       "    }\n",
       "\n",
       "    .dataframe tbody tr th {\n",
       "        vertical-align: top;\n",
       "    }\n",
       "\n",
       "    .dataframe thead th {\n",
       "        text-align: right;\n",
       "    }\n",
       "</style>\n",
       "<table border=\"1\" class=\"dataframe\">\n",
       "  <thead>\n",
       "    <tr style=\"text-align: right;\">\n",
       "      <th>conservation_status</th>\n",
       "      <th>Endangered</th>\n",
       "      <th>In Recovery</th>\n",
       "      <th>Not at Risk</th>\n",
       "      <th>Species of Concern</th>\n",
       "      <th>Threatened</th>\n",
       "    </tr>\n",
       "    <tr>\n",
       "      <th>park_name</th>\n",
       "      <th></th>\n",
       "      <th></th>\n",
       "      <th></th>\n",
       "      <th></th>\n",
       "      <th></th>\n",
       "    </tr>\n",
       "  </thead>\n",
       "  <tbody>\n",
       "    <tr>\n",
       "      <th>Bryce National Park</th>\n",
       "      <td>402</td>\n",
       "      <td>258</td>\n",
       "      <td>533093</td>\n",
       "      <td>13979</td>\n",
       "      <td>427</td>\n",
       "    </tr>\n",
       "    <tr>\n",
       "      <th>Great Smoky Mountains National Park</th>\n",
       "      <td>294</td>\n",
       "      <td>189</td>\n",
       "      <td>400343</td>\n",
       "      <td>9659</td>\n",
       "      <td>340</td>\n",
       "    </tr>\n",
       "    <tr>\n",
       "      <th>Yellowstone National Park</th>\n",
       "      <td>1008</td>\n",
       "      <td>559</td>\n",
       "      <td>1337313</td>\n",
       "      <td>33569</td>\n",
       "      <td>1087</td>\n",
       "    </tr>\n",
       "    <tr>\n",
       "      <th>Yosemite National Park</th>\n",
       "      <td>616</td>\n",
       "      <td>386</td>\n",
       "      <td>799611</td>\n",
       "      <td>20187</td>\n",
       "      <td>672</td>\n",
       "    </tr>\n",
       "  </tbody>\n",
       "</table>\n",
       "</div>"
      ],
      "text/plain": [
       "conservation_status                  Endangered  In Recovery  Not at Risk  \\\n",
       "park_name                                                                   \n",
       "Bryce National Park                         402          258       533093   \n",
       "Great Smoky Mountains National Park         294          189       400343   \n",
       "Yellowstone National Park                  1008          559      1337313   \n",
       "Yosemite National Park                      616          386       799611   \n",
       "\n",
       "conservation_status                  Species of Concern  Threatened  \n",
       "park_name                                                            \n",
       "Bryce National Park                               13979         427  \n",
       "Great Smoky Mountains National Park                9659         340  \n",
       "Yellowstone National Park                         33569        1087  \n",
       "Yosemite National Park                            20187         672  "
      ]
     },
     "execution_count": 1445,
     "metadata": {},
     "output_type": "execute_result"
    }
   ],
   "source": [
    "# 28 (Cont.)\n",
    "\n",
    "observations_per_park_pivot"
   ]
  },
  {
   "cell_type": "code",
   "execution_count": 1446,
   "metadata": {},
   "outputs": [
    {
     "data": {
      "text/plain": [
       "park_name\n",
       "Bryce National Park                     548159\n",
       "Great Smoky Mountains National Park     410825\n",
       "Yellowstone National Park              1373536\n",
       "Yosemite National Park                  821472\n",
       "dtype: int64"
      ]
     },
     "execution_count": 1446,
     "metadata": {},
     "output_type": "execute_result"
    }
   ],
   "source": [
    "# 28 (Cont.)\n",
    "\n",
    "# Using .sum() and specifying axis 1 will add up all the values across the rows instead of down the columns\n",
    "\n",
    "observations_per_park_pivot.sum(axis=1)"
   ]
  },
  {
   "attachments": {},
   "cell_type": "markdown",
   "metadata": {},
   "source": [
    "Now that you have a pivot table, you can see the total population for every conservation status in every national park.  In order to learn more from the pivot table, you can calculate the total observations for every conservation status and then find the percentages of the different conservation statuses within each park.\n",
    "\n",
    "You don't just want to make calculations, it would be nice to save the calculations into a variable as well.  You can update the entire pivot table into percentages but this would alter the currrent pivot table.  To avoid this, create a new variable and use the ```.copy()``` method to make a copy of the original pivot table.  If you don't use the ```.copy()``` method, then any alterations applied to the new pivot table variable will also apply to the original, though it is not directly referenced. \n",
    "\n",
    "29. Create a copy of the original pivot table using ```.copy()```\n",
    "30. Update the new pivot table variable with percentages for every conservation status in each park"
   ]
  },
  {
   "cell_type": "code",
   "execution_count": 1447,
   "metadata": {},
   "outputs": [],
   "source": [
    "# 29\n",
    "\n",
    "observations_per_park_pivot_percent = observations_per_park_pivot.copy()"
   ]
  },
  {
   "cell_type": "code",
   "execution_count": 1448,
   "metadata": {},
   "outputs": [
    {
     "name": "stdout",
     "output_type": "stream",
     "text": [
      "['Bryce National Park', 548159]\n",
      "['Great Smoky Mountains National Park', 410825]\n",
      "['Yellowstone National Park', 1373536]\n",
      "['Yosemite National Park', 821472]\n"
     ]
    }
   ],
   "source": [
    "# 30\n",
    "\n",
    "bryce_park_total = [observations_per_park_pivot.sum(axis=1).index[0], observations_per_park_pivot.sum(axis=1)[0]]\n",
    "smokies_park_total = [observations_per_park_pivot.sum(axis=1).index[1], observations_per_park_pivot.sum(axis=1)[1]]\n",
    "yellowstone_park_total = [observations_per_park_pivot.sum(axis=1).index[2], observations_per_park_pivot.sum(axis=1)[2]]\n",
    "yosemite_park_total = [observations_per_park_pivot.sum(axis=1).index[3], observations_per_park_pivot.sum(axis=1)[3]]\n",
    "\n",
    "print(bryce_park_total)\n",
    "print(smokies_park_total)\n",
    "print(yellowstone_park_total)\n",
    "print(yosemite_park_total)\n",
    "\n",
    "park_list = [bryce_park_total, smokies_park_total, yellowstone_park_total, yosemite_park_total]"
   ]
  },
  {
   "cell_type": "code",
   "execution_count": 1449,
   "metadata": {},
   "outputs": [],
   "source": [
    "# 30 (Cont.)\n",
    "\n",
    "for i in range(len(observations_per_park_pivot_percent.index)):\n",
    "    observations_per_park_pivot_percent.iloc[i] = observations_per_park_pivot_percent.iloc[i].apply(lambda x: round((x / park_list[i][1]) * 100, 3))"
   ]
  },
  {
   "cell_type": "code",
   "execution_count": 1450,
   "metadata": {},
   "outputs": [
    {
     "data": {
      "text/html": [
       "<div>\n",
       "<style scoped>\n",
       "    .dataframe tbody tr th:only-of-type {\n",
       "        vertical-align: middle;\n",
       "    }\n",
       "\n",
       "    .dataframe tbody tr th {\n",
       "        vertical-align: top;\n",
       "    }\n",
       "\n",
       "    .dataframe thead th {\n",
       "        text-align: right;\n",
       "    }\n",
       "</style>\n",
       "<table border=\"1\" class=\"dataframe\">\n",
       "  <thead>\n",
       "    <tr style=\"text-align: right;\">\n",
       "      <th>conservation_status</th>\n",
       "      <th>Endangered</th>\n",
       "      <th>In Recovery</th>\n",
       "      <th>Not at Risk</th>\n",
       "      <th>Species of Concern</th>\n",
       "      <th>Threatened</th>\n",
       "    </tr>\n",
       "    <tr>\n",
       "      <th>park_name</th>\n",
       "      <th></th>\n",
       "      <th></th>\n",
       "      <th></th>\n",
       "      <th></th>\n",
       "      <th></th>\n",
       "    </tr>\n",
       "  </thead>\n",
       "  <tbody>\n",
       "    <tr>\n",
       "      <th>Bryce National Park</th>\n",
       "      <td>0.073</td>\n",
       "      <td>0.047</td>\n",
       "      <td>97.252</td>\n",
       "      <td>2.550</td>\n",
       "      <td>0.078</td>\n",
       "    </tr>\n",
       "    <tr>\n",
       "      <th>Great Smoky Mountains National Park</th>\n",
       "      <td>0.072</td>\n",
       "      <td>0.046</td>\n",
       "      <td>97.449</td>\n",
       "      <td>2.351</td>\n",
       "      <td>0.083</td>\n",
       "    </tr>\n",
       "    <tr>\n",
       "      <th>Yellowstone National Park</th>\n",
       "      <td>0.073</td>\n",
       "      <td>0.041</td>\n",
       "      <td>97.363</td>\n",
       "      <td>2.444</td>\n",
       "      <td>0.079</td>\n",
       "    </tr>\n",
       "    <tr>\n",
       "      <th>Yosemite National Park</th>\n",
       "      <td>0.075</td>\n",
       "      <td>0.047</td>\n",
       "      <td>97.339</td>\n",
       "      <td>2.457</td>\n",
       "      <td>0.082</td>\n",
       "    </tr>\n",
       "  </tbody>\n",
       "</table>\n",
       "</div>"
      ],
      "text/plain": [
       "conservation_status                  Endangered  In Recovery  Not at Risk  \\\n",
       "park_name                                                                   \n",
       "Bryce National Park                       0.073        0.047       97.252   \n",
       "Great Smoky Mountains National Park       0.072        0.046       97.449   \n",
       "Yellowstone National Park                 0.073        0.041       97.363   \n",
       "Yosemite National Park                    0.075        0.047       97.339   \n",
       "\n",
       "conservation_status                  Species of Concern  Threatened  \n",
       "park_name                                                            \n",
       "Bryce National Park                               2.550       0.078  \n",
       "Great Smoky Mountains National Park               2.351       0.083  \n",
       "Yellowstone National Park                         2.444       0.079  \n",
       "Yosemite National Park                            2.457       0.082  "
      ]
     },
     "execution_count": 1450,
     "metadata": {},
     "output_type": "execute_result"
    }
   ],
   "source": [
    "# 30 (Cont.)\n",
    "\n",
    "observations_per_park_pivot_percent"
   ]
  },
  {
   "cell_type": "code",
   "execution_count": 1451,
   "metadata": {},
   "outputs": [
    {
     "data": {
      "text/html": [
       "<div>\n",
       "<style scoped>\n",
       "    .dataframe tbody tr th:only-of-type {\n",
       "        vertical-align: middle;\n",
       "    }\n",
       "\n",
       "    .dataframe tbody tr th {\n",
       "        vertical-align: top;\n",
       "    }\n",
       "\n",
       "    .dataframe thead th {\n",
       "        text-align: right;\n",
       "    }\n",
       "</style>\n",
       "<table border=\"1\" class=\"dataframe\">\n",
       "  <thead>\n",
       "    <tr style=\"text-align: right;\">\n",
       "      <th>conservation_status</th>\n",
       "      <th>Endangered</th>\n",
       "      <th>In Recovery</th>\n",
       "      <th>Not at Risk</th>\n",
       "      <th>Species of Concern</th>\n",
       "      <th>Threatened</th>\n",
       "    </tr>\n",
       "    <tr>\n",
       "      <th>park_name</th>\n",
       "      <th></th>\n",
       "      <th></th>\n",
       "      <th></th>\n",
       "      <th></th>\n",
       "      <th></th>\n",
       "    </tr>\n",
       "  </thead>\n",
       "  <tbody>\n",
       "    <tr>\n",
       "      <th>Bryce National Park</th>\n",
       "      <td>402</td>\n",
       "      <td>258</td>\n",
       "      <td>533093</td>\n",
       "      <td>13979</td>\n",
       "      <td>427</td>\n",
       "    </tr>\n",
       "    <tr>\n",
       "      <th>Great Smoky Mountains National Park</th>\n",
       "      <td>294</td>\n",
       "      <td>189</td>\n",
       "      <td>400343</td>\n",
       "      <td>9659</td>\n",
       "      <td>340</td>\n",
       "    </tr>\n",
       "    <tr>\n",
       "      <th>Yellowstone National Park</th>\n",
       "      <td>1008</td>\n",
       "      <td>559</td>\n",
       "      <td>1337313</td>\n",
       "      <td>33569</td>\n",
       "      <td>1087</td>\n",
       "    </tr>\n",
       "    <tr>\n",
       "      <th>Yosemite National Park</th>\n",
       "      <td>616</td>\n",
       "      <td>386</td>\n",
       "      <td>799611</td>\n",
       "      <td>20187</td>\n",
       "      <td>672</td>\n",
       "    </tr>\n",
       "  </tbody>\n",
       "</table>\n",
       "</div>"
      ],
      "text/plain": [
       "conservation_status                  Endangered  In Recovery  Not at Risk  \\\n",
       "park_name                                                                   \n",
       "Bryce National Park                         402          258       533093   \n",
       "Great Smoky Mountains National Park         294          189       400343   \n",
       "Yellowstone National Park                  1008          559      1337313   \n",
       "Yosemite National Park                      616          386       799611   \n",
       "\n",
       "conservation_status                  Species of Concern  Threatened  \n",
       "park_name                                                            \n",
       "Bryce National Park                               13979         427  \n",
       "Great Smoky Mountains National Park                9659         340  \n",
       "Yellowstone National Park                         33569        1087  \n",
       "Yosemite National Park                            20187         672  "
      ]
     },
     "execution_count": 1451,
     "metadata": {},
     "output_type": "execute_result"
    }
   ],
   "source": [
    "# 30 (Cont.)\n",
    "\n",
    "observations_per_park_pivot"
   ]
  },
  {
   "attachments": {},
   "cell_type": "markdown",
   "metadata": {},
   "source": [
    "Now you have two seperate pivot tables, one with the number of observations per park, and one with the percentage of observations per park!\n",
    "\n",
    "What is the takeaway from doing this though?  \n",
    "\n",
    "Well, take a look at the pivot table directly above, with the number of observations.  It looks as if the 'safest' park for wildlife is Yellowstone.  It also looks like that is the 'most dangerous' park for wildlife as well.  It's hard to interpret what you're really looking at.  This is why you created the pivot table containing percentages instead!\n",
    "\n",
    "Look at the pivot table above the one with the number of observations, the one that contains the decimal numbers as values (The percentages).  There is an incredibly small amount of variation between the percentages of each conservation status within each park.  \n",
    "\n",
    "Findings:\n",
    "- ```There are near equal proportions of each conservation status within each park.``` \n",
    "\n",
    "In the comparison of observations between conservation statuses within different parks, we can conclude that they are relatively equal.  The good thing is, there are other columns of data to still explore, and you have learned something important about the data that can be used moving forward."
   ]
  },
  {
   "attachments": {},
   "cell_type": "markdown",
   "metadata": {},
   "source": [
    "---"
   ]
  },
  {
   "attachments": {},
   "cell_type": "markdown",
   "metadata": {},
   "source": [
    "# Section 3 - Exploring the Data - Part 2\n",
    "### _The Purpose of Cleaning Data_\n",
    "Before exploring any further, you want to go through the importance of why data needs to be cleaned by visualizing some graphs/charts.\n",
    "\n",
    "For the remainder of the analysis you'll use a dataframe that excludes the 'Not at Risk' ```conservation_status```.  This is due to the fact that the proportion of species that are 'Not at Risk' exceeds the other ```conservation_status``` values by so much that the graphs/charts can't be read.  This is fine, as long as we understand the actual proportions of the data with the 'Not at Risk' values included.\n",
    "\n",
    "31. An example of keeping the 'Not at Risk' values in your graphs/charts\n",
    "32. Create dataframe that excludes the 'Not at Risk' values"
   ]
  },
  {
   "cell_type": "code",
   "execution_count": 1452,
   "metadata": {},
   "outputs": [
    {
     "data": {
      "image/png": "[encoded data removed]",
      "text/plain": [
       "<Figure size 640x480 with 1 Axes>"
      ]
     },
     "metadata": {},
     "output_type": "display_data"
    },
    {
     "data": {
      "text/plain": [
       "<Figure size 640x480 with 0 Axes>"
      ]
     },
     "metadata": {},
     "output_type": "display_data"
    }
   ],
   "source": [
    "# 31\n",
    "\n",
    "sns.countplot(data=parks_species, x='category', hue='conservation_status')\n",
    "ax = plt.subplot()\n",
    "ax.set_xticks(range(len(parks_species.category.unique())))\n",
    "ax.set_xticklabels(parks_species.category.unique(), rotation=30)\n",
    "plt.title('# of Obsv\\'s of Species in each Category based off Conservation Status')\n",
    "plt.ylabel('Number of Observations')\n",
    "plt.xlabel('Category of Species')\n",
    "plt.legend(title='Conservation Status')\n",
    "plt.show()\n",
    "plt.clf()"
   ]
  },
  {
   "attachments": {},
   "cell_type": "markdown",
   "metadata": {},
   "source": [
    "Not much to see here!  Let's fix that!"
   ]
  },
  {
   "cell_type": "code",
   "execution_count": 1453,
   "metadata": {},
   "outputs": [
    {
     "name": "stdout",
     "output_type": "stream",
     "text": [
      "Length of original dataframe: 22164\n",
      "Length of dataframe including 'Not at Risk' values only: 21452\n",
      "Length of dataframe excluding 'Not at Risk': 712\n",
      "Length after adding the included and excluded dataframes: 22164\n"
     ]
    }
   ],
   "source": [
    "# 32\n",
    "\n",
    "pk_sp_nar_excluded = parks_species[parks_species.conservation_status != 'Not at Risk']\n",
    "pk_sp_nar_included = parks_species[parks_species.conservation_status == 'Not at Risk']\n",
    "\n",
    "print(f'Length of original dataframe: {len(parks_species)}')\n",
    "print(f'Length of dataframe including \\'Not at Risk\\' values only: {len(pk_sp_nar_included)}')\n",
    "print(f'Length of dataframe excluding \\'Not at Risk\\': {len(pk_sp_nar_excluded)}')\n",
    "print(f'Length after adding the included and excluded dataframes: {len(pk_sp_nar_excluded) + len(pk_sp_nar_included)}')\n"
   ]
  },
  {
   "cell_type": "code",
   "execution_count": 1454,
   "metadata": {},
   "outputs": [
    {
     "data": {
      "text/plain": [
       "Species of Concern    604\n",
       "Endangered             60\n",
       "Threatened             36\n",
       "In Recovery            12\n",
       "Name: conservation_status, dtype: int64"
      ]
     },
     "execution_count": 1454,
     "metadata": {},
     "output_type": "execute_result"
    }
   ],
   "source": [
    "# 32 (Cont.)\n",
    "\n",
    "pk_sp_nar_excluded.conservation_status.value_counts()"
   ]
  },
  {
   "attachments": {},
   "cell_type": "markdown",
   "metadata": {},
   "source": [
    "You now have a dataframe that will be easier to plot with!  \n",
    "\n",
    "Time for some visualizations!\n",
    "\n",
    "33. Make a figure showing the proportions of observations for each conservation status within each park"
   ]
  },
  {
   "cell_type": "code",
   "execution_count": 1455,
   "metadata": {},
   "outputs": [
    {
     "data": {
      "image/png": "[encoded data removed]",
      "text/plain": [
       "<Figure size 1000x1000 with 4 Axes>"
      ]
     },
     "metadata": {},
     "output_type": "display_data"
    },
    {
     "data": {
      "text/plain": [
       "<Figure size 640x480 with 0 Axes>"
      ]
     },
     "metadata": {},
     "output_type": "display_data"
    }
   ],
   "source": [
    "# 33\n",
    "\n",
    "plt.figure(figsize=(10, 10))\n",
    "\n",
    "for i in range(len(pk_sp_nar_excluded.park_name.unique())):\n",
    "  \n",
    "  park_df = pk_sp_nar_excluded[pk_sp_nar_excluded.park_name == pk_sp_nar_excluded.park_name.unique()[i]]\n",
    "  park_df = park_df[['conservation_status', 'observations']]\n",
    "  park_df = park_df.groupby('conservation_status', sort=False).observations.sum()\n",
    "  pie_labels = park_df.index\n",
    "\n",
    "  plt.subplot(2, 2, i + 1)\n",
    "  plt.pie(park_df, autopct='%0.2f%%')\n",
    "  plt.axis('equal')\n",
    "  plt.title(f'{pk_sp_nar_excluded.park_name.unique()[i]} Obsvervation %\\'s')\n",
    "  plt.legend(pie_labels)\n",
    "\n",
    "plt.show()\n",
    "plt.clf()"
   ]
  },
  {
   "attachments": {},
   "cell_type": "markdown",
   "metadata": {},
   "source": [
    "In creating four separate pie charts, one for each park, you can see that the percentage of observations for each conservation status was nearly identical in each park.  This is basically the same as the pivot table earlier but without the 'Not at Risk' conservation status included.  You can see that the majority of species who are at some sort of risk, fall under the category of 'Species of Concern'.  \n",
    "\n",
    "These pie charts are informative and provide an accurate understanding of the data, but what would these look like if the data hadn't been cleaned properly?\n",
    "\n",
    "34. Reimport the original uncleaned datasets into new dataframe variables (So you don't alter the dataframe variables you've been working with)\n",
    "35. Inner merge the two uncleaned dataframes (Merge ```dirty_species``` onto ```dirty_parks```)\n",
    "36. Exclude the 'Nan' rows from the ```conservation_status``` column (Same as excluding 'Not at Risk' earlier)\n",
    "37. Visualize the uncleaned cleaned dataframe"
   ]
  },
  {
   "cell_type": "code",
   "execution_count": 1456,
   "metadata": {},
   "outputs": [],
   "source": [
    "# 34\n",
    "\n",
    "dirty_parks = pd.read_csv('observations.csv')\n",
    "dirty_species = pd.read_csv('species_info.csv')"
   ]
  },
  {
   "cell_type": "code",
   "execution_count": 1457,
   "metadata": {},
   "outputs": [],
   "source": [
    "# 35\n",
    "\n",
    "dirty_parks_species = dirty_parks.merge(dirty_species)"
   ]
  },
  {
   "cell_type": "code",
   "execution_count": 1458,
   "metadata": {},
   "outputs": [],
   "source": [
    "# 36\n",
    "\n",
    "dirty_parks_species = dirty_parks_species[dirty_parks_species.conservation_status.isna() == False]"
   ]
  },
  {
   "cell_type": "code",
   "execution_count": 1459,
   "metadata": {},
   "outputs": [
    {
     "data": {
      "image/png": "[encoded data removed]",
      "text/plain": [
       "<Figure size 1000x1000 with 4 Axes>"
      ]
     },
     "metadata": {},
     "output_type": "display_data"
    },
    {
     "data": {
      "text/plain": [
       "<Figure size 640x480 with 0 Axes>"
      ]
     },
     "metadata": {},
     "output_type": "display_data"
    }
   ],
   "source": [
    "# 37\n",
    "\n",
    "plt.figure(figsize=(10, 10))\n",
    "\n",
    "for i in range(len(dirty_parks_species.park_name.unique())):\n",
    "  \n",
    "  dirty_park_df = dirty_parks_species[dirty_parks_species.park_name == dirty_parks_species.park_name.unique()[i]]\n",
    "  dirty_park_df = dirty_park_df[['conservation_status', 'observations']]\n",
    "  dirty_park_df = dirty_park_df.groupby('conservation_status', sort=False).observations.sum()\n",
    "  dirty_pie_labels = dirty_park_df.index\n",
    "\n",
    "  plt.subplot(2, 2, i + 1)\n",
    "  plt.pie(dirty_park_df, autopct='%0.2f%%')\n",
    "  plt.axis('equal')\n",
    "  plt.title(f'{dirty_parks_species.park_name.unique()[i]} Obsvervation %\\'s')\n",
    "  plt.legend(dirty_pie_labels)\n",
    "\n",
    "plt.show()\n",
    "plt.clf()"
   ]
  },
  {
   "attachments": {},
   "cell_type": "markdown",
   "metadata": {},
   "source": [
    "When looking at these pie charts, they look very similar to the previous pie charts, but there are pretty significant differences.  By not cleaning the data beforehand, we didn't remove the duplicate observation counts (where a species was counted twice as much as it should have been).  Therefore all of the observation counts were increased, and though the proportions are relatively similar to the previous pie charts, they are inaccurate.  Let's explain further.\n",
    "\n",
    "The total amount of observations contained within each pie chart is listed below...\n",
    "\n",
    "### Pie charts with Clean Data:\n",
    "\n",
    "_Yosemite National Park_ - ```21861``` total observations | ```616``` endangered | ```20187``` species of concern | ```672``` threatened | ```386``` in recovery \\\n",
    "_Yellowstone National Park_ - ```36223``` total observations | ```1008``` endangered | ```33569``` species of concern | ```1087``` threatened | ```559``` in recovery \\\n",
    "_Bryce National Park_ - ```15066``` total observations | ```402``` endangered | ```13979``` species of concern | ```427``` threatened | ```258``` in recovery \\\n",
    "_Great Smoky Mountains National Park_ - ```10482``` total observations | ```294``` endangered | ```9659``` species of concern | ```340``` threatened | ```189``` in recovery\n",
    "\n",
    "### Pie charts with Unclean Data:\n",
    "\n",
    "_Yosemite National Park_ - ```26913``` total observations | ```943``` endangered | ```24539``` species of concern | ```849``` threatened | ```582``` in recovery \\\n",
    "_Yellowstone National Park_ - ```44583``` total observations | ```1558``` endangered | ```40677``` species of concern | ```1459``` threatened | ```889``` in recovery \\\n",
    "_Bryce National Park_ - ```18609``` total observations | ```619``` endangered | ```17011``` species of concern | ```591``` threatened | ```388``` in recovery \\\n",
    "_Great Smoky Mountains National Park_ - ```12816``` total observations | ```393``` endangered | ```11735``` species of concern | ```440``` threatened | ```248``` in recovery\n",
    "\n",
    "### Impact this has on the Data:\n",
    "\n",
    "_Yosemite National Park_ - By cleaning the data you \"lose\" ```5052``` total observations and ```327``` endangered observations \\\n",
    "_Yellowstone National Park_ - By cleaning the data you \"lose\" ```8360``` total observations and ```550``` endangered observations \\\n",
    "_Bryce National Park_ - By cleaning the data you \"lose\" ```3543``` total observations and ```217``` endangered observations \\\n",
    "_Great Smoky Mountains National Park_ - By cleaning the data you \"lose\" ```2334``` total observations and ```99``` endangered observations"
   ]
  },
  {
   "attachments": {},
   "cell_type": "markdown",
   "metadata": {},
   "source": [
    "---"
   ]
  },
  {
   "attachments": {},
   "cell_type": "markdown",
   "metadata": {},
   "source": [
    "Don't misinterpret the word \"lose\" in this explanation.  By cleaning the data, you lose observations, yes, but those observations are inaccurate observations. You don't want to use inaccurate observations within your analysis anyways, so to \"lose\" them is a good thing in terms of data.  But why does it really matter in this circumstance?  The pie chart proportions hardly changed!\n",
    "\n",
    "In this analysis, we're trying to gain some insight into endangered species.  These numbers above show the amount of times any species of a specific conservation status was observed within a given park.  So if the accurate data contains smaller numbers, then that means that there are less sightings of these \"at risk\" species taking place within these parks.  The lower these numbers get, the closer to extinction these species are.  So really, having accurate data in this instance can enhance the seriousness of the situation.\n",
    "\n",
    "This is just a tiny example of why cleaning data is incredibly important, but there are loads more, so make sure to always be diligent in the data cleaning process!"
   ]
  },
  {
   "attachments": {},
   "cell_type": "markdown",
   "metadata": {},
   "source": [
    "---"
   ]
  },
  {
   "attachments": {},
   "cell_type": "markdown",
   "metadata": {},
   "source": [
    "# Section 3 - Exploring the Data - Part 3\n",
    "### _Header_"
   ]
  },
  {
   "attachments": {},
   "cell_type": "markdown",
   "metadata": {},
   "source": [
    "# Appendix\n",
    "### Section 1\n",
    "1. Python library imports:\n",
    "* Numpy - Used for fast calculations within pandas.  Can perform matrix calculations.\n",
    "* Pandas - Used for loading in datasets into workable dataframes.  Crucial for Data Analysis with Python.\n",
    "* Matplotlib - Used for creating plots and visualizations from pandas dataframes.\n",
    "* Seaborn - Newer, more intuitive visualization library built to work with Matplotlib and pandas.\n",
    "* Statsmodels - Used for creating predictive models.\n",
    "\n",
    "2. Use the ```.read_csv()``` method along with ```pd``` (pandas) to import a csv file into a pandas dataframe.  The method takes the CSV filename surrounded by quotations as a parameter (Example: parks = pd.read_csv(\"observations.csv\"))\n",
    "\n",
    "3. Use the ```.head()``` method from the ```pandas``` library on the ```parks``` dataframe to show the first 10 rows of the dataframe\n",
    "\n",
    "4. Use the ```.head()``` method from the ```pandas``` library on the ```species``` dataframe to show the first 10 rows of the dataframe\n",
    "\n",
    "5. Use the ```.info()``` method from the ```pandas``` library on the ```parks``` dataframe to show column names, data types of the columns, length of the dataframe, and possible missing values within the dataframe.  This shows that the length of the dataframe is 23,296 rows long and that it has 3 columns, each with 0 missing values.  We can see that the column names are clean and easy to work with and we can also see the data types of each column, which are workable for now.\n",
    "\n",
    "6. Use the ```.decribe()``` method from the ```pandas``` library on the ```parks``` dataframe to show some summary statistics about each column.  In order to see summary statistics for categorical variables, you need to use the ```include=``` parameter and set its value to ```'all'```.  This shows the amount of unique values for the categorical variables (```scientific_name``` and ```park_name```), and some useful statistics about the quantitative variable (```observations```).  The average number of times a single species was observed in 7 days was 142 times.  The minimum times observed was 9 times and the maximum was 321 times.  This is useful primarily because now you know that the ```observations``` column doesn't contain any zero values in it.  This means you can move on to exploring a different variable within the data.\n",
    "\n",
    "7. Use the ```.value_counts()``` method from the ```pandas``` library on the ```parks.park_name``` dataframe column to show the frequency of the unique values within the column.  You can see that each of the 4 National Parks contain an equal amount of entries.  This information also shows that the 4 unique values within this column are in fact National Parks.\n",
    "\n",
    "8. Create a ```for``` loop that loops 10 times.  With every loop print a string of the sample number.  With every loop you'll pull a random sample of the ```parks.scientific_name``` column using the pandas ```.sample()``` method.  The method will take an integer as a parameter which specifies the size of the random sample.  The larger the sample, the better.  After the samples are pulled, the samples should be examined for any values that are not scientific names.  If you pull enough samples of a decent size, then this can accurately portray the dataset as a whole.  This is much more efficient than reading through all 5541 unique scientific names.\n"
   ]
  }
 ],
 "metadata": {
  "kernelspec": {
   "display_name": "Python 3",
   "language": "python",
   "name": "python3"
  },
  "language_info": {
   "codemirror_mode": {
    "name": "ipython",
    "version": 3
   },
   "file_extension": ".py",
   "mimetype": "text/x-python",
   "name": "python",
   "nbconvert_exporter": "python",
   "pygments_lexer": "ipython3",
   "version": "3.11.0"
  },
  "orig_nbformat": 4
 },
 "nbformat": 4,
 "nbformat_minor": 2
}
