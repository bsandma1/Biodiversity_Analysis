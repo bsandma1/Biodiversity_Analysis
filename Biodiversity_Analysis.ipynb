{
 "cells": [
  {
   "attachments": {},
   "cell_type": "markdown",
   "metadata": {},
   "source": [
    "# Biodiversity in National Parks - Data Analysis\n",
    "### Analysis Overview -\n",
    "In this analysis, we will be analyzing data from two datasets containing information on National Parks and the species who inhabit them.\n",
    "\n",
    "The datasets are:\n",
    "\n",
    "- ```\"observations.csv\"``` - includes data on the national park being observed, what species live their, and how many times each species has been recorded being spotted within the last 7 days.\n",
    "- ```\"species_info.csv\"``` - includes data on a large number of different species.  It features the species' scientific name, common name, category of species, and conservation status.\n",
    "\n",
    "### Analysis Findings -\n",
    "\n",
    "_General analysis Findings:_\n",
    "- ```Though there is a huge difference in observation counts for each park, there are near equal proportions of observations for each conservation status within each park (Ex: The endangered conservation status has nearly the same percent of observations in each park)```\n",
    "- ```Though there is a huge difference in observation counts for each park, there are near equal proportions of observations for each category of species within each park (Ex: The mammal category has nearly the same percent of observations in each park)```\n",
    "- ```On average, as the severity of the conservation status increases for a specific species, the sightings of that specific species decreases (Approaches Endangerment)```\n",
    "- ```On average, the observation count of a species can be a predictor of conservation status (higher count = lower risk status | lower count = higher risk status)```\n",
    "- ```Every park's MOST observed species was 'Not at Risk'```\n",
    "- ```Two out of the four park's LEAST observed species were 'Endangered' (50%), the other two were 'Not at Risk' and both vascular plants (Partly due to the massive amount of species within the 'Vascular Plant' category, the range of observations is quite large)```\n",
    "\n",
    "_Findings among 'At Risk' and 'Not at Risk' species:_  \n",
    "- ```Both Plant catagories have the lowest proportion of species that are 'At risk'```\n",
    "- ```Birds have the highest proportion of species that are labeled a 'Species of Concern'```\n",
    "- ```Reptiles and Nonvascular Plants have no endangered species within their categories```\n",
    "- ```Mammals have the highest proportion of species that are at 'At Risk' (Lowest proportion of species that are 'Not at Risk')```\n",
    "- ```Mammals have the highest proportion of species that are endangered```\n",
    "\n",
    "_Findings among 'At Risk' species:_\n",
    "- ```Fish have the highest proportion of species that are endangered```\n",
    "- ```Species that live primarily in the water (Amphibians and Fish) have higher proportions of endangerment and are more threatened than any other category```\n",
    "- ```Birds, Reptiles, Vascular Plants and Nonvascular Plants each have a very high proportion of species labeled as a 'Species of Concern', and a low proportion of species that are endangered, relative to the other categories (This finding could be used for preventative measures)```\n",
    "\n",
    "_Findings among 'Not at Risk' species:_\n",
    "- ```Vascular plants take up roughly 77% of all 'Not at Risk' species (4216 out of 5363 species)```\n",
    "\n",
    "_Predictive findings:_\n",
    "- ```Given observations over a period of time, if the observations decrease over time, then there is a high chance that the species is moving into higher severities of conservation status (Moving towards endangerment and/or extinction).  If the observations increase over time, then the species is most likely 'in recovery' or 'Not at risk' (The accuracy is highly dependant on the length of time the species is observed).```"
   ]
  },
  {
   "attachments": {},
   "cell_type": "markdown",
   "metadata": {},
   "source": [
    "---"
   ]
  },
  {
   "attachments": {},
   "cell_type": "markdown",
   "metadata": {},
   "source": [
    "## Section 1 - Understanding the Data\n",
    "In order to work with any data, you first need to understand what you'll be working with.  \n",
    "\n",
    "1. Import the Python libraries you'll need to conduct your analysis \n",
    "2. Load the two CSV datasets into two seperate Pandas DataFrames, ```parks``` and ```species```\n",
    "3. View the first 10 rows of the ```parks``` dataframe\n",
    "4. View the first 10 rows of the ```species``` dataframe"
   ]
  },
  {
   "cell_type": "code",
   "execution_count": 1723,
   "metadata": {},
   "outputs": [],
   "source": [
    "# 1\n",
    "\n",
    "import numpy as np\n",
    "import pandas as pd\n",
    "import matplotlib.pyplot as plt\n",
    "import seaborn as sns\n",
    "import statsmodels.api as sm"
   ]
  },
  {
   "cell_type": "code",
   "execution_count": 1724,
   "metadata": {},
   "outputs": [],
   "source": [
    "# 2\n",
    "\n",
    "parks = pd.read_csv('observations.csv')\n",
    "species = pd.read_csv('species_info.csv')"
   ]
  },
  {
   "cell_type": "code",
   "execution_count": 1725,
   "metadata": {},
   "outputs": [
    {
     "data": {
      "text/html": [
       "<div>\n",
       "<style scoped>\n",
       "    .dataframe tbody tr th:only-of-type {\n",
       "        vertical-align: middle;\n",
       "    }\n",
       "\n",
       "    .dataframe tbody tr th {\n",
       "        vertical-align: top;\n",
       "    }\n",
       "\n",
       "    .dataframe thead th {\n",
       "        text-align: right;\n",
       "    }\n",
       "</style>\n",
       "<table border=\"1\" class=\"dataframe\">\n",
       "  <thead>\n",
       "    <tr style=\"text-align: right;\">\n",
       "      <th></th>\n",
       "      <th>scientific_name</th>\n",
       "      <th>park_name</th>\n",
       "      <th>observations</th>\n",
       "    </tr>\n",
       "  </thead>\n",
       "  <tbody>\n",
       "    <tr>\n",
       "      <th>0</th>\n",
       "      <td>Vicia benghalensis</td>\n",
       "      <td>Great Smoky Mountains National Park</td>\n",
       "      <td>68</td>\n",
       "    </tr>\n",
       "    <tr>\n",
       "      <th>1</th>\n",
       "      <td>Neovison vison</td>\n",
       "      <td>Great Smoky Mountains National Park</td>\n",
       "      <td>77</td>\n",
       "    </tr>\n",
       "    <tr>\n",
       "      <th>2</th>\n",
       "      <td>Prunus subcordata</td>\n",
       "      <td>Yosemite National Park</td>\n",
       "      <td>138</td>\n",
       "    </tr>\n",
       "    <tr>\n",
       "      <th>3</th>\n",
       "      <td>Abutilon theophrasti</td>\n",
       "      <td>Bryce National Park</td>\n",
       "      <td>84</td>\n",
       "    </tr>\n",
       "    <tr>\n",
       "      <th>4</th>\n",
       "      <td>Githopsis specularioides</td>\n",
       "      <td>Great Smoky Mountains National Park</td>\n",
       "      <td>85</td>\n",
       "    </tr>\n",
       "    <tr>\n",
       "      <th>5</th>\n",
       "      <td>Elymus virginicus var. virginicus</td>\n",
       "      <td>Yosemite National Park</td>\n",
       "      <td>112</td>\n",
       "    </tr>\n",
       "    <tr>\n",
       "      <th>6</th>\n",
       "      <td>Spizella pusilla</td>\n",
       "      <td>Yellowstone National Park</td>\n",
       "      <td>228</td>\n",
       "    </tr>\n",
       "    <tr>\n",
       "      <th>7</th>\n",
       "      <td>Elymus multisetus</td>\n",
       "      <td>Great Smoky Mountains National Park</td>\n",
       "      <td>39</td>\n",
       "    </tr>\n",
       "    <tr>\n",
       "      <th>8</th>\n",
       "      <td>Lysimachia quadrifolia</td>\n",
       "      <td>Yosemite National Park</td>\n",
       "      <td>168</td>\n",
       "    </tr>\n",
       "    <tr>\n",
       "      <th>9</th>\n",
       "      <td>Diphyscium cumberlandianum</td>\n",
       "      <td>Yellowstone National Park</td>\n",
       "      <td>250</td>\n",
       "    </tr>\n",
       "  </tbody>\n",
       "</table>\n",
       "</div>"
      ],
      "text/plain": [
       "                     scientific_name                            park_name  \\\n",
       "0                 Vicia benghalensis  Great Smoky Mountains National Park   \n",
       "1                     Neovison vison  Great Smoky Mountains National Park   \n",
       "2                  Prunus subcordata               Yosemite National Park   \n",
       "3               Abutilon theophrasti                  Bryce National Park   \n",
       "4           Githopsis specularioides  Great Smoky Mountains National Park   \n",
       "5  Elymus virginicus var. virginicus               Yosemite National Park   \n",
       "6                   Spizella pusilla            Yellowstone National Park   \n",
       "7                  Elymus multisetus  Great Smoky Mountains National Park   \n",
       "8             Lysimachia quadrifolia               Yosemite National Park   \n",
       "9         Diphyscium cumberlandianum            Yellowstone National Park   \n",
       "\n",
       "   observations  \n",
       "0            68  \n",
       "1            77  \n",
       "2           138  \n",
       "3            84  \n",
       "4            85  \n",
       "5           112  \n",
       "6           228  \n",
       "7            39  \n",
       "8           168  \n",
       "9           250  "
      ]
     },
     "execution_count": 1725,
     "metadata": {},
     "output_type": "execute_result"
    }
   ],
   "source": [
    "# 3 \n",
    "\n",
    "parks.head(10)"
   ]
  },
  {
   "cell_type": "code",
   "execution_count": 1726,
   "metadata": {},
   "outputs": [
    {
     "data": {
      "text/html": [
       "<div>\n",
       "<style scoped>\n",
       "    .dataframe tbody tr th:only-of-type {\n",
       "        vertical-align: middle;\n",
       "    }\n",
       "\n",
       "    .dataframe tbody tr th {\n",
       "        vertical-align: top;\n",
       "    }\n",
       "\n",
       "    .dataframe thead th {\n",
       "        text-align: right;\n",
       "    }\n",
       "</style>\n",
       "<table border=\"1\" class=\"dataframe\">\n",
       "  <thead>\n",
       "    <tr style=\"text-align: right;\">\n",
       "      <th></th>\n",
       "      <th>category</th>\n",
       "      <th>scientific_name</th>\n",
       "      <th>common_names</th>\n",
       "      <th>conservation_status</th>\n",
       "    </tr>\n",
       "  </thead>\n",
       "  <tbody>\n",
       "    <tr>\n",
       "      <th>0</th>\n",
       "      <td>Mammal</td>\n",
       "      <td>Clethrionomys gapperi gapperi</td>\n",
       "      <td>Gapper's Red-Backed Vole</td>\n",
       "      <td>NaN</td>\n",
       "    </tr>\n",
       "    <tr>\n",
       "      <th>1</th>\n",
       "      <td>Mammal</td>\n",
       "      <td>Bos bison</td>\n",
       "      <td>American Bison, Bison</td>\n",
       "      <td>NaN</td>\n",
       "    </tr>\n",
       "    <tr>\n",
       "      <th>2</th>\n",
       "      <td>Mammal</td>\n",
       "      <td>Bos taurus</td>\n",
       "      <td>Aurochs, Aurochs, Domestic Cattle (Feral), Dom...</td>\n",
       "      <td>NaN</td>\n",
       "    </tr>\n",
       "    <tr>\n",
       "      <th>3</th>\n",
       "      <td>Mammal</td>\n",
       "      <td>Ovis aries</td>\n",
       "      <td>Domestic Sheep, Mouflon, Red Sheep, Sheep (Feral)</td>\n",
       "      <td>NaN</td>\n",
       "    </tr>\n",
       "    <tr>\n",
       "      <th>4</th>\n",
       "      <td>Mammal</td>\n",
       "      <td>Cervus elaphus</td>\n",
       "      <td>Wapiti Or Elk</td>\n",
       "      <td>NaN</td>\n",
       "    </tr>\n",
       "    <tr>\n",
       "      <th>5</th>\n",
       "      <td>Mammal</td>\n",
       "      <td>Odocoileus virginianus</td>\n",
       "      <td>White-Tailed Deer</td>\n",
       "      <td>NaN</td>\n",
       "    </tr>\n",
       "    <tr>\n",
       "      <th>6</th>\n",
       "      <td>Mammal</td>\n",
       "      <td>Sus scrofa</td>\n",
       "      <td>Feral Hog, Wild Pig</td>\n",
       "      <td>NaN</td>\n",
       "    </tr>\n",
       "    <tr>\n",
       "      <th>7</th>\n",
       "      <td>Mammal</td>\n",
       "      <td>Canis latrans</td>\n",
       "      <td>Coyote</td>\n",
       "      <td>Species of Concern</td>\n",
       "    </tr>\n",
       "    <tr>\n",
       "      <th>8</th>\n",
       "      <td>Mammal</td>\n",
       "      <td>Canis lupus</td>\n",
       "      <td>Gray Wolf</td>\n",
       "      <td>Endangered</td>\n",
       "    </tr>\n",
       "    <tr>\n",
       "      <th>9</th>\n",
       "      <td>Mammal</td>\n",
       "      <td>Canis rufus</td>\n",
       "      <td>Red Wolf</td>\n",
       "      <td>Endangered</td>\n",
       "    </tr>\n",
       "  </tbody>\n",
       "</table>\n",
       "</div>"
      ],
      "text/plain": [
       "  category                scientific_name  \\\n",
       "0   Mammal  Clethrionomys gapperi gapperi   \n",
       "1   Mammal                      Bos bison   \n",
       "2   Mammal                     Bos taurus   \n",
       "3   Mammal                     Ovis aries   \n",
       "4   Mammal                 Cervus elaphus   \n",
       "5   Mammal         Odocoileus virginianus   \n",
       "6   Mammal                     Sus scrofa   \n",
       "7   Mammal                  Canis latrans   \n",
       "8   Mammal                    Canis lupus   \n",
       "9   Mammal                    Canis rufus   \n",
       "\n",
       "                                        common_names conservation_status  \n",
       "0                           Gapper's Red-Backed Vole                 NaN  \n",
       "1                              American Bison, Bison                 NaN  \n",
       "2  Aurochs, Aurochs, Domestic Cattle (Feral), Dom...                 NaN  \n",
       "3  Domestic Sheep, Mouflon, Red Sheep, Sheep (Feral)                 NaN  \n",
       "4                                      Wapiti Or Elk                 NaN  \n",
       "5                                  White-Tailed Deer                 NaN  \n",
       "6                                Feral Hog, Wild Pig                 NaN  \n",
       "7                                             Coyote  Species of Concern  \n",
       "8                                          Gray Wolf          Endangered  \n",
       "9                                           Red Wolf          Endangered  "
      ]
     },
     "execution_count": 1726,
     "metadata": {},
     "output_type": "execute_result"
    }
   ],
   "source": [
    "# 4\n",
    "\n",
    "species.head(10)"
   ]
  },
  {
   "attachments": {},
   "cell_type": "markdown",
   "metadata": {},
   "source": [
    "The first thing that stands out to me is in the ```species``` dataframe.  Without looking any deeper you can already see that it contains some missing values ('NaN').  In order to accurately work with this data, you'll need to clean up your dataframes.  Aside from that one column in the ```species``` dataframe, you aren't sure which columns may have missing data in either of the two dataframes, so you'll need to do some work to find out.\n",
    "\n",
    "Let's focus on looking at your ```parks``` dataframe first!\n",
    "\n",
    "5. Check to see if the ```parks``` dataframe contains any missing values.  Check column names and data types as well\n",
    "6. Take a look at the summary statistics\n",
    "7. find out how many species observations there are for each National Park "
   ]
  },
  {
   "cell_type": "code",
   "execution_count": 1727,
   "metadata": {},
   "outputs": [
    {
     "name": "stdout",
     "output_type": "stream",
     "text": [
      "<class 'pandas.core.frame.DataFrame'>\n",
      "RangeIndex: 23296 entries, 0 to 23295\n",
      "Data columns (total 3 columns):\n",
      " #   Column           Non-Null Count  Dtype \n",
      "---  ------           --------------  ----- \n",
      " 0   scientific_name  23296 non-null  object\n",
      " 1   park_name        23296 non-null  object\n",
      " 2   observations     23296 non-null  int64 \n",
      "dtypes: int64(1), object(2)\n",
      "memory usage: 546.1+ KB\n"
     ]
    }
   ],
   "source": [
    "# 5\n",
    "\n",
    "parks.info()"
   ]
  },
  {
   "cell_type": "code",
   "execution_count": 1728,
   "metadata": {},
   "outputs": [
    {
     "data": {
      "text/html": [
       "<div>\n",
       "<style scoped>\n",
       "    .dataframe tbody tr th:only-of-type {\n",
       "        vertical-align: middle;\n",
       "    }\n",
       "\n",
       "    .dataframe tbody tr th {\n",
       "        vertical-align: top;\n",
       "    }\n",
       "\n",
       "    .dataframe thead th {\n",
       "        text-align: right;\n",
       "    }\n",
       "</style>\n",
       "<table border=\"1\" class=\"dataframe\">\n",
       "  <thead>\n",
       "    <tr style=\"text-align: right;\">\n",
       "      <th></th>\n",
       "      <th>scientific_name</th>\n",
       "      <th>park_name</th>\n",
       "      <th>observations</th>\n",
       "    </tr>\n",
       "  </thead>\n",
       "  <tbody>\n",
       "    <tr>\n",
       "      <th>count</th>\n",
       "      <td>23296</td>\n",
       "      <td>23296</td>\n",
       "      <td>23296.000000</td>\n",
       "    </tr>\n",
       "    <tr>\n",
       "      <th>unique</th>\n",
       "      <td>5541</td>\n",
       "      <td>4</td>\n",
       "      <td>NaN</td>\n",
       "    </tr>\n",
       "    <tr>\n",
       "      <th>top</th>\n",
       "      <td>Myotis lucifugus</td>\n",
       "      <td>Great Smoky Mountains National Park</td>\n",
       "      <td>NaN</td>\n",
       "    </tr>\n",
       "    <tr>\n",
       "      <th>freq</th>\n",
       "      <td>12</td>\n",
       "      <td>5824</td>\n",
       "      <td>NaN</td>\n",
       "    </tr>\n",
       "    <tr>\n",
       "      <th>mean</th>\n",
       "      <td>NaN</td>\n",
       "      <td>NaN</td>\n",
       "      <td>142.287904</td>\n",
       "    </tr>\n",
       "    <tr>\n",
       "      <th>std</th>\n",
       "      <td>NaN</td>\n",
       "      <td>NaN</td>\n",
       "      <td>69.890532</td>\n",
       "    </tr>\n",
       "    <tr>\n",
       "      <th>min</th>\n",
       "      <td>NaN</td>\n",
       "      <td>NaN</td>\n",
       "      <td>9.000000</td>\n",
       "    </tr>\n",
       "    <tr>\n",
       "      <th>25%</th>\n",
       "      <td>NaN</td>\n",
       "      <td>NaN</td>\n",
       "      <td>86.000000</td>\n",
       "    </tr>\n",
       "    <tr>\n",
       "      <th>50%</th>\n",
       "      <td>NaN</td>\n",
       "      <td>NaN</td>\n",
       "      <td>124.000000</td>\n",
       "    </tr>\n",
       "    <tr>\n",
       "      <th>75%</th>\n",
       "      <td>NaN</td>\n",
       "      <td>NaN</td>\n",
       "      <td>195.000000</td>\n",
       "    </tr>\n",
       "    <tr>\n",
       "      <th>max</th>\n",
       "      <td>NaN</td>\n",
       "      <td>NaN</td>\n",
       "      <td>321.000000</td>\n",
       "    </tr>\n",
       "  </tbody>\n",
       "</table>\n",
       "</div>"
      ],
      "text/plain": [
       "         scientific_name                            park_name  observations\n",
       "count              23296                                23296  23296.000000\n",
       "unique              5541                                    4           NaN\n",
       "top     Myotis lucifugus  Great Smoky Mountains National Park           NaN\n",
       "freq                  12                                 5824           NaN\n",
       "mean                 NaN                                  NaN    142.287904\n",
       "std                  NaN                                  NaN     69.890532\n",
       "min                  NaN                                  NaN      9.000000\n",
       "25%                  NaN                                  NaN     86.000000\n",
       "50%                  NaN                                  NaN    124.000000\n",
       "75%                  NaN                                  NaN    195.000000\n",
       "max                  NaN                                  NaN    321.000000"
      ]
     },
     "execution_count": 1728,
     "metadata": {},
     "output_type": "execute_result"
    }
   ],
   "source": [
    "# 6\n",
    "\n",
    "parks.describe(include='all')"
   ]
  },
  {
   "cell_type": "code",
   "execution_count": 1729,
   "metadata": {},
   "outputs": [
    {
     "data": {
      "text/plain": [
       "Great Smoky Mountains National Park    5824\n",
       "Yosemite National Park                 5824\n",
       "Bryce National Park                    5824\n",
       "Yellowstone National Park              5824\n",
       "Name: park_name, dtype: int64"
      ]
     },
     "execution_count": 1729,
     "metadata": {},
     "output_type": "execute_result"
    }
   ],
   "source": [
    "# 7\n",
    "\n",
    "parks.park_name.value_counts()"
   ]
  },
  {
   "attachments": {},
   "cell_type": "markdown",
   "metadata": {},
   "source": [
    "You can see that the length of the dataframe is 23,296 rows long and that it has 3 columns, each with 0 missing values.  The column names are clean and easy to work with and you can also see the data types of each column make sense.\n",
    "\n",
    "Looking at the output from code block #6, you can see that there are a lot of unique species within the dataframe (5541), but only 4 diferent National Parks.    \n",
    "\n",
    "Since there isn't a lot of unique values, you can easily use ```.value_counts()``` on the dataframe to show that there is 5824 observations of species in each National Park.  \n",
    "\n",
    "Though our data looks seemingly nice and tidy, we could further inspect the ```scientific_name``` column to see if there are any strange values that are hidden within the column that could effect the analysis.  An example of a strange value could be an empty string (\"\") or a string that says ```\"NULL\"``` or ```\"NaN\"```.  These would technically count as values but they should instead be classified as a missing value.\n",
    "\n",
    "8. Pull some random samples of the ```scientific_name``` column, look over the values, and check to see if there are any entries that don't belong\n",
    "  "
   ]
  },
  {
   "cell_type": "code",
   "execution_count": 1730,
   "metadata": {},
   "outputs": [
    {
     "name": "stdout",
     "output_type": "stream",
     "text": [
      "Sample 1\n",
      "8289                         Dactylis glomerata\n",
      "9606                             Grimmia olneyi\n",
      "18538    Ribes viscosissimum var. viscosissimum\n",
      "1348                      Potentilla canadensis\n",
      "15061              Symphyotrichum novae-angliae\n",
      "21731                      Cheilanthes covillei\n",
      "20053                        Orobanche uniflora\n",
      "17790                    Orthodontium pellucens\n",
      "18014                    Sporobolus cryptandrus\n",
      "5788                         Oclemena acuminata\n",
      "Name: scientific_name, dtype: object\n",
      "\n",
      "Sample 2\n",
      "21528                     Contopus cooperi\n",
      "10698                         Avena sativa\n",
      "5162                       Aruncus dioicus\n",
      "16979                      Carex squarrosa\n",
      "2687        Mertensia ciliata var. ciliata\n",
      "5706     Horkelia californica ssp. dissita\n",
      "2089                      Salix melanopsis\n",
      "4657                     Marrubium vulgare\n",
      "15638                      Viola conspersa\n",
      "18399                      Viola cucullata\n",
      "Name: scientific_name, dtype: object\n",
      "\n",
      "Sample 3\n",
      "15291                   Ranunculus macounii\n",
      "4023                         Malva neglecta\n",
      "12732                    Nocomis micropogon\n",
      "18912                   Hesperis matronalis\n",
      "21280                  Equisetum fluviatile\n",
      "12513                 Helianthella uniflora\n",
      "20856                       Carex rupestris\n",
      "6021                   Agrostis elliottiana\n",
      "3974     Corydalis micrantha ssp. australis\n",
      "2048                     Ampelopsis cordata\n",
      "Name: scientific_name, dtype: object\n",
      "\n",
      "Sample 4\n",
      "13886                  Heracleum lanatum\n",
      "16593               Parnassia asarifolia\n",
      "16644                Berberis canadensis\n",
      "14638                 Hypochaeris glabra\n",
      "4260                Aesculus californica\n",
      "15625               Leptobryum pyriforme\n",
      "7298                Ammodramus henslowii\n",
      "7557                 Apocynum cannabinum\n",
      "21792                   Arnica rydbergii\n",
      "2321     Cordylanthus tenuis ssp. tenuis\n",
      "Name: scientific_name, dtype: object\n",
      "\n",
      "Sample 5\n",
      "20587                      Senna marilandica\n",
      "16776                          Polygala alba\n",
      "10668                          Carex stricta\n",
      "13628    Amsinckia menziesii var. intermedia\n",
      "205                         Trifolium aureum\n",
      "16197                      Triticum aestivum\n",
      "8718            Rhododendron periclymenoides\n",
      "20634                  Geranium carolinianum\n",
      "20216                       Aythya americana\n",
      "8675                     Uvularia perfoliata\n",
      "Name: scientific_name, dtype: object\n",
      "\n",
      "Sample 6\n",
      "7032           Helianthella quinquenervis\n",
      "2779                   Euonymus americana\n",
      "11589                   Lontra canadensis\n",
      "206       Ericameria cuneata var. cuneata\n",
      "14687                     Bidens aristosa\n",
      "7789              Eleocharis macrostachya\n",
      "18609                  Polygonum setaceum\n",
      "18135                    Phyla lanceolata\n",
      "11196    Oligoneuron rigidum var. rigidum\n",
      "2547                     Senecio anonymus\n",
      "Name: scientific_name, dtype: object\n",
      "\n",
      "Sample 7\n",
      "1419                  Bubo virginianus\n",
      "8401     Pituophis catenifer catenifer\n",
      "20677                 Perca flavescens\n",
      "15185               Allium brevistylum\n",
      "18702               Anagallis arvensis\n",
      "12641            Aegopodium podagraria\n",
      "22914                 Rosa wichuraiana\n",
      "16006                 Murdannia keisak\n",
      "14991               Alisma subcordatum\n",
      "9913            Odocoileus virginianus\n",
      "Name: scientific_name, dtype: object\n",
      "\n",
      "Sample 8\n",
      "18504                      Trifolium repens\n",
      "8339                     Chasmanthium laxum\n",
      "3619           Oryzomys palustris palustris\n",
      "12293                      Ribes lasianthum\n",
      "742               Xerophyllum asphodeloides\n",
      "12355                   Cryptantha flaccida\n",
      "3299                    Cuphea viscosissima\n",
      "22687                Scheuchzeria palustris\n",
      "8855     Pedicularis contorta var. contorta\n",
      "16715                  Gayophytum decipiens\n",
      "Name: scientific_name, dtype: object\n",
      "\n",
      "Sample 9\n",
      "12671                              Rotala ramosior\n",
      "14261                           Eragrostis hirsuta\n",
      "1934                                 Asio flammeus\n",
      "5044                           Symplocos tinctoria\n",
      "6711                                 Anas penelope\n",
      "1126     Cordylanthus rigidus ssp. brevibracteatus\n",
      "4                         Githopsis specularioides\n",
      "6503                                Juncus dudleyi\n",
      "12508      Ranunculus eschscholtzii var. trisectus\n",
      "22238                     Thalictrum thalictroides\n",
      "Name: scientific_name, dtype: object\n",
      "\n",
      "Sample 10\n",
      "9640             Bucephala clangula\n",
      "1797                Ruellia humilis\n",
      "8539             Oryzomys palustris\n",
      "20585        Asplenium rhizophyllum\n",
      "8024           Poecile carolinensis\n",
      "13967         Paronychia canadensis\n",
      "3558       Stephanomeria tenuifolia\n",
      "9718         Lithospermum canescens\n",
      "15575         Artemisia spiciformis\n",
      "18598    Tridens flavus var. flavus\n",
      "Name: scientific_name, dtype: object\n",
      "\n"
     ]
    }
   ],
   "source": [
    "# 8\n",
    "\n",
    "for num in range(10):\n",
    "    print(f'Sample {num + 1}')\n",
    "    parks_sample = parks.scientific_name.sample(10) # sample size of 10 used to conserve space but 20-25 preferred\n",
    "    print(parks_sample)\n",
    "    print()"
   ]
  },
  {
   "attachments": {},
   "cell_type": "markdown",
   "metadata": {},
   "source": [
    "According to the samples, the data is good to go!\n",
    "\n",
    "Time to check out the ```species``` dataframe!\n",
    "\n",
    "9. Check to see if the ```species``` dataframe contains any missing values.  Check column names and data types as well\n",
    "10. Take a look at the summary statistics\n",
    "11. Find out how many species there are within each ```category```\n",
    "12. Find out how many species there are within each ```conservation_status```\n",
    "13. Find out the number of ```NaN``` values in the ```conservation_status``` column, and the percentage"
   ]
  },
  {
   "cell_type": "code",
   "execution_count": 1731,
   "metadata": {},
   "outputs": [
    {
     "name": "stdout",
     "output_type": "stream",
     "text": [
      "<class 'pandas.core.frame.DataFrame'>\n",
      "RangeIndex: 5824 entries, 0 to 5823\n",
      "Data columns (total 4 columns):\n",
      " #   Column               Non-Null Count  Dtype \n",
      "---  ------               --------------  ----- \n",
      " 0   category             5824 non-null   object\n",
      " 1   scientific_name      5824 non-null   object\n",
      " 2   common_names         5824 non-null   object\n",
      " 3   conservation_status  191 non-null    object\n",
      "dtypes: object(4)\n",
      "memory usage: 182.1+ KB\n"
     ]
    }
   ],
   "source": [
    "# 9 \n",
    "\n",
    "species.info()"
   ]
  },
  {
   "cell_type": "code",
   "execution_count": 1732,
   "metadata": {},
   "outputs": [
    {
     "data": {
      "text/html": [
       "<div>\n",
       "<style scoped>\n",
       "    .dataframe tbody tr th:only-of-type {\n",
       "        vertical-align: middle;\n",
       "    }\n",
       "\n",
       "    .dataframe tbody tr th {\n",
       "        vertical-align: top;\n",
       "    }\n",
       "\n",
       "    .dataframe thead th {\n",
       "        text-align: right;\n",
       "    }\n",
       "</style>\n",
       "<table border=\"1\" class=\"dataframe\">\n",
       "  <thead>\n",
       "    <tr style=\"text-align: right;\">\n",
       "      <th></th>\n",
       "      <th>category</th>\n",
       "      <th>scientific_name</th>\n",
       "      <th>common_names</th>\n",
       "      <th>conservation_status</th>\n",
       "    </tr>\n",
       "  </thead>\n",
       "  <tbody>\n",
       "    <tr>\n",
       "      <th>count</th>\n",
       "      <td>5824</td>\n",
       "      <td>5824</td>\n",
       "      <td>5824</td>\n",
       "      <td>191</td>\n",
       "    </tr>\n",
       "    <tr>\n",
       "      <th>unique</th>\n",
       "      <td>7</td>\n",
       "      <td>5541</td>\n",
       "      <td>5504</td>\n",
       "      <td>4</td>\n",
       "    </tr>\n",
       "    <tr>\n",
       "      <th>top</th>\n",
       "      <td>Vascular Plant</td>\n",
       "      <td>Castor canadensis</td>\n",
       "      <td>Brachythecium Moss</td>\n",
       "      <td>Species of Concern</td>\n",
       "    </tr>\n",
       "    <tr>\n",
       "      <th>freq</th>\n",
       "      <td>4470</td>\n",
       "      <td>3</td>\n",
       "      <td>7</td>\n",
       "      <td>161</td>\n",
       "    </tr>\n",
       "  </tbody>\n",
       "</table>\n",
       "</div>"
      ],
      "text/plain": [
       "              category    scientific_name        common_names  \\\n",
       "count             5824               5824                5824   \n",
       "unique               7               5541                5504   \n",
       "top     Vascular Plant  Castor canadensis  Brachythecium Moss   \n",
       "freq              4470                  3                   7   \n",
       "\n",
       "       conservation_status  \n",
       "count                  191  \n",
       "unique                   4  \n",
       "top     Species of Concern  \n",
       "freq                   161  "
      ]
     },
     "execution_count": 1732,
     "metadata": {},
     "output_type": "execute_result"
    }
   ],
   "source": [
    "# 10\n",
    "\n",
    "species.describe(include='all')"
   ]
  },
  {
   "cell_type": "code",
   "execution_count": 1733,
   "metadata": {},
   "outputs": [
    {
     "data": {
      "text/plain": [
       "Vascular Plant       4470\n",
       "Bird                  521\n",
       "Nonvascular Plant     333\n",
       "Mammal                214\n",
       "Fish                  127\n",
       "Amphibian              80\n",
       "Reptile                79\n",
       "Name: category, dtype: int64"
      ]
     },
     "execution_count": 1733,
     "metadata": {},
     "output_type": "execute_result"
    }
   ],
   "source": [
    "# 11\n",
    "\n",
    "species.category.value_counts()"
   ]
  },
  {
   "cell_type": "code",
   "execution_count": 1734,
   "metadata": {},
   "outputs": [
    {
     "data": {
      "text/plain": [
       "Species of Concern    161\n",
       "Endangered             16\n",
       "Threatened             10\n",
       "In Recovery             4\n",
       "Name: conservation_status, dtype: int64"
      ]
     },
     "execution_count": 1734,
     "metadata": {},
     "output_type": "execute_result"
    }
   ],
   "source": [
    "# 12\n",
    "\n",
    "species.conservation_status.value_counts()"
   ]
  },
  {
   "cell_type": "code",
   "execution_count": 1735,
   "metadata": {},
   "outputs": [
    {
     "name": "stdout",
     "output_type": "stream",
     "text": [
      "NaN values in 'conservation_status' column: 5633 out of 5824\n",
      "Percentage of NaN values in 'conservation_status' column: 96.72%\n"
     ]
    }
   ],
   "source": [
    "# 13\n",
    "\n",
    "nan_count = len(species[species.conservation_status.isnull() == True])\n",
    "nan_percent = (len(species[species.conservation_status.isnull() == True]) / len(species)) * 100\n",
    "\n",
    "print(f'NaN values in \\'conservation_status\\' column: {nan_count} out of {len(species)}')\n",
    "print(f'Percentage of NaN values in \\'conservation_status\\' column: {round(nan_percent, 2)}%')"
   ]
  },
  {
   "attachments": {},
   "cell_type": "markdown",
   "metadata": {},
   "source": [
    "Going through the summary statistics gives us plenty of insight into the data.  The ```conservation_status``` column is clearly missing a massive chunk of data,\n",
    "96.72% actually.  But why is this data missing?  If you take a look at the unique values within the column, you can see that there are only 4 values, and all of them are associated with endangerment to some degree (output of code block #12).  With this knowledge, we can assume that the ```NaN``` values just mean that the species is not at risk of endangerment.  The values seem to be missing for a reason.\n",
    "\n",
    "With this assumption, you can go ahead and fill in the missing values with an appropriate value."
   ]
  },
  {
   "attachments": {},
   "cell_type": "markdown",
   "metadata": {},
   "source": [
    "---"
   ]
  },
  {
   "attachments": {},
   "cell_type": "markdown",
   "metadata": {},
   "source": [
    "# Section 2 - Cleaning the Data\n",
    "Before creating any visualizations of the data, you first need to clean the data to make sure that our visualizations accurately represent what is happening within the dataset.\n",
    "\n",
    "14. Fill in the ```NaN``` values in the ```conservation_status``` column with the string value ```\"Not at risk\"```"
   ]
  },
  {
   "cell_type": "code",
   "execution_count": 1736,
   "metadata": {},
   "outputs": [
    {
     "data": {
      "text/plain": [
       "Not at Risk           5633\n",
       "Species of Concern     161\n",
       "Endangered              16\n",
       "Threatened              10\n",
       "In Recovery              4\n",
       "Name: conservation_status, dtype: int64"
      ]
     },
     "execution_count": 1736,
     "metadata": {},
     "output_type": "execute_result"
    }
   ],
   "source": [
    "# 14\n",
    "\n",
    "species.conservation_status.fillna('Not at Risk', inplace=True)\n",
    "species.conservation_status.value_counts()"
   ]
  },
  {
   "attachments": {},
   "cell_type": "markdown",
   "metadata": {},
   "source": [
    "After doing this, it wouldn't hurt to check the scientific name column for any duplicate values.  If you refer back to code block #10, you can see that the column does have some repeating values.  This should be looked into.\n",
    "\n",
    "15. Figure out how many values are duplicates within the ```scientific_name``` column\n",
    "16. Find out how many duplicate rows exist within the ```species``` dataframe, if any"
   ]
  },
  {
   "cell_type": "code",
   "execution_count": 1737,
   "metadata": {},
   "outputs": [
    {
     "name": "stdout",
     "output_type": "stream",
     "text": [
      "Duplicated values in 'scientific_name' column: 283\n"
     ]
    }
   ],
   "source": [
    "# 15\n",
    "\n",
    "dup = species.scientific_name.duplicated().sum()\n",
    "print(f'Duplicated values in \\'scientific_name\\' column: {dup}')"
   ]
  },
  {
   "cell_type": "code",
   "execution_count": 1738,
   "metadata": {},
   "outputs": [
    {
     "name": "stdout",
     "output_type": "stream",
     "text": [
      "Duplicated rows in 'species' dataframe: 0\n"
     ]
    }
   ],
   "source": [
    "# 16 \n",
    "\n",
    "dup = species.duplicated().sum()\n",
    "print(f'Duplicated rows in \\'species\\' dataframe: {dup}')"
   ]
  },
  {
   "attachments": {},
   "cell_type": "markdown",
   "metadata": {},
   "source": [
    "So there aren't any duplicate rows within the ```species``` dataframe, but there are 283 duplicates within the ```scientific_name``` column of the ```species``` dataframe.  This may be due to the fact that more than one person recorded the same species and they recorded different numbers observed in the ```observations``` column.  Let's find out.\n",
    "\n",
    "17. Experiment with the ```species``` dataframe and determine if these duplicate values should be dropped or not"
   ]
  },
  {
   "cell_type": "code",
   "execution_count": 1739,
   "metadata": {},
   "outputs": [
    {
     "data": {
      "text/html": [
       "<div>\n",
       "<style scoped>\n",
       "    .dataframe tbody tr th:only-of-type {\n",
       "        vertical-align: middle;\n",
       "    }\n",
       "\n",
       "    .dataframe tbody tr th {\n",
       "        vertical-align: top;\n",
       "    }\n",
       "\n",
       "    .dataframe thead th {\n",
       "        text-align: right;\n",
       "    }\n",
       "</style>\n",
       "<table border=\"1\" class=\"dataframe\">\n",
       "  <thead>\n",
       "    <tr style=\"text-align: right;\">\n",
       "      <th></th>\n",
       "      <th>category</th>\n",
       "      <th>scientific_name</th>\n",
       "      <th>common_names</th>\n",
       "      <th>conservation_status</th>\n",
       "    </tr>\n",
       "  </thead>\n",
       "  <tbody>\n",
       "    <tr>\n",
       "      <th>3017</th>\n",
       "      <td>Mammal</td>\n",
       "      <td>Cervus elaphus</td>\n",
       "      <td>Rocky Mountain Elk</td>\n",
       "      <td>Not at Risk</td>\n",
       "    </tr>\n",
       "    <tr>\n",
       "      <th>3019</th>\n",
       "      <td>Mammal</td>\n",
       "      <td>Odocoileus virginianus</td>\n",
       "      <td>White-Tailed Deer, White-Tailed Deer</td>\n",
       "      <td>Not at Risk</td>\n",
       "    </tr>\n",
       "    <tr>\n",
       "      <th>3020</th>\n",
       "      <td>Mammal</td>\n",
       "      <td>Canis lupus</td>\n",
       "      <td>Gray Wolf, Wolf</td>\n",
       "      <td>In Recovery</td>\n",
       "    </tr>\n",
       "    <tr>\n",
       "      <th>3022</th>\n",
       "      <td>Mammal</td>\n",
       "      <td>Puma concolor</td>\n",
       "      <td>Cougar, Mountain Lion, Puma</td>\n",
       "      <td>Not at Risk</td>\n",
       "    </tr>\n",
       "    <tr>\n",
       "      <th>3025</th>\n",
       "      <td>Mammal</td>\n",
       "      <td>Lutra canadensis</td>\n",
       "      <td>River Otter</td>\n",
       "      <td>Not at Risk</td>\n",
       "    </tr>\n",
       "  </tbody>\n",
       "</table>\n",
       "</div>"
      ],
      "text/plain": [
       "     category         scientific_name                          common_names  \\\n",
       "3017   Mammal          Cervus elaphus                    Rocky Mountain Elk   \n",
       "3019   Mammal  Odocoileus virginianus  White-Tailed Deer, White-Tailed Deer   \n",
       "3020   Mammal             Canis lupus                       Gray Wolf, Wolf   \n",
       "3022   Mammal           Puma concolor           Cougar, Mountain Lion, Puma   \n",
       "3025   Mammal        Lutra canadensis                           River Otter   \n",
       "\n",
       "     conservation_status  \n",
       "3017         Not at Risk  \n",
       "3019         Not at Risk  \n",
       "3020         In Recovery  \n",
       "3022         Not at Risk  \n",
       "3025         Not at Risk  "
      ]
     },
     "execution_count": 1739,
     "metadata": {},
     "output_type": "execute_result"
    }
   ],
   "source": [
    "# 17\n",
    "\n",
    "species[species.scientific_name.duplicated()].head()"
   ]
  },
  {
   "cell_type": "code",
   "execution_count": 1740,
   "metadata": {},
   "outputs": [
    {
     "data": {
      "text/html": [
       "<div>\n",
       "<style scoped>\n",
       "    .dataframe tbody tr th:only-of-type {\n",
       "        vertical-align: middle;\n",
       "    }\n",
       "\n",
       "    .dataframe tbody tr th {\n",
       "        vertical-align: top;\n",
       "    }\n",
       "\n",
       "    .dataframe thead th {\n",
       "        text-align: right;\n",
       "    }\n",
       "</style>\n",
       "<table border=\"1\" class=\"dataframe\">\n",
       "  <thead>\n",
       "    <tr style=\"text-align: right;\">\n",
       "      <th></th>\n",
       "      <th>category</th>\n",
       "      <th>scientific_name</th>\n",
       "      <th>common_names</th>\n",
       "      <th>conservation_status</th>\n",
       "    </tr>\n",
       "  </thead>\n",
       "  <tbody>\n",
       "    <tr>\n",
       "      <th>8</th>\n",
       "      <td>Mammal</td>\n",
       "      <td>Canis lupus</td>\n",
       "      <td>Gray Wolf</td>\n",
       "      <td>Endangered</td>\n",
       "    </tr>\n",
       "    <tr>\n",
       "      <th>3020</th>\n",
       "      <td>Mammal</td>\n",
       "      <td>Canis lupus</td>\n",
       "      <td>Gray Wolf, Wolf</td>\n",
       "      <td>In Recovery</td>\n",
       "    </tr>\n",
       "    <tr>\n",
       "      <th>4448</th>\n",
       "      <td>Mammal</td>\n",
       "      <td>Canis lupus</td>\n",
       "      <td>Gray Wolf, Wolf</td>\n",
       "      <td>Endangered</td>\n",
       "    </tr>\n",
       "  </tbody>\n",
       "</table>\n",
       "</div>"
      ],
      "text/plain": [
       "     category scientific_name     common_names conservation_status\n",
       "8      Mammal     Canis lupus        Gray Wolf          Endangered\n",
       "3020   Mammal     Canis lupus  Gray Wolf, Wolf         In Recovery\n",
       "4448   Mammal     Canis lupus  Gray Wolf, Wolf          Endangered"
      ]
     },
     "execution_count": 1740,
     "metadata": {},
     "output_type": "execute_result"
    }
   ],
   "source": [
    "# 17 (Cont.)\n",
    "\n",
    "species[species.scientific_name == 'Canis lupus']"
   ]
  },
  {
   "attachments": {},
   "cell_type": "markdown",
   "metadata": {},
   "source": [
    "This doesn't seem right.  This is the same mammal, recorded 3 times, and once with a different conservation status.  The only sensible explanation for the repeated entries could be due to a possible change in conservation status.  If that is the case, then we can rest knowing it was recorded for a reason. "
   ]
  },
  {
   "cell_type": "code",
   "execution_count": 1741,
   "metadata": {},
   "outputs": [
    {
     "data": {
      "text/html": [
       "<div>\n",
       "<style scoped>\n",
       "    .dataframe tbody tr th:only-of-type {\n",
       "        vertical-align: middle;\n",
       "    }\n",
       "\n",
       "    .dataframe tbody tr th {\n",
       "        vertical-align: top;\n",
       "    }\n",
       "\n",
       "    .dataframe thead th {\n",
       "        text-align: right;\n",
       "    }\n",
       "</style>\n",
       "<table border=\"1\" class=\"dataframe\">\n",
       "  <thead>\n",
       "    <tr style=\"text-align: right;\">\n",
       "      <th></th>\n",
       "      <th>category</th>\n",
       "      <th>scientific_name</th>\n",
       "      <th>common_names</th>\n",
       "      <th>conservation_status</th>\n",
       "    </tr>\n",
       "  </thead>\n",
       "  <tbody>\n",
       "    <tr>\n",
       "      <th>4</th>\n",
       "      <td>Mammal</td>\n",
       "      <td>Cervus elaphus</td>\n",
       "      <td>Wapiti Or Elk</td>\n",
       "      <td>Not at Risk</td>\n",
       "    </tr>\n",
       "    <tr>\n",
       "      <th>3017</th>\n",
       "      <td>Mammal</td>\n",
       "      <td>Cervus elaphus</td>\n",
       "      <td>Rocky Mountain Elk</td>\n",
       "      <td>Not at Risk</td>\n",
       "    </tr>\n",
       "  </tbody>\n",
       "</table>\n",
       "</div>"
      ],
      "text/plain": [
       "     category scientific_name        common_names conservation_status\n",
       "4      Mammal  Cervus elaphus       Wapiti Or Elk         Not at Risk\n",
       "3017   Mammal  Cervus elaphus  Rocky Mountain Elk         Not at Risk"
      ]
     },
     "execution_count": 1741,
     "metadata": {},
     "output_type": "execute_result"
    }
   ],
   "source": [
    "# 17 (Cont.)\n",
    "\n",
    "species[species.scientific_name == 'Cervus elaphus']"
   ]
  },
  {
   "cell_type": "code",
   "execution_count": 1742,
   "metadata": {},
   "outputs": [
    {
     "data": {
      "text/html": [
       "<div>\n",
       "<style scoped>\n",
       "    .dataframe tbody tr th:only-of-type {\n",
       "        vertical-align: middle;\n",
       "    }\n",
       "\n",
       "    .dataframe tbody tr th {\n",
       "        vertical-align: top;\n",
       "    }\n",
       "\n",
       "    .dataframe thead th {\n",
       "        text-align: right;\n",
       "    }\n",
       "</style>\n",
       "<table border=\"1\" class=\"dataframe\">\n",
       "  <thead>\n",
       "    <tr style=\"text-align: right;\">\n",
       "      <th></th>\n",
       "      <th>category</th>\n",
       "      <th>scientific_name</th>\n",
       "      <th>common_names</th>\n",
       "      <th>conservation_status</th>\n",
       "    </tr>\n",
       "  </thead>\n",
       "  <tbody>\n",
       "    <tr>\n",
       "      <th>16</th>\n",
       "      <td>Mammal</td>\n",
       "      <td>Puma concolor</td>\n",
       "      <td>Panther (Mountain Lion)</td>\n",
       "      <td>Not at Risk</td>\n",
       "    </tr>\n",
       "    <tr>\n",
       "      <th>3022</th>\n",
       "      <td>Mammal</td>\n",
       "      <td>Puma concolor</td>\n",
       "      <td>Cougar, Mountain Lion, Puma</td>\n",
       "      <td>Not at Risk</td>\n",
       "    </tr>\n",
       "    <tr>\n",
       "      <th>4451</th>\n",
       "      <td>Mammal</td>\n",
       "      <td>Puma concolor</td>\n",
       "      <td>Mountain Lion</td>\n",
       "      <td>Not at Risk</td>\n",
       "    </tr>\n",
       "  </tbody>\n",
       "</table>\n",
       "</div>"
      ],
      "text/plain": [
       "     category scientific_name                 common_names conservation_status\n",
       "16     Mammal   Puma concolor      Panther (Mountain Lion)         Not at Risk\n",
       "3022   Mammal   Puma concolor  Cougar, Mountain Lion, Puma         Not at Risk\n",
       "4451   Mammal   Puma concolor                Mountain Lion         Not at Risk"
      ]
     },
     "execution_count": 1742,
     "metadata": {},
     "output_type": "execute_result"
    }
   ],
   "source": [
    "# 17 (Cont.)\n",
    "\n",
    "species[species.scientific_name == 'Puma concolor']"
   ]
  },
  {
   "attachments": {},
   "cell_type": "markdown",
   "metadata": {},
   "source": [
    "Ok, no rest for us, but you can conclude that a changing conservation status is NOT the reason for the duplicate values, and this is comforting, sort of.  It is safe to assume that the duplicates within the dataframe were recorded by different people who each had slightly different common names for the species.  To accurately plot any data, you'll need to drop the duplicates since they will do nothing for you but scew your results ever so slightly.\n",
    "\n",
    "18. Drop duplicates in the ```scientific_name``` column of the ```species``` dataframe"
   ]
  },
  {
   "cell_type": "code",
   "execution_count": 1743,
   "metadata": {},
   "outputs": [
    {
     "name": "stdout",
     "output_type": "stream",
     "text": [
      "Duplicated values in 'scientific_name' column: 0\n"
     ]
    }
   ],
   "source": [
    "species.drop_duplicates(subset=['scientific_name'], inplace=True)\n",
    "dup = species.scientific_name.duplicated().sum()\n",
    "print(f'Duplicated values in \\'scientific_name\\' column: {dup}')"
   ]
  },
  {
   "attachments": {},
   "cell_type": "markdown",
   "metadata": {},
   "source": [
    "18. Find out how many duplicate rows exist within the ```parks``` dataframe, if any\n",
    "19. If so, drop the duplicated rows, you don't need any identical rows"
   ]
  },
  {
   "cell_type": "code",
   "execution_count": 1744,
   "metadata": {},
   "outputs": [
    {
     "data": {
      "text/plain": [
       "15"
      ]
     },
     "execution_count": 1744,
     "metadata": {},
     "output_type": "execute_result"
    }
   ],
   "source": [
    "# 18\n",
    "\n",
    "parks.duplicated().sum()"
   ]
  },
  {
   "cell_type": "code",
   "execution_count": 1745,
   "metadata": {},
   "outputs": [
    {
     "name": "stdout",
     "output_type": "stream",
     "text": [
      "Before dropping duplicates: 23296\n",
      "After dropping duplicates: 23281\n"
     ]
    }
   ],
   "source": [
    "# 19\n",
    "\n",
    "print(f'Before dropping duplicates: {len(parks)}')\n",
    "parks.drop_duplicates(inplace=True)\n",
    "print(f'After dropping duplicates: {len(parks)}')"
   ]
  },
  {
   "attachments": {},
   "cell_type": "markdown",
   "metadata": {},
   "source": [
    "20. The same ```scientific_name``` shouldn't be recorded at the same ```park_name``` more than once.  Find out how many duplicates you have when you check the duplicates between ```scientific_name``` and ```park_name```\n",
    "21. There is a lot of duplicates.  Experiment with the ```parks``` dataframe and determine if these duplicate values should be dropped or not"
   ]
  },
  {
   "cell_type": "code",
   "execution_count": 1746,
   "metadata": {},
   "outputs": [
    {
     "name": "stdout",
     "output_type": "stream",
     "text": [
      "Duplicates: 1117\n"
     ]
    }
   ],
   "source": [
    "# 20\n",
    "\n",
    "dup = parks[['scientific_name', 'park_name']].duplicated().sum()\n",
    "print(f'Duplicates: {dup}')"
   ]
  },
  {
   "cell_type": "code",
   "execution_count": 1747,
   "metadata": {},
   "outputs": [
    {
     "data": {
      "text/html": [
       "<div>\n",
       "<style scoped>\n",
       "    .dataframe tbody tr th:only-of-type {\n",
       "        vertical-align: middle;\n",
       "    }\n",
       "\n",
       "    .dataframe tbody tr th {\n",
       "        vertical-align: top;\n",
       "    }\n",
       "\n",
       "    .dataframe thead th {\n",
       "        text-align: right;\n",
       "    }\n",
       "</style>\n",
       "<table border=\"1\" class=\"dataframe\">\n",
       "  <thead>\n",
       "    <tr style=\"text-align: right;\">\n",
       "      <th></th>\n",
       "      <th>scientific_name</th>\n",
       "      <th>park_name</th>\n",
       "      <th>observations</th>\n",
       "    </tr>\n",
       "  </thead>\n",
       "  <tbody>\n",
       "    <tr>\n",
       "      <th>483</th>\n",
       "      <td>Agrostis gigantea</td>\n",
       "      <td>Yellowstone National Park</td>\n",
       "      <td>235</td>\n",
       "    </tr>\n",
       "    <tr>\n",
       "      <th>490</th>\n",
       "      <td>Agrostis mertensii</td>\n",
       "      <td>Yosemite National Park</td>\n",
       "      <td>128</td>\n",
       "    </tr>\n",
       "    <tr>\n",
       "      <th>945</th>\n",
       "      <td>Rumex crispus</td>\n",
       "      <td>Yellowstone National Park</td>\n",
       "      <td>255</td>\n",
       "    </tr>\n",
       "    <tr>\n",
       "      <th>1213</th>\n",
       "      <td>Dianthus barbatus</td>\n",
       "      <td>Bryce National Park</td>\n",
       "      <td>110</td>\n",
       "    </tr>\n",
       "    <tr>\n",
       "      <th>1259</th>\n",
       "      <td>Riparia riparia</td>\n",
       "      <td>Bryce National Park</td>\n",
       "      <td>91</td>\n",
       "    </tr>\n",
       "    <tr>\n",
       "      <th>...</th>\n",
       "      <td>...</td>\n",
       "      <td>...</td>\n",
       "      <td>...</td>\n",
       "    </tr>\n",
       "    <tr>\n",
       "      <th>23258</th>\n",
       "      <td>Microtus longicaudus</td>\n",
       "      <td>Yellowstone National Park</td>\n",
       "      <td>244</td>\n",
       "    </tr>\n",
       "    <tr>\n",
       "      <th>23259</th>\n",
       "      <td>Agrostis scabra</td>\n",
       "      <td>Bryce National Park</td>\n",
       "      <td>118</td>\n",
       "    </tr>\n",
       "    <tr>\n",
       "      <th>23267</th>\n",
       "      <td>Oxalis corniculata</td>\n",
       "      <td>Yosemite National Park</td>\n",
       "      <td>164</td>\n",
       "    </tr>\n",
       "    <tr>\n",
       "      <th>23273</th>\n",
       "      <td>Dactylis glomerata</td>\n",
       "      <td>Bryce National Park</td>\n",
       "      <td>89</td>\n",
       "    </tr>\n",
       "    <tr>\n",
       "      <th>23280</th>\n",
       "      <td>Botrychium simplex</td>\n",
       "      <td>Yellowstone National Park</td>\n",
       "      <td>241</td>\n",
       "    </tr>\n",
       "  </tbody>\n",
       "</table>\n",
       "<p>1117 rows × 3 columns</p>\n",
       "</div>"
      ],
      "text/plain": [
       "            scientific_name                  park_name  observations\n",
       "483       Agrostis gigantea  Yellowstone National Park           235\n",
       "490      Agrostis mertensii     Yosemite National Park           128\n",
       "945           Rumex crispus  Yellowstone National Park           255\n",
       "1213      Dianthus barbatus        Bryce National Park           110\n",
       "1259        Riparia riparia        Bryce National Park            91\n",
       "...                     ...                        ...           ...\n",
       "23258  Microtus longicaudus  Yellowstone National Park           244\n",
       "23259       Agrostis scabra        Bryce National Park           118\n",
       "23267    Oxalis corniculata     Yosemite National Park           164\n",
       "23273    Dactylis glomerata        Bryce National Park            89\n",
       "23280    Botrychium simplex  Yellowstone National Park           241\n",
       "\n",
       "[1117 rows x 3 columns]"
      ]
     },
     "execution_count": 1747,
     "metadata": {},
     "output_type": "execute_result"
    }
   ],
   "source": [
    "# 21\n",
    "\n",
    "parks[parks[['scientific_name', 'park_name']].duplicated()]"
   ]
  },
  {
   "cell_type": "code",
   "execution_count": 1748,
   "metadata": {},
   "outputs": [
    {
     "data": {
      "text/html": [
       "<div>\n",
       "<style scoped>\n",
       "    .dataframe tbody tr th:only-of-type {\n",
       "        vertical-align: middle;\n",
       "    }\n",
       "\n",
       "    .dataframe tbody tr th {\n",
       "        vertical-align: top;\n",
       "    }\n",
       "\n",
       "    .dataframe thead th {\n",
       "        text-align: right;\n",
       "    }\n",
       "</style>\n",
       "<table border=\"1\" class=\"dataframe\">\n",
       "  <thead>\n",
       "    <tr style=\"text-align: right;\">\n",
       "      <th></th>\n",
       "      <th>scientific_name</th>\n",
       "      <th>park_name</th>\n",
       "      <th>observations</th>\n",
       "    </tr>\n",
       "  </thead>\n",
       "  <tbody>\n",
       "    <tr>\n",
       "      <th>449</th>\n",
       "      <td>Agrostis gigantea</td>\n",
       "      <td>Yellowstone National Park</td>\n",
       "      <td>253</td>\n",
       "    </tr>\n",
       "    <tr>\n",
       "      <th>483</th>\n",
       "      <td>Agrostis gigantea</td>\n",
       "      <td>Yellowstone National Park</td>\n",
       "      <td>235</td>\n",
       "    </tr>\n",
       "    <tr>\n",
       "      <th>6824</th>\n",
       "      <td>Agrostis gigantea</td>\n",
       "      <td>Bryce National Park</td>\n",
       "      <td>104</td>\n",
       "    </tr>\n",
       "    <tr>\n",
       "      <th>7763</th>\n",
       "      <td>Agrostis gigantea</td>\n",
       "      <td>Great Smoky Mountains National Park</td>\n",
       "      <td>93</td>\n",
       "    </tr>\n",
       "    <tr>\n",
       "      <th>8676</th>\n",
       "      <td>Agrostis gigantea</td>\n",
       "      <td>Bryce National Park</td>\n",
       "      <td>116</td>\n",
       "    </tr>\n",
       "    <tr>\n",
       "      <th>11602</th>\n",
       "      <td>Agrostis gigantea</td>\n",
       "      <td>Great Smoky Mountains National Park</td>\n",
       "      <td>57</td>\n",
       "    </tr>\n",
       "    <tr>\n",
       "      <th>13907</th>\n",
       "      <td>Agrostis gigantea</td>\n",
       "      <td>Yosemite National Park</td>\n",
       "      <td>148</td>\n",
       "    </tr>\n",
       "    <tr>\n",
       "      <th>17535</th>\n",
       "      <td>Agrostis gigantea</td>\n",
       "      <td>Yosemite National Park</td>\n",
       "      <td>128</td>\n",
       "    </tr>\n",
       "  </tbody>\n",
       "</table>\n",
       "</div>"
      ],
      "text/plain": [
       "         scientific_name                            park_name  observations\n",
       "449    Agrostis gigantea            Yellowstone National Park           253\n",
       "483    Agrostis gigantea            Yellowstone National Park           235\n",
       "6824   Agrostis gigantea                  Bryce National Park           104\n",
       "7763   Agrostis gigantea  Great Smoky Mountains National Park            93\n",
       "8676   Agrostis gigantea                  Bryce National Park           116\n",
       "11602  Agrostis gigantea  Great Smoky Mountains National Park            57\n",
       "13907  Agrostis gigantea               Yosemite National Park           148\n",
       "17535  Agrostis gigantea               Yosemite National Park           128"
      ]
     },
     "execution_count": 1748,
     "metadata": {},
     "output_type": "execute_result"
    }
   ],
   "source": [
    "# 21 (Cont.)\n",
    "\n",
    "parks[parks.scientific_name == 'Agrostis gigantea']"
   ]
  },
  {
   "cell_type": "code",
   "execution_count": 1749,
   "metadata": {},
   "outputs": [
    {
     "data": {
      "text/html": [
       "<div>\n",
       "<style scoped>\n",
       "    .dataframe tbody tr th:only-of-type {\n",
       "        vertical-align: middle;\n",
       "    }\n",
       "\n",
       "    .dataframe tbody tr th {\n",
       "        vertical-align: top;\n",
       "    }\n",
       "\n",
       "    .dataframe thead th {\n",
       "        text-align: right;\n",
       "    }\n",
       "</style>\n",
       "<table border=\"1\" class=\"dataframe\">\n",
       "  <thead>\n",
       "    <tr style=\"text-align: right;\">\n",
       "      <th></th>\n",
       "      <th>scientific_name</th>\n",
       "      <th>park_name</th>\n",
       "      <th>observations</th>\n",
       "    </tr>\n",
       "  </thead>\n",
       "  <tbody>\n",
       "    <tr>\n",
       "      <th>415</th>\n",
       "      <td>Oxalis corniculata</td>\n",
       "      <td>Bryce National Park</td>\n",
       "      <td>92</td>\n",
       "    </tr>\n",
       "    <tr>\n",
       "      <th>10750</th>\n",
       "      <td>Oxalis corniculata</td>\n",
       "      <td>Bryce National Park</td>\n",
       "      <td>82</td>\n",
       "    </tr>\n",
       "    <tr>\n",
       "      <th>12378</th>\n",
       "      <td>Oxalis corniculata</td>\n",
       "      <td>Yosemite National Park</td>\n",
       "      <td>153</td>\n",
       "    </tr>\n",
       "    <tr>\n",
       "      <th>14294</th>\n",
       "      <td>Oxalis corniculata</td>\n",
       "      <td>Great Smoky Mountains National Park</td>\n",
       "      <td>91</td>\n",
       "    </tr>\n",
       "    <tr>\n",
       "      <th>18638</th>\n",
       "      <td>Oxalis corniculata</td>\n",
       "      <td>Yellowstone National Park</td>\n",
       "      <td>249</td>\n",
       "    </tr>\n",
       "    <tr>\n",
       "      <th>20252</th>\n",
       "      <td>Oxalis corniculata</td>\n",
       "      <td>Great Smoky Mountains National Park</td>\n",
       "      <td>73</td>\n",
       "    </tr>\n",
       "    <tr>\n",
       "      <th>21746</th>\n",
       "      <td>Oxalis corniculata</td>\n",
       "      <td>Yellowstone National Park</td>\n",
       "      <td>223</td>\n",
       "    </tr>\n",
       "    <tr>\n",
       "      <th>23267</th>\n",
       "      <td>Oxalis corniculata</td>\n",
       "      <td>Yosemite National Park</td>\n",
       "      <td>164</td>\n",
       "    </tr>\n",
       "  </tbody>\n",
       "</table>\n",
       "</div>"
      ],
      "text/plain": [
       "          scientific_name                            park_name  observations\n",
       "415    Oxalis corniculata                  Bryce National Park            92\n",
       "10750  Oxalis corniculata                  Bryce National Park            82\n",
       "12378  Oxalis corniculata               Yosemite National Park           153\n",
       "14294  Oxalis corniculata  Great Smoky Mountains National Park            91\n",
       "18638  Oxalis corniculata            Yellowstone National Park           249\n",
       "20252  Oxalis corniculata  Great Smoky Mountains National Park            73\n",
       "21746  Oxalis corniculata            Yellowstone National Park           223\n",
       "23267  Oxalis corniculata               Yosemite National Park           164"
      ]
     },
     "execution_count": 1749,
     "metadata": {},
     "output_type": "execute_result"
    }
   ],
   "source": [
    "# 21 (Cont.)\n",
    "\n",
    "parks[parks.scientific_name == 'Oxalis corniculata']"
   ]
  },
  {
   "attachments": {},
   "cell_type": "markdown",
   "metadata": {},
   "source": [
    "22. The duplicates should definitely be dropped, but which ones?  Some have higher ```observations``` values than others.  The best course of action would be to set the values within the observations column to the average number of observations for each duplicate ```scientific_name``` and ```park_name```.  Let's do just that"
   ]
  },
  {
   "cell_type": "code",
   "execution_count": 1750,
   "metadata": {},
   "outputs": [],
   "source": [
    "# 22\n",
    "\n",
    "duplicated_name_and_park = parks[parks[['scientific_name', 'park_name']].duplicated()].reset_index(drop=True)\n",
    "\n",
    "for i in range(len(duplicated_name_and_park)):\n",
    "    \n",
    "    scientific_name = duplicated_name_and_park.scientific_name.iloc[i]\n",
    "    park_name = duplicated_name_and_park.park_name.iloc[i]\n",
    "\n",
    "    duplicate = parks[(parks.scientific_name == scientific_name) & (parks.park_name == park_name)]\n",
    "    avg_observation = int(duplicate.observations.mean())\n",
    "\n",
    "    mask = parks[(parks.scientific_name == scientific_name) & (parks.park_name == park_name)]\n",
    "    \n",
    "    parks.loc[mask.index, 'observations'] = avg_observation"
   ]
  },
  {
   "attachments": {},
   "cell_type": "markdown",
   "metadata": {},
   "source": [
    "Let's check some duplicates to make sure our conversions worked"
   ]
  },
  {
   "cell_type": "code",
   "execution_count": 1751,
   "metadata": {},
   "outputs": [
    {
     "data": {
      "text/html": [
       "<div>\n",
       "<style scoped>\n",
       "    .dataframe tbody tr th:only-of-type {\n",
       "        vertical-align: middle;\n",
       "    }\n",
       "\n",
       "    .dataframe tbody tr th {\n",
       "        vertical-align: top;\n",
       "    }\n",
       "\n",
       "    .dataframe thead th {\n",
       "        text-align: right;\n",
       "    }\n",
       "</style>\n",
       "<table border=\"1\" class=\"dataframe\">\n",
       "  <thead>\n",
       "    <tr style=\"text-align: right;\">\n",
       "      <th></th>\n",
       "      <th>scientific_name</th>\n",
       "      <th>park_name</th>\n",
       "      <th>observations</th>\n",
       "    </tr>\n",
       "  </thead>\n",
       "  <tbody>\n",
       "    <tr>\n",
       "      <th>483</th>\n",
       "      <td>Agrostis gigantea</td>\n",
       "      <td>Yellowstone National Park</td>\n",
       "      <td>244</td>\n",
       "    </tr>\n",
       "    <tr>\n",
       "      <th>490</th>\n",
       "      <td>Agrostis mertensii</td>\n",
       "      <td>Yosemite National Park</td>\n",
       "      <td>131</td>\n",
       "    </tr>\n",
       "    <tr>\n",
       "      <th>945</th>\n",
       "      <td>Rumex crispus</td>\n",
       "      <td>Yellowstone National Park</td>\n",
       "      <td>255</td>\n",
       "    </tr>\n",
       "    <tr>\n",
       "      <th>1213</th>\n",
       "      <td>Dianthus barbatus</td>\n",
       "      <td>Bryce National Park</td>\n",
       "      <td>97</td>\n",
       "    </tr>\n",
       "    <tr>\n",
       "      <th>1259</th>\n",
       "      <td>Riparia riparia</td>\n",
       "      <td>Bryce National Park</td>\n",
       "      <td>89</td>\n",
       "    </tr>\n",
       "  </tbody>\n",
       "</table>\n",
       "</div>"
      ],
      "text/plain": [
       "         scientific_name                  park_name  observations\n",
       "483    Agrostis gigantea  Yellowstone National Park           244\n",
       "490   Agrostis mertensii     Yosemite National Park           131\n",
       "945        Rumex crispus  Yellowstone National Park           255\n",
       "1213   Dianthus barbatus        Bryce National Park            97\n",
       "1259     Riparia riparia        Bryce National Park            89"
      ]
     },
     "execution_count": 1751,
     "metadata": {},
     "output_type": "execute_result"
    }
   ],
   "source": [
    "# 22 (Cont.)\n",
    "\n",
    "parks[parks.duplicated()].head()"
   ]
  },
  {
   "cell_type": "code",
   "execution_count": 1752,
   "metadata": {},
   "outputs": [
    {
     "data": {
      "text/html": [
       "<div>\n",
       "<style scoped>\n",
       "    .dataframe tbody tr th:only-of-type {\n",
       "        vertical-align: middle;\n",
       "    }\n",
       "\n",
       "    .dataframe tbody tr th {\n",
       "        vertical-align: top;\n",
       "    }\n",
       "\n",
       "    .dataframe thead th {\n",
       "        text-align: right;\n",
       "    }\n",
       "</style>\n",
       "<table border=\"1\" class=\"dataframe\">\n",
       "  <thead>\n",
       "    <tr style=\"text-align: right;\">\n",
       "      <th></th>\n",
       "      <th>scientific_name</th>\n",
       "      <th>park_name</th>\n",
       "      <th>observations</th>\n",
       "    </tr>\n",
       "  </thead>\n",
       "  <tbody>\n",
       "    <tr>\n",
       "      <th>449</th>\n",
       "      <td>Agrostis gigantea</td>\n",
       "      <td>Yellowstone National Park</td>\n",
       "      <td>244</td>\n",
       "    </tr>\n",
       "    <tr>\n",
       "      <th>483</th>\n",
       "      <td>Agrostis gigantea</td>\n",
       "      <td>Yellowstone National Park</td>\n",
       "      <td>244</td>\n",
       "    </tr>\n",
       "  </tbody>\n",
       "</table>\n",
       "</div>"
      ],
      "text/plain": [
       "       scientific_name                  park_name  observations\n",
       "449  Agrostis gigantea  Yellowstone National Park           244\n",
       "483  Agrostis gigantea  Yellowstone National Park           244"
      ]
     },
     "execution_count": 1752,
     "metadata": {},
     "output_type": "execute_result"
    }
   ],
   "source": [
    "# 22 (Cont.)\n",
    "\n",
    "parks[(parks.scientific_name == 'Agrostis gigantea') & (parks.park_name == 'Yellowstone National Park')]"
   ]
  },
  {
   "cell_type": "code",
   "execution_count": 1753,
   "metadata": {},
   "outputs": [
    {
     "data": {
      "text/html": [
       "<div>\n",
       "<style scoped>\n",
       "    .dataframe tbody tr th:only-of-type {\n",
       "        vertical-align: middle;\n",
       "    }\n",
       "\n",
       "    .dataframe tbody tr th {\n",
       "        vertical-align: top;\n",
       "    }\n",
       "\n",
       "    .dataframe thead th {\n",
       "        text-align: right;\n",
       "    }\n",
       "</style>\n",
       "<table border=\"1\" class=\"dataframe\">\n",
       "  <thead>\n",
       "    <tr style=\"text-align: right;\">\n",
       "      <th></th>\n",
       "      <th>scientific_name</th>\n",
       "      <th>park_name</th>\n",
       "      <th>observations</th>\n",
       "    </tr>\n",
       "  </thead>\n",
       "  <tbody>\n",
       "    <tr>\n",
       "      <th>872</th>\n",
       "      <td>Riparia riparia</td>\n",
       "      <td>Bryce National Park</td>\n",
       "      <td>89</td>\n",
       "    </tr>\n",
       "    <tr>\n",
       "      <th>1259</th>\n",
       "      <td>Riparia riparia</td>\n",
       "      <td>Bryce National Park</td>\n",
       "      <td>89</td>\n",
       "    </tr>\n",
       "  </tbody>\n",
       "</table>\n",
       "</div>"
      ],
      "text/plain": [
       "      scientific_name            park_name  observations\n",
       "872   Riparia riparia  Bryce National Park            89\n",
       "1259  Riparia riparia  Bryce National Park            89"
      ]
     },
     "execution_count": 1753,
     "metadata": {},
     "output_type": "execute_result"
    }
   ],
   "source": [
    "# 22 (Cont.)\n",
    "\n",
    "parks[(parks.scientific_name == 'Riparia riparia') & (parks.park_name == 'Bryce National Park')]"
   ]
  },
  {
   "attachments": {},
   "cell_type": "markdown",
   "metadata": {},
   "source": [
    "Everything checks out!  The duplicate ```scientific_name``` and ```park_name``` values now have duplicate ```observations``` values as well, which are equal to the average of the observations between the duplicates.  Now we can simply just drop the duplicate rows of the dataframe since they are equal.\n",
    "\n",
    "23. Now that the values have been correctly updated, you can drop the duplicates"
   ]
  },
  {
   "cell_type": "code",
   "execution_count": 1754,
   "metadata": {},
   "outputs": [
    {
     "name": "stdout",
     "output_type": "stream",
     "text": [
      "Number of duplicates: 1117\n",
      "Length before dropping duplicates: 23281\n",
      "Length after dropping duplicates: 22164\n",
      "Difference between before and after: 23281 - 22164 = 1117 duplicates dropped\n",
      "Duplicates in dataframe: 0\n",
      "Duplicates between 'scientific_name' and 'park_name' columns: 0\n"
     ]
    }
   ],
   "source": [
    "# 23\n",
    "\n",
    "print(f'Number of duplicates: {parks.duplicated().sum()}')\n",
    "\n",
    "before = len(parks)\n",
    "print(f'Length before dropping duplicates: {before}')\n",
    "\n",
    "parks.drop_duplicates(inplace=True)\n",
    "\n",
    "after = len(parks)\n",
    "print(f'Length after dropping duplicates: {after}')\n",
    "\n",
    "print(f'Difference between before and after: {before} - {after} = {before - after} duplicates dropped')\n",
    "print(f'Duplicates in dataframe: {parks.duplicated().sum()}')\n",
    "\n",
    "dup = parks[['scientific_name', 'park_name']].duplicated().sum()\n",
    "print(f'Duplicates between \\'scientific_name\\' and \\'park_name\\' columns: {dup}')"
   ]
  },
  {
   "attachments": {},
   "cell_type": "markdown",
   "metadata": {},
   "source": [
    "Perfect!  Now the ```parks``` dataframe contains each species number of observations ONCE per park.\n",
    "\n",
    "The ```species``` and ```parks``` dataframes cleaned up and ready for further analysis!\n",
    "\n",
    "24. Do a final summary statistics check on the ```species``` dataframe\n",
    "25. Do a final summary statistics check on the ```parks``` dataframe"
   ]
  },
  {
   "cell_type": "code",
   "execution_count": 1755,
   "metadata": {},
   "outputs": [
    {
     "name": "stdout",
     "output_type": "stream",
     "text": [
      "<class 'pandas.core.frame.DataFrame'>\n",
      "Int64Index: 5541 entries, 0 to 5823\n",
      "Data columns (total 4 columns):\n",
      " #   Column               Non-Null Count  Dtype \n",
      "---  ------               --------------  ----- \n",
      " 0   category             5541 non-null   object\n",
      " 1   scientific_name      5541 non-null   object\n",
      " 2   common_names         5541 non-null   object\n",
      " 3   conservation_status  5541 non-null   object\n",
      "dtypes: object(4)\n",
      "memory usage: 216.4+ KB\n"
     ]
    }
   ],
   "source": [
    "# 24\n",
    "\n",
    "species.info()"
   ]
  },
  {
   "cell_type": "code",
   "execution_count": 1756,
   "metadata": {},
   "outputs": [
    {
     "data": {
      "text/html": [
       "<div>\n",
       "<style scoped>\n",
       "    .dataframe tbody tr th:only-of-type {\n",
       "        vertical-align: middle;\n",
       "    }\n",
       "\n",
       "    .dataframe tbody tr th {\n",
       "        vertical-align: top;\n",
       "    }\n",
       "\n",
       "    .dataframe thead th {\n",
       "        text-align: right;\n",
       "    }\n",
       "</style>\n",
       "<table border=\"1\" class=\"dataframe\">\n",
       "  <thead>\n",
       "    <tr style=\"text-align: right;\">\n",
       "      <th></th>\n",
       "      <th>category</th>\n",
       "      <th>scientific_name</th>\n",
       "      <th>common_names</th>\n",
       "      <th>conservation_status</th>\n",
       "    </tr>\n",
       "  </thead>\n",
       "  <tbody>\n",
       "    <tr>\n",
       "      <th>count</th>\n",
       "      <td>5541</td>\n",
       "      <td>5541</td>\n",
       "      <td>5541</td>\n",
       "      <td>5541</td>\n",
       "    </tr>\n",
       "    <tr>\n",
       "      <th>unique</th>\n",
       "      <td>7</td>\n",
       "      <td>5541</td>\n",
       "      <td>5229</td>\n",
       "      <td>5</td>\n",
       "    </tr>\n",
       "    <tr>\n",
       "      <th>top</th>\n",
       "      <td>Vascular Plant</td>\n",
       "      <td>Clethrionomys gapperi gapperi</td>\n",
       "      <td>Brachythecium Moss</td>\n",
       "      <td>Not at Risk</td>\n",
       "    </tr>\n",
       "    <tr>\n",
       "      <th>freq</th>\n",
       "      <td>4262</td>\n",
       "      <td>1</td>\n",
       "      <td>7</td>\n",
       "      <td>5363</td>\n",
       "    </tr>\n",
       "  </tbody>\n",
       "</table>\n",
       "</div>"
      ],
      "text/plain": [
       "              category                scientific_name        common_names  \\\n",
       "count             5541                           5541                5541   \n",
       "unique               7                           5541                5229   \n",
       "top     Vascular Plant  Clethrionomys gapperi gapperi  Brachythecium Moss   \n",
       "freq              4262                              1                   7   \n",
       "\n",
       "       conservation_status  \n",
       "count                 5541  \n",
       "unique                   5  \n",
       "top            Not at Risk  \n",
       "freq                  5363  "
      ]
     },
     "execution_count": 1756,
     "metadata": {},
     "output_type": "execute_result"
    }
   ],
   "source": [
    "# 24 (Cont.)\n",
    "\n",
    "species.describe(include='all')"
   ]
  },
  {
   "cell_type": "code",
   "execution_count": 1757,
   "metadata": {},
   "outputs": [
    {
     "name": "stdout",
     "output_type": "stream",
     "text": [
      "<class 'pandas.core.frame.DataFrame'>\n",
      "Int64Index: 22164 entries, 0 to 23295\n",
      "Data columns (total 3 columns):\n",
      " #   Column           Non-Null Count  Dtype \n",
      "---  ------           --------------  ----- \n",
      " 0   scientific_name  22164 non-null  object\n",
      " 1   park_name        22164 non-null  object\n",
      " 2   observations     22164 non-null  int64 \n",
      "dtypes: int64(1), object(2)\n",
      "memory usage: 692.6+ KB\n"
     ]
    }
   ],
   "source": [
    "# 25\n",
    "\n",
    "parks.info()"
   ]
  },
  {
   "cell_type": "code",
   "execution_count": 1758,
   "metadata": {},
   "outputs": [
    {
     "data": {
      "text/html": [
       "<div>\n",
       "<style scoped>\n",
       "    .dataframe tbody tr th:only-of-type {\n",
       "        vertical-align: middle;\n",
       "    }\n",
       "\n",
       "    .dataframe tbody tr th {\n",
       "        vertical-align: top;\n",
       "    }\n",
       "\n",
       "    .dataframe thead th {\n",
       "        text-align: right;\n",
       "    }\n",
       "</style>\n",
       "<table border=\"1\" class=\"dataframe\">\n",
       "  <thead>\n",
       "    <tr style=\"text-align: right;\">\n",
       "      <th></th>\n",
       "      <th>scientific_name</th>\n",
       "      <th>park_name</th>\n",
       "      <th>observations</th>\n",
       "    </tr>\n",
       "  </thead>\n",
       "  <tbody>\n",
       "    <tr>\n",
       "      <th>count</th>\n",
       "      <td>22164</td>\n",
       "      <td>22164</td>\n",
       "      <td>22164.000000</td>\n",
       "    </tr>\n",
       "    <tr>\n",
       "      <th>unique</th>\n",
       "      <td>5541</td>\n",
       "      <td>4</td>\n",
       "      <td>NaN</td>\n",
       "    </tr>\n",
       "    <tr>\n",
       "      <th>top</th>\n",
       "      <td>Vicia benghalensis</td>\n",
       "      <td>Great Smoky Mountains National Park</td>\n",
       "      <td>NaN</td>\n",
       "    </tr>\n",
       "    <tr>\n",
       "      <th>freq</th>\n",
       "      <td>4</td>\n",
       "      <td>5541</td>\n",
       "      <td>NaN</td>\n",
       "    </tr>\n",
       "    <tr>\n",
       "      <th>mean</th>\n",
       "      <td>NaN</td>\n",
       "      <td>NaN</td>\n",
       "      <td>142.302472</td>\n",
       "    </tr>\n",
       "    <tr>\n",
       "      <th>std</th>\n",
       "      <td>NaN</td>\n",
       "      <td>NaN</td>\n",
       "      <td>69.806198</td>\n",
       "    </tr>\n",
       "    <tr>\n",
       "      <th>min</th>\n",
       "      <td>NaN</td>\n",
       "      <td>NaN</td>\n",
       "      <td>9.000000</td>\n",
       "    </tr>\n",
       "    <tr>\n",
       "      <th>25%</th>\n",
       "      <td>NaN</td>\n",
       "      <td>NaN</td>\n",
       "      <td>86.000000</td>\n",
       "    </tr>\n",
       "    <tr>\n",
       "      <th>50%</th>\n",
       "      <td>NaN</td>\n",
       "      <td>NaN</td>\n",
       "      <td>124.000000</td>\n",
       "    </tr>\n",
       "    <tr>\n",
       "      <th>75%</th>\n",
       "      <td>NaN</td>\n",
       "      <td>NaN</td>\n",
       "      <td>195.000000</td>\n",
       "    </tr>\n",
       "    <tr>\n",
       "      <th>max</th>\n",
       "      <td>NaN</td>\n",
       "      <td>NaN</td>\n",
       "      <td>321.000000</td>\n",
       "    </tr>\n",
       "  </tbody>\n",
       "</table>\n",
       "</div>"
      ],
      "text/plain": [
       "           scientific_name                            park_name  observations\n",
       "count                22164                                22164  22164.000000\n",
       "unique                5541                                    4           NaN\n",
       "top     Vicia benghalensis  Great Smoky Mountains National Park           NaN\n",
       "freq                     4                                 5541           NaN\n",
       "mean                   NaN                                  NaN    142.302472\n",
       "std                    NaN                                  NaN     69.806198\n",
       "min                    NaN                                  NaN      9.000000\n",
       "25%                    NaN                                  NaN     86.000000\n",
       "50%                    NaN                                  NaN    124.000000\n",
       "75%                    NaN                                  NaN    195.000000\n",
       "max                    NaN                                  NaN    321.000000"
      ]
     },
     "execution_count": 1758,
     "metadata": {},
     "output_type": "execute_result"
    }
   ],
   "source": [
    "# 25 (Cont.)\n",
    "\n",
    "parks.describe(include='all')"
   ]
  },
  {
   "attachments": {},
   "cell_type": "markdown",
   "metadata": {},
   "source": [
    "The dataframes look great!  Each dataframe contains 0 null values and 5541 unique values for the ```scientific_name``` column.  The only time there will be a duplicate ```scientific_name``` value in the ```parks``` dataframe is when the scientific name corresponds to a different ```park_name``` value.  Therefore, since there are four unique ```park_name``` values, there can be a maximum of four identical ```scientific_name``` values corresponding to a different unique ```park_name``` value with each occurance.\n",
    "\n",
    "The final step you need to take before looking further into the data is to merge the two dataframes.  This will make plotting our findings much easier.\n",
    "\n",
    "26. Merge the ```species``` and ```parks``` dataframes by inner merging ```species``` onto ```parks```"
   ]
  },
  {
   "cell_type": "code",
   "execution_count": 1759,
   "metadata": {},
   "outputs": [],
   "source": [
    "# 26\n",
    "\n",
    "parks_species = parks.merge(species)"
   ]
  },
  {
   "cell_type": "code",
   "execution_count": 1760,
   "metadata": {},
   "outputs": [
    {
     "data": {
      "text/html": [
       "<div>\n",
       "<style scoped>\n",
       "    .dataframe tbody tr th:only-of-type {\n",
       "        vertical-align: middle;\n",
       "    }\n",
       "\n",
       "    .dataframe tbody tr th {\n",
       "        vertical-align: top;\n",
       "    }\n",
       "\n",
       "    .dataframe thead th {\n",
       "        text-align: right;\n",
       "    }\n",
       "</style>\n",
       "<table border=\"1\" class=\"dataframe\">\n",
       "  <thead>\n",
       "    <tr style=\"text-align: right;\">\n",
       "      <th></th>\n",
       "      <th>scientific_name</th>\n",
       "      <th>park_name</th>\n",
       "      <th>observations</th>\n",
       "      <th>category</th>\n",
       "      <th>common_names</th>\n",
       "      <th>conservation_status</th>\n",
       "    </tr>\n",
       "  </thead>\n",
       "  <tbody>\n",
       "    <tr>\n",
       "      <th>0</th>\n",
       "      <td>Vicia benghalensis</td>\n",
       "      <td>Great Smoky Mountains National Park</td>\n",
       "      <td>68</td>\n",
       "      <td>Vascular Plant</td>\n",
       "      <td>Purple Vetch, Reddish Tufted Vetch</td>\n",
       "      <td>Not at Risk</td>\n",
       "    </tr>\n",
       "    <tr>\n",
       "      <th>1</th>\n",
       "      <td>Vicia benghalensis</td>\n",
       "      <td>Yosemite National Park</td>\n",
       "      <td>148</td>\n",
       "      <td>Vascular Plant</td>\n",
       "      <td>Purple Vetch, Reddish Tufted Vetch</td>\n",
       "      <td>Not at Risk</td>\n",
       "    </tr>\n",
       "    <tr>\n",
       "      <th>2</th>\n",
       "      <td>Vicia benghalensis</td>\n",
       "      <td>Yellowstone National Park</td>\n",
       "      <td>247</td>\n",
       "      <td>Vascular Plant</td>\n",
       "      <td>Purple Vetch, Reddish Tufted Vetch</td>\n",
       "      <td>Not at Risk</td>\n",
       "    </tr>\n",
       "    <tr>\n",
       "      <th>3</th>\n",
       "      <td>Vicia benghalensis</td>\n",
       "      <td>Bryce National Park</td>\n",
       "      <td>104</td>\n",
       "      <td>Vascular Plant</td>\n",
       "      <td>Purple Vetch, Reddish Tufted Vetch</td>\n",
       "      <td>Not at Risk</td>\n",
       "    </tr>\n",
       "    <tr>\n",
       "      <th>4</th>\n",
       "      <td>Neovison vison</td>\n",
       "      <td>Great Smoky Mountains National Park</td>\n",
       "      <td>77</td>\n",
       "      <td>Mammal</td>\n",
       "      <td>American Mink</td>\n",
       "      <td>Not at Risk</td>\n",
       "    </tr>\n",
       "  </tbody>\n",
       "</table>\n",
       "</div>"
      ],
      "text/plain": [
       "      scientific_name                            park_name  observations  \\\n",
       "0  Vicia benghalensis  Great Smoky Mountains National Park            68   \n",
       "1  Vicia benghalensis               Yosemite National Park           148   \n",
       "2  Vicia benghalensis            Yellowstone National Park           247   \n",
       "3  Vicia benghalensis                  Bryce National Park           104   \n",
       "4      Neovison vison  Great Smoky Mountains National Park            77   \n",
       "\n",
       "         category                        common_names conservation_status  \n",
       "0  Vascular Plant  Purple Vetch, Reddish Tufted Vetch         Not at Risk  \n",
       "1  Vascular Plant  Purple Vetch, Reddish Tufted Vetch         Not at Risk  \n",
       "2  Vascular Plant  Purple Vetch, Reddish Tufted Vetch         Not at Risk  \n",
       "3  Vascular Plant  Purple Vetch, Reddish Tufted Vetch         Not at Risk  \n",
       "4          Mammal                       American Mink         Not at Risk  "
      ]
     },
     "execution_count": 1760,
     "metadata": {},
     "output_type": "execute_result"
    }
   ],
   "source": [
    "# 26\n",
    "\n",
    "parks_species.head()"
   ]
  },
  {
   "attachments": {},
   "cell_type": "markdown",
   "metadata": {},
   "source": [
    "By inner merging ```species``` onto ```parks```, the dataframe merges on the common columns, which in this case, was the ```scientific_name``` column.  \n",
    "\n",
    "Time to move into further exploration of the data!"
   ]
  },
  {
   "attachments": {},
   "cell_type": "markdown",
   "metadata": {},
   "source": [
    "---"
   ]
  },
  {
   "attachments": {},
   "cell_type": "markdown",
   "metadata": {},
   "source": [
    "# Section 3 - Exploring the Data - Part 1\n",
    "### _Conservation Statuses within Different Parks_\n",
    "With a \\'tidy\\' pair of dataframes, you can now dive into deeper exploration of the data.\n",
    "\n",
    "In this analysis, you want to find out if there are any common factors amongst endangered species in order to prevent other species becoming endangered in the future.  For this section, the focus will be on the observations of different conservation statuses within different parks.\n",
    "\n",
    "27. Find out which parks have the highest amount of \\'Not at Risk\\' species\n",
    "28. Look at the total observations for all ```conservation_status``` values within every park"
   ]
  },
  {
   "cell_type": "code",
   "execution_count": 1761,
   "metadata": {},
   "outputs": [],
   "source": [
    "# 27\n",
    "\n",
    "not_at_risk = parks_species[parks_species.conservation_status == 'Not at Risk']"
   ]
  },
  {
   "cell_type": "code",
   "execution_count": 1762,
   "metadata": {},
   "outputs": [
    {
     "data": {
      "image/png": "[encoded data removed]",
      "text/plain": [
       "<Figure size 640x480 with 1 Axes>"
      ]
     },
     "metadata": {},
     "output_type": "display_data"
    },
    {
     "data": {
      "text/plain": [
       "<Figure size 640x480 with 0 Axes>"
      ]
     },
     "metadata": {},
     "output_type": "display_data"
    }
   ],
   "source": [
    "# 27\n",
    "\n",
    "sns.boxplot(data=not_at_risk, x='park_name', y='observations')\n",
    "ax = plt.subplot()\n",
    "ax.set_xticks(range(len(not_at_risk.park_name.unique())))\n",
    "ax.set_xticklabels(not_at_risk.park_name.unique(), rotation=30)\n",
    "plt.title('\\'Not at Risk\\' Observations Per Park')\n",
    "plt.xlabel('National Park')\n",
    "plt.ylabel('Number of Observations')\n",
    "plt.show()\n",
    "plt.clf()"
   ]
  },
  {
   "attachments": {},
   "cell_type": "markdown",
   "metadata": {},
   "source": [
    "You can see that the highest number of 'Not at Risk' species observations is in Yellowstone National Park.  This chart is really just for curiousity because this doesn't necessarily mean that Yellowstone is a 'safer' park for a particular species.  This could be for a variety of reasons such as the park could being larger than the other parks or the park having a larger species population, etc."
   ]
  },
  {
   "cell_type": "code",
   "execution_count": 1763,
   "metadata": {},
   "outputs": [],
   "source": [
    "# 28\n",
    "\n",
    "observations_per_park = parks_species.groupby(['park_name', 'conservation_status']).observations.sum().reset_index()"
   ]
  },
  {
   "cell_type": "code",
   "execution_count": 1764,
   "metadata": {},
   "outputs": [],
   "source": [
    "# 28 (Cont.)\n",
    "\n",
    "observations_per_park_pivot = observations_per_park.pivot(\n",
    "  index='park_name',\n",
    "  columns='conservation_status',\n",
    "  values='observations'\n",
    ")"
   ]
  },
  {
   "cell_type": "code",
   "execution_count": 1765,
   "metadata": {},
   "outputs": [
    {
     "data": {
      "text/html": [
       "<div>\n",
       "<style scoped>\n",
       "    .dataframe tbody tr th:only-of-type {\n",
       "        vertical-align: middle;\n",
       "    }\n",
       "\n",
       "    .dataframe tbody tr th {\n",
       "        vertical-align: top;\n",
       "    }\n",
       "\n",
       "    .dataframe thead th {\n",
       "        text-align: right;\n",
       "    }\n",
       "</style>\n",
       "<table border=\"1\" class=\"dataframe\">\n",
       "  <thead>\n",
       "    <tr style=\"text-align: right;\">\n",
       "      <th>conservation_status</th>\n",
       "      <th>Endangered</th>\n",
       "      <th>In Recovery</th>\n",
       "      <th>Not at Risk</th>\n",
       "      <th>Species of Concern</th>\n",
       "      <th>Threatened</th>\n",
       "    </tr>\n",
       "    <tr>\n",
       "      <th>park_name</th>\n",
       "      <th></th>\n",
       "      <th></th>\n",
       "      <th></th>\n",
       "      <th></th>\n",
       "      <th></th>\n",
       "    </tr>\n",
       "  </thead>\n",
       "  <tbody>\n",
       "    <tr>\n",
       "      <th>Bryce National Park</th>\n",
       "      <td>402</td>\n",
       "      <td>258</td>\n",
       "      <td>533093</td>\n",
       "      <td>13979</td>\n",
       "      <td>427</td>\n",
       "    </tr>\n",
       "    <tr>\n",
       "      <th>Great Smoky Mountains National Park</th>\n",
       "      <td>294</td>\n",
       "      <td>189</td>\n",
       "      <td>400343</td>\n",
       "      <td>9659</td>\n",
       "      <td>340</td>\n",
       "    </tr>\n",
       "    <tr>\n",
       "      <th>Yellowstone National Park</th>\n",
       "      <td>1008</td>\n",
       "      <td>559</td>\n",
       "      <td>1337313</td>\n",
       "      <td>33569</td>\n",
       "      <td>1087</td>\n",
       "    </tr>\n",
       "    <tr>\n",
       "      <th>Yosemite National Park</th>\n",
       "      <td>616</td>\n",
       "      <td>386</td>\n",
       "      <td>799611</td>\n",
       "      <td>20187</td>\n",
       "      <td>672</td>\n",
       "    </tr>\n",
       "  </tbody>\n",
       "</table>\n",
       "</div>"
      ],
      "text/plain": [
       "conservation_status                  Endangered  In Recovery  Not at Risk  \\\n",
       "park_name                                                                   \n",
       "Bryce National Park                         402          258       533093   \n",
       "Great Smoky Mountains National Park         294          189       400343   \n",
       "Yellowstone National Park                  1008          559      1337313   \n",
       "Yosemite National Park                      616          386       799611   \n",
       "\n",
       "conservation_status                  Species of Concern  Threatened  \n",
       "park_name                                                            \n",
       "Bryce National Park                               13979         427  \n",
       "Great Smoky Mountains National Park                9659         340  \n",
       "Yellowstone National Park                         33569        1087  \n",
       "Yosemite National Park                            20187         672  "
      ]
     },
     "execution_count": 1765,
     "metadata": {},
     "output_type": "execute_result"
    }
   ],
   "source": [
    "# 28 (Cont.)\n",
    "\n",
    "observations_per_park_pivot"
   ]
  },
  {
   "cell_type": "code",
   "execution_count": 1766,
   "metadata": {},
   "outputs": [
    {
     "data": {
      "text/plain": [
       "park_name\n",
       "Bryce National Park                     548159\n",
       "Great Smoky Mountains National Park     410825\n",
       "Yellowstone National Park              1373536\n",
       "Yosemite National Park                  821472\n",
       "dtype: int64"
      ]
     },
     "execution_count": 1766,
     "metadata": {},
     "output_type": "execute_result"
    }
   ],
   "source": [
    "# 28 (Cont.)\n",
    "\n",
    "# Using .sum() and specifying axis 1 will add up all the values across the rows instead of down the columns\n",
    "\n",
    "observations_per_park_pivot.sum(axis=1)"
   ]
  },
  {
   "attachments": {},
   "cell_type": "markdown",
   "metadata": {},
   "source": [
    "Now that you have a pivot table, you can see the total population for every conservation status in every national park.  In order to learn more from the pivot table, you can calculate the total observations for every conservation status and then find the percentages of the different conservation statuses within each park.\n",
    "\n",
    "You don't just want to make calculations, it would be nice to save the calculations into a variable as well.  You can update the entire pivot table into percentages but this would alter the currrent pivot table.  To avoid this, create a new variable and use the ```.copy()``` method to make a copy of the original pivot table.  If you don't use the ```.copy()``` method, then any alterations applied to the new pivot table variable will also apply to the original, though it is not directly referenced. \n",
    "\n",
    "29. Create a copy of the original pivot table using ```.copy()```\n",
    "30. Update the new pivot table variable with percentages for every conservation status in each park"
   ]
  },
  {
   "cell_type": "code",
   "execution_count": 1767,
   "metadata": {},
   "outputs": [],
   "source": [
    "# 29\n",
    "\n",
    "observations_per_park_pivot_percent = observations_per_park_pivot.copy()"
   ]
  },
  {
   "cell_type": "code",
   "execution_count": 1768,
   "metadata": {},
   "outputs": [
    {
     "name": "stdout",
     "output_type": "stream",
     "text": [
      "['Bryce National Park', 548159]\n",
      "['Great Smoky Mountains National Park', 410825]\n",
      "['Yellowstone National Park', 1373536]\n",
      "['Yosemite National Park', 821472]\n"
     ]
    }
   ],
   "source": [
    "# 30\n",
    "\n",
    "bryce_park_total = [observations_per_park_pivot.sum(axis=1).index[0], observations_per_park_pivot.sum(axis=1)[0]]\n",
    "smokies_park_total = [observations_per_park_pivot.sum(axis=1).index[1], observations_per_park_pivot.sum(axis=1)[1]]\n",
    "yellowstone_park_total = [observations_per_park_pivot.sum(axis=1).index[2], observations_per_park_pivot.sum(axis=1)[2]]\n",
    "yosemite_park_total = [observations_per_park_pivot.sum(axis=1).index[3], observations_per_park_pivot.sum(axis=1)[3]]\n",
    "\n",
    "print(bryce_park_total)\n",
    "print(smokies_park_total)\n",
    "print(yellowstone_park_total)\n",
    "print(yosemite_park_total)\n",
    "\n",
    "park_list = [bryce_park_total, smokies_park_total, yellowstone_park_total, yosemite_park_total]"
   ]
  },
  {
   "cell_type": "code",
   "execution_count": 1769,
   "metadata": {},
   "outputs": [],
   "source": [
    "# 30 (Cont.)\n",
    "\n",
    "for i in range(len(observations_per_park_pivot_percent.index)):\n",
    "    observations_per_park_pivot_percent.iloc[i] = observations_per_park_pivot_percent.iloc[i].apply(lambda x: str(round((x / park_list[i][1]) * 100, 3)) + '%')"
   ]
  },
  {
   "cell_type": "code",
   "execution_count": 1770,
   "metadata": {},
   "outputs": [
    {
     "data": {
      "text/html": [
       "<div>\n",
       "<style scoped>\n",
       "    .dataframe tbody tr th:only-of-type {\n",
       "        vertical-align: middle;\n",
       "    }\n",
       "\n",
       "    .dataframe tbody tr th {\n",
       "        vertical-align: top;\n",
       "    }\n",
       "\n",
       "    .dataframe thead th {\n",
       "        text-align: right;\n",
       "    }\n",
       "</style>\n",
       "<table border=\"1\" class=\"dataframe\">\n",
       "  <thead>\n",
       "    <tr style=\"text-align: right;\">\n",
       "      <th>conservation_status</th>\n",
       "      <th>Endangered</th>\n",
       "      <th>In Recovery</th>\n",
       "      <th>Not at Risk</th>\n",
       "      <th>Species of Concern</th>\n",
       "      <th>Threatened</th>\n",
       "    </tr>\n",
       "    <tr>\n",
       "      <th>park_name</th>\n",
       "      <th></th>\n",
       "      <th></th>\n",
       "      <th></th>\n",
       "      <th></th>\n",
       "      <th></th>\n",
       "    </tr>\n",
       "  </thead>\n",
       "  <tbody>\n",
       "    <tr>\n",
       "      <th>Bryce National Park</th>\n",
       "      <td>0.073%</td>\n",
       "      <td>0.047%</td>\n",
       "      <td>97.252%</td>\n",
       "      <td>2.55%</td>\n",
       "      <td>0.078%</td>\n",
       "    </tr>\n",
       "    <tr>\n",
       "      <th>Great Smoky Mountains National Park</th>\n",
       "      <td>0.072%</td>\n",
       "      <td>0.046%</td>\n",
       "      <td>97.449%</td>\n",
       "      <td>2.351%</td>\n",
       "      <td>0.083%</td>\n",
       "    </tr>\n",
       "    <tr>\n",
       "      <th>Yellowstone National Park</th>\n",
       "      <td>0.073%</td>\n",
       "      <td>0.041%</td>\n",
       "      <td>97.363%</td>\n",
       "      <td>2.444%</td>\n",
       "      <td>0.079%</td>\n",
       "    </tr>\n",
       "    <tr>\n",
       "      <th>Yosemite National Park</th>\n",
       "      <td>0.075%</td>\n",
       "      <td>0.047%</td>\n",
       "      <td>97.339%</td>\n",
       "      <td>2.457%</td>\n",
       "      <td>0.082%</td>\n",
       "    </tr>\n",
       "  </tbody>\n",
       "</table>\n",
       "</div>"
      ],
      "text/plain": [
       "conservation_status                 Endangered In Recovery Not at Risk  \\\n",
       "park_name                                                                \n",
       "Bryce National Park                     0.073%      0.047%     97.252%   \n",
       "Great Smoky Mountains National Park     0.072%      0.046%     97.449%   \n",
       "Yellowstone National Park               0.073%      0.041%     97.363%   \n",
       "Yosemite National Park                  0.075%      0.047%     97.339%   \n",
       "\n",
       "conservation_status                 Species of Concern Threatened  \n",
       "park_name                                                          \n",
       "Bryce National Park                              2.55%     0.078%  \n",
       "Great Smoky Mountains National Park             2.351%     0.083%  \n",
       "Yellowstone National Park                       2.444%     0.079%  \n",
       "Yosemite National Park                          2.457%     0.082%  "
      ]
     },
     "execution_count": 1770,
     "metadata": {},
     "output_type": "execute_result"
    }
   ],
   "source": [
    "# 30 (Cont.)\n",
    "\n",
    "observations_per_park_pivot_percent"
   ]
  },
  {
   "cell_type": "code",
   "execution_count": 1771,
   "metadata": {},
   "outputs": [
    {
     "data": {
      "text/html": [
       "<div>\n",
       "<style scoped>\n",
       "    .dataframe tbody tr th:only-of-type {\n",
       "        vertical-align: middle;\n",
       "    }\n",
       "\n",
       "    .dataframe tbody tr th {\n",
       "        vertical-align: top;\n",
       "    }\n",
       "\n",
       "    .dataframe thead th {\n",
       "        text-align: right;\n",
       "    }\n",
       "</style>\n",
       "<table border=\"1\" class=\"dataframe\">\n",
       "  <thead>\n",
       "    <tr style=\"text-align: right;\">\n",
       "      <th>conservation_status</th>\n",
       "      <th>Endangered</th>\n",
       "      <th>In Recovery</th>\n",
       "      <th>Not at Risk</th>\n",
       "      <th>Species of Concern</th>\n",
       "      <th>Threatened</th>\n",
       "    </tr>\n",
       "    <tr>\n",
       "      <th>park_name</th>\n",
       "      <th></th>\n",
       "      <th></th>\n",
       "      <th></th>\n",
       "      <th></th>\n",
       "      <th></th>\n",
       "    </tr>\n",
       "  </thead>\n",
       "  <tbody>\n",
       "    <tr>\n",
       "      <th>Bryce National Park</th>\n",
       "      <td>402</td>\n",
       "      <td>258</td>\n",
       "      <td>533093</td>\n",
       "      <td>13979</td>\n",
       "      <td>427</td>\n",
       "    </tr>\n",
       "    <tr>\n",
       "      <th>Great Smoky Mountains National Park</th>\n",
       "      <td>294</td>\n",
       "      <td>189</td>\n",
       "      <td>400343</td>\n",
       "      <td>9659</td>\n",
       "      <td>340</td>\n",
       "    </tr>\n",
       "    <tr>\n",
       "      <th>Yellowstone National Park</th>\n",
       "      <td>1008</td>\n",
       "      <td>559</td>\n",
       "      <td>1337313</td>\n",
       "      <td>33569</td>\n",
       "      <td>1087</td>\n",
       "    </tr>\n",
       "    <tr>\n",
       "      <th>Yosemite National Park</th>\n",
       "      <td>616</td>\n",
       "      <td>386</td>\n",
       "      <td>799611</td>\n",
       "      <td>20187</td>\n",
       "      <td>672</td>\n",
       "    </tr>\n",
       "  </tbody>\n",
       "</table>\n",
       "</div>"
      ],
      "text/plain": [
       "conservation_status                  Endangered  In Recovery  Not at Risk  \\\n",
       "park_name                                                                   \n",
       "Bryce National Park                         402          258       533093   \n",
       "Great Smoky Mountains National Park         294          189       400343   \n",
       "Yellowstone National Park                  1008          559      1337313   \n",
       "Yosemite National Park                      616          386       799611   \n",
       "\n",
       "conservation_status                  Species of Concern  Threatened  \n",
       "park_name                                                            \n",
       "Bryce National Park                               13979         427  \n",
       "Great Smoky Mountains National Park                9659         340  \n",
       "Yellowstone National Park                         33569        1087  \n",
       "Yosemite National Park                            20187         672  "
      ]
     },
     "execution_count": 1771,
     "metadata": {},
     "output_type": "execute_result"
    }
   ],
   "source": [
    "# 30 (Cont.)\n",
    "\n",
    "observations_per_park_pivot"
   ]
  },
  {
   "attachments": {},
   "cell_type": "markdown",
   "metadata": {},
   "source": [
    "Now you have two seperate pivot tables, one with the number of observations per park, and one with the percentage of observations per park!\n",
    "\n",
    "What is the takeaway from doing this though?  \n",
    "\n",
    "Well, take a look at the pivot table directly above, with the number of observations.  It looks as if the 'safest' park for wildlife is Yellowstone.  It also looks like that is the 'most dangerous' park for wildlife as well.  It's hard to interpret what you're really looking at.  This is why you created the pivot table containing percentages instead!\n",
    "\n",
    "Look at the pivot table above the one with the number of observations, the one that contains the decimal numbers as values (The percentages).  There is an incredibly small amount of variation between the percentages of each conservation status within each park.  \n",
    "\n",
    "Findings:\n",
    "- ```There are near equal proportions of each conservation status within each park.``` \n",
    "\n",
    "In the comparison of observations between conservation statuses within different parks, we can conclude that they are relatively equal.  The good thing is, there are other columns of data to still explore, and you have learned something important about the data that can be used moving forward."
   ]
  },
  {
   "attachments": {},
   "cell_type": "markdown",
   "metadata": {},
   "source": [
    "---"
   ]
  },
  {
   "attachments": {},
   "cell_type": "markdown",
   "metadata": {},
   "source": [
    "# Section 3 - Exploring the Data - Part 2\n",
    "### _Plotting the Proportions_\n",
    "\n",
    "For most of the plots you'll make throughout the analysis you'll need to use a dataframe that excludes the 'Not at Risk' ```conservation_status``` value.  This is due to the fact that the proportion of species that are 'Not at Risk' exceeds the other ```conservation_status``` values by so much that the graphs/charts can't be read.  This is fine, as long as we understand the actual proportions of the data with the 'Not at Risk' values included.\n",
    "\n",
    "31. Plot an example of keeping the 'Not at Risk' values in your graphs/charts\n",
    "32. Create a dataframe that excludes the 'Not at Risk' values"
   ]
  },
  {
   "cell_type": "code",
   "execution_count": 1772,
   "metadata": {},
   "outputs": [
    {
     "data": {
      "image/png": "[encoded data removed]",
      "text/plain": [
       "<Figure size 640x480 with 1 Axes>"
      ]
     },
     "metadata": {},
     "output_type": "display_data"
    },
    {
     "data": {
      "text/plain": [
       "<Figure size 640x480 with 0 Axes>"
      ]
     },
     "metadata": {},
     "output_type": "display_data"
    }
   ],
   "source": [
    "# 31\n",
    "\n",
    "sns.countplot(data=parks_species, x='category', hue='conservation_status')\n",
    "ax = plt.subplot()\n",
    "ax.set_xticks(range(len(parks_species.category.unique())))\n",
    "ax.set_xticklabels(parks_species.category.unique(), rotation=30)\n",
    "plt.title('# of Obsv\\'s of Species in each Category based off Conservation Status')\n",
    "plt.ylabel('Number of Observations')\n",
    "plt.xlabel('Category of Species')\n",
    "plt.legend(title='Conservation Status')\n",
    "plt.show()\n",
    "plt.clf()"
   ]
  },
  {
   "attachments": {},
   "cell_type": "markdown",
   "metadata": {},
   "source": [
    "Not much to see here!  Let's fix that!"
   ]
  },
  {
   "cell_type": "code",
   "execution_count": 1773,
   "metadata": {},
   "outputs": [
    {
     "name": "stdout",
     "output_type": "stream",
     "text": [
      "Length of original dataframe: 22164\n",
      "Length of dataframe including 'Not at Risk' values only: 21452\n",
      "Length of dataframe excluding 'Not at Risk': 712\n",
      "Length after adding the included and excluded dataframes: 22164\n"
     ]
    }
   ],
   "source": [
    "# 32\n",
    "\n",
    "pk_sp_nar_excluded = parks_species[parks_species.conservation_status != 'Not at Risk']\n",
    "pk_sp_nar_included = parks_species[parks_species.conservation_status == 'Not at Risk']\n",
    "\n",
    "print(f'Length of original dataframe: {len(parks_species)}')\n",
    "print(f'Length of dataframe including \\'Not at Risk\\' values only: {len(pk_sp_nar_included)}')\n",
    "print(f'Length of dataframe excluding \\'Not at Risk\\': {len(pk_sp_nar_excluded)}')\n",
    "print(f'Length after adding the included and excluded dataframes: {len(pk_sp_nar_excluded) + len(pk_sp_nar_included)}')\n"
   ]
  },
  {
   "cell_type": "code",
   "execution_count": 1774,
   "metadata": {},
   "outputs": [
    {
     "data": {
      "text/plain": [
       "Species of Concern    604\n",
       "Endangered             60\n",
       "Threatened             36\n",
       "In Recovery            12\n",
       "Name: conservation_status, dtype: int64"
      ]
     },
     "execution_count": 1774,
     "metadata": {},
     "output_type": "execute_result"
    }
   ],
   "source": [
    "# 32 (Cont.)\n",
    "\n",
    "pk_sp_nar_excluded.conservation_status.value_counts()"
   ]
  },
  {
   "attachments": {},
   "cell_type": "markdown",
   "metadata": {},
   "source": [
    "You now have a dataframe that will be easier to plot with!  \n",
    "\n",
    "Time for some visualizations!\n",
    "\n",
    "33. Make a figure showing the proportions of observations for each conservation status within each park"
   ]
  },
  {
   "cell_type": "code",
   "execution_count": 1775,
   "metadata": {},
   "outputs": [
    {
     "data": {
      "image/png": "[encoded data removed]",
      "text/plain": [
       "<Figure size 1000x1000 with 4 Axes>"
      ]
     },
     "metadata": {},
     "output_type": "display_data"
    },
    {
     "data": {
      "text/plain": [
       "<Figure size 640x480 with 0 Axes>"
      ]
     },
     "metadata": {},
     "output_type": "display_data"
    }
   ],
   "source": [
    "# 33\n",
    "\n",
    "plt.figure(figsize=(10, 10))\n",
    "\n",
    "for i in range(len(pk_sp_nar_excluded.park_name.unique())):\n",
    "  \n",
    "  park_df = pk_sp_nar_excluded[pk_sp_nar_excluded.park_name == pk_sp_nar_excluded.park_name.unique()[i]]\n",
    "  park_df = park_df[['conservation_status', 'observations']]\n",
    "  park_df = park_df.groupby('conservation_status', sort=False).observations.sum()\n",
    "  pie_labels = park_df.index\n",
    "\n",
    "  plt.subplot(2, 2, i + 1)\n",
    "  plt.pie(park_df, autopct='%0.2f%%')\n",
    "  plt.axis('equal')\n",
    "  plt.title(f'{pk_sp_nar_excluded.park_name.unique()[i]} Obsvervation %\\'s')\n",
    "  plt.legend(pie_labels)\n",
    "\n",
    "plt.show()\n",
    "plt.clf()"
   ]
  },
  {
   "attachments": {},
   "cell_type": "markdown",
   "metadata": {},
   "source": [
    "In creating four separate pie charts, one for each park, you can see that the percentage of observations for each conservation status was nearly identical in each park.  This is basically the same as the pivot table earlier but without the 'Not at Risk' conservation status included.  You can see that the majority of species who are at some sort of risk, fall under the category of 'Species of Concern'.\n",
    "\n",
    "The figure above is just another way to show our finding from the pivot table earlier.  \n",
    "\n",
    "Moving on from the proportions!  \n",
    "\n",
    "You're curious if there is a relationship between conservation status and the amount of observations recorded for a specific species.\n",
    "\n",
    "34. Make a plot that shows the relationship between ```conservation_status``` and ```observations```"
   ]
  },
  {
   "cell_type": "code",
   "execution_count": 1776,
   "metadata": {},
   "outputs": [
    {
     "data": {
      "text/html": [
       "<div>\n",
       "<style scoped>\n",
       "    .dataframe tbody tr th:only-of-type {\n",
       "        vertical-align: middle;\n",
       "    }\n",
       "\n",
       "    .dataframe tbody tr th {\n",
       "        vertical-align: top;\n",
       "    }\n",
       "\n",
       "    .dataframe thead th {\n",
       "        text-align: right;\n",
       "    }\n",
       "</style>\n",
       "<table border=\"1\" class=\"dataframe\">\n",
       "  <thead>\n",
       "    <tr style=\"text-align: right;\">\n",
       "      <th></th>\n",
       "      <th>scientific_name</th>\n",
       "      <th>park_name</th>\n",
       "      <th>observations</th>\n",
       "      <th>category</th>\n",
       "      <th>common_names</th>\n",
       "      <th>conservation_status</th>\n",
       "    </tr>\n",
       "  </thead>\n",
       "  <tbody>\n",
       "    <tr>\n",
       "      <th>96</th>\n",
       "      <td>Zizia trifoliata</td>\n",
       "      <td>Yosemite National Park</td>\n",
       "      <td>135</td>\n",
       "      <td>Vascular Plant</td>\n",
       "      <td>Meadow Alexanders, Three-Leaved Golden Alexanders</td>\n",
       "      <td>Species of Concern</td>\n",
       "    </tr>\n",
       "    <tr>\n",
       "      <th>97</th>\n",
       "      <td>Zizia trifoliata</td>\n",
       "      <td>Yellowstone National Park</td>\n",
       "      <td>238</td>\n",
       "      <td>Vascular Plant</td>\n",
       "      <td>Meadow Alexanders, Three-Leaved Golden Alexanders</td>\n",
       "      <td>Species of Concern</td>\n",
       "    </tr>\n",
       "    <tr>\n",
       "      <th>98</th>\n",
       "      <td>Zizia trifoliata</td>\n",
       "      <td>Bryce National Park</td>\n",
       "      <td>87</td>\n",
       "      <td>Vascular Plant</td>\n",
       "      <td>Meadow Alexanders, Three-Leaved Golden Alexanders</td>\n",
       "      <td>Species of Concern</td>\n",
       "    </tr>\n",
       "    <tr>\n",
       "      <th>99</th>\n",
       "      <td>Zizia trifoliata</td>\n",
       "      <td>Great Smoky Mountains National Park</td>\n",
       "      <td>80</td>\n",
       "      <td>Vascular Plant</td>\n",
       "      <td>Meadow Alexanders, Three-Leaved Golden Alexanders</td>\n",
       "      <td>Species of Concern</td>\n",
       "    </tr>\n",
       "    <tr>\n",
       "      <th>144</th>\n",
       "      <td>Camissonia sierrae ssp. alticola</td>\n",
       "      <td>Bryce National Park</td>\n",
       "      <td>84</td>\n",
       "      <td>Vascular Plant</td>\n",
       "      <td>Mono Hot Springs Evening Primrose, Mono Hot Sp...</td>\n",
       "      <td>Species of Concern</td>\n",
       "    </tr>\n",
       "  </tbody>\n",
       "</table>\n",
       "</div>"
      ],
      "text/plain": [
       "                      scientific_name                            park_name  \\\n",
       "96                   Zizia trifoliata               Yosemite National Park   \n",
       "97                   Zizia trifoliata            Yellowstone National Park   \n",
       "98                   Zizia trifoliata                  Bryce National Park   \n",
       "99                   Zizia trifoliata  Great Smoky Mountains National Park   \n",
       "144  Camissonia sierrae ssp. alticola                  Bryce National Park   \n",
       "\n",
       "     observations        category  \\\n",
       "96            135  Vascular Plant   \n",
       "97            238  Vascular Plant   \n",
       "98             87  Vascular Plant   \n",
       "99             80  Vascular Plant   \n",
       "144            84  Vascular Plant   \n",
       "\n",
       "                                          common_names conservation_status  \n",
       "96   Meadow Alexanders, Three-Leaved Golden Alexanders  Species of Concern  \n",
       "97   Meadow Alexanders, Three-Leaved Golden Alexanders  Species of Concern  \n",
       "98   Meadow Alexanders, Three-Leaved Golden Alexanders  Species of Concern  \n",
       "99   Meadow Alexanders, Three-Leaved Golden Alexanders  Species of Concern  \n",
       "144  Mono Hot Springs Evening Primrose, Mono Hot Sp...  Species of Concern  "
      ]
     },
     "execution_count": 1776,
     "metadata": {},
     "output_type": "execute_result"
    }
   ],
   "source": [
    "# 34\n",
    "\n",
    "pk_sp_nar_excluded.head()"
   ]
  },
  {
   "cell_type": "code",
   "execution_count": 1777,
   "metadata": {},
   "outputs": [
    {
     "data": {
      "image/png": "[encoded data removed]",
      "text/plain": [
       "<Figure size 640x480 with 1 Axes>"
      ]
     },
     "metadata": {},
     "output_type": "display_data"
    },
    {
     "data": {
      "text/plain": [
       "<Figure size 640x480 with 0 Axes>"
      ]
     },
     "metadata": {},
     "output_type": "display_data"
    }
   ],
   "source": [
    "# 34 (Cont.)\n",
    "\n",
    "sns.boxplot(data=pk_sp_nar_excluded.sort_values(by='observations', ascending=False), x='conservation_status', y='observations')\n",
    "plt.title('Avg Observations per Conservation Status')\n",
    "plt.xlabel('Conservation Status')\n",
    "plt.ylabel('Average Observations')\n",
    "plt.show()\n",
    "plt.clf()"
   ]
  },
  {
   "attachments": {},
   "cell_type": "markdown",
   "metadata": {},
   "source": [
    "You can see a clear trend in the boxplot above.  The conservation statuses are ordered from the least severe to most severe situation.  The graph shows that, on average, as the severity of conservation status increases, the average observations of a particular species decreases.  This is likely due to the fact that, as a species moves closer to endangerment, or extinction, there are less of that species to be seen in the wild, of course. \n",
    "\n",
    "We can conclude that...\n",
    "\n",
    "- ```On average, as the severity of the conservation status increases for a specific species, the sightings of that specific species decreases```\n",
    "\n",
    "This could also be looked at inversely, where one could assume a species conservation status based off of that species number of observations."
   ]
  },
  {
   "attachments": {},
   "cell_type": "markdown",
   "metadata": {},
   "source": [
    "---"
   ]
  },
  {
   "attachments": {},
   "cell_type": "markdown",
   "metadata": {},
   "source": [
    "# Section 3 - Exploring the Data - Part 3\n",
    "### _Categories of species_\n",
    "The focus of this section will be directed towards the different categories of species and the conservation statuses of those species.\n",
    "\n",
    "35. First, create a new variable that contains only the parts of the dataframe that you'll need to use for this section of the analysis"
   ]
  },
  {
   "cell_type": "code",
   "execution_count": 1778,
   "metadata": {},
   "outputs": [
    {
     "data": {
      "text/html": [
       "<div>\n",
       "<style scoped>\n",
       "    .dataframe tbody tr th:only-of-type {\n",
       "        vertical-align: middle;\n",
       "    }\n",
       "\n",
       "    .dataframe tbody tr th {\n",
       "        vertical-align: top;\n",
       "    }\n",
       "\n",
       "    .dataframe thead th {\n",
       "        text-align: right;\n",
       "    }\n",
       "</style>\n",
       "<table border=\"1\" class=\"dataframe\">\n",
       "  <thead>\n",
       "    <tr style=\"text-align: right;\">\n",
       "      <th></th>\n",
       "      <th>scientific_name</th>\n",
       "      <th>park_name</th>\n",
       "      <th>observations</th>\n",
       "      <th>category</th>\n",
       "      <th>common_names</th>\n",
       "      <th>conservation_status</th>\n",
       "    </tr>\n",
       "  </thead>\n",
       "  <tbody>\n",
       "    <tr>\n",
       "      <th>96</th>\n",
       "      <td>Zizia trifoliata</td>\n",
       "      <td>Yosemite National Park</td>\n",
       "      <td>135</td>\n",
       "      <td>Vascular Plant</td>\n",
       "      <td>Meadow Alexanders, Three-Leaved Golden Alexanders</td>\n",
       "      <td>Species of Concern</td>\n",
       "    </tr>\n",
       "    <tr>\n",
       "      <th>97</th>\n",
       "      <td>Zizia trifoliata</td>\n",
       "      <td>Yellowstone National Park</td>\n",
       "      <td>238</td>\n",
       "      <td>Vascular Plant</td>\n",
       "      <td>Meadow Alexanders, Three-Leaved Golden Alexanders</td>\n",
       "      <td>Species of Concern</td>\n",
       "    </tr>\n",
       "    <tr>\n",
       "      <th>98</th>\n",
       "      <td>Zizia trifoliata</td>\n",
       "      <td>Bryce National Park</td>\n",
       "      <td>87</td>\n",
       "      <td>Vascular Plant</td>\n",
       "      <td>Meadow Alexanders, Three-Leaved Golden Alexanders</td>\n",
       "      <td>Species of Concern</td>\n",
       "    </tr>\n",
       "    <tr>\n",
       "      <th>99</th>\n",
       "      <td>Zizia trifoliata</td>\n",
       "      <td>Great Smoky Mountains National Park</td>\n",
       "      <td>80</td>\n",
       "      <td>Vascular Plant</td>\n",
       "      <td>Meadow Alexanders, Three-Leaved Golden Alexanders</td>\n",
       "      <td>Species of Concern</td>\n",
       "    </tr>\n",
       "    <tr>\n",
       "      <th>144</th>\n",
       "      <td>Camissonia sierrae ssp. alticola</td>\n",
       "      <td>Bryce National Park</td>\n",
       "      <td>84</td>\n",
       "      <td>Vascular Plant</td>\n",
       "      <td>Mono Hot Springs Evening Primrose, Mono Hot Sp...</td>\n",
       "      <td>Species of Concern</td>\n",
       "    </tr>\n",
       "  </tbody>\n",
       "</table>\n",
       "</div>"
      ],
      "text/plain": [
       "                      scientific_name                            park_name  \\\n",
       "96                   Zizia trifoliata               Yosemite National Park   \n",
       "97                   Zizia trifoliata            Yellowstone National Park   \n",
       "98                   Zizia trifoliata                  Bryce National Park   \n",
       "99                   Zizia trifoliata  Great Smoky Mountains National Park   \n",
       "144  Camissonia sierrae ssp. alticola                  Bryce National Park   \n",
       "\n",
       "     observations        category  \\\n",
       "96            135  Vascular Plant   \n",
       "97            238  Vascular Plant   \n",
       "98             87  Vascular Plant   \n",
       "99             80  Vascular Plant   \n",
       "144            84  Vascular Plant   \n",
       "\n",
       "                                          common_names conservation_status  \n",
       "96   Meadow Alexanders, Three-Leaved Golden Alexanders  Species of Concern  \n",
       "97   Meadow Alexanders, Three-Leaved Golden Alexanders  Species of Concern  \n",
       "98   Meadow Alexanders, Three-Leaved Golden Alexanders  Species of Concern  \n",
       "99   Meadow Alexanders, Three-Leaved Golden Alexanders  Species of Concern  \n",
       "144  Mono Hot Springs Evening Primrose, Mono Hot Sp...  Species of Concern  "
      ]
     },
     "execution_count": 1778,
     "metadata": {},
     "output_type": "execute_result"
    }
   ],
   "source": [
    "# 35\n",
    "\n",
    "pk_sp_nar_excluded.head()"
   ]
  },
  {
   "cell_type": "code",
   "execution_count": 1779,
   "metadata": {},
   "outputs": [
    {
     "data": {
      "text/html": [
       "<div>\n",
       "<style scoped>\n",
       "    .dataframe tbody tr th:only-of-type {\n",
       "        vertical-align: middle;\n",
       "    }\n",
       "\n",
       "    .dataframe tbody tr th {\n",
       "        vertical-align: top;\n",
       "    }\n",
       "\n",
       "    .dataframe thead th {\n",
       "        text-align: right;\n",
       "    }\n",
       "</style>\n",
       "<table border=\"1\" class=\"dataframe\">\n",
       "  <thead>\n",
       "    <tr style=\"text-align: right;\">\n",
       "      <th></th>\n",
       "      <th>scientific_name</th>\n",
       "      <th>park_name</th>\n",
       "      <th>category</th>\n",
       "      <th>conservation_status</th>\n",
       "    </tr>\n",
       "  </thead>\n",
       "  <tbody>\n",
       "    <tr>\n",
       "      <th>96</th>\n",
       "      <td>Zizia trifoliata</td>\n",
       "      <td>Yosemite National Park</td>\n",
       "      <td>Vascular Plant</td>\n",
       "      <td>Species of Concern</td>\n",
       "    </tr>\n",
       "    <tr>\n",
       "      <th>97</th>\n",
       "      <td>Zizia trifoliata</td>\n",
       "      <td>Yellowstone National Park</td>\n",
       "      <td>Vascular Plant</td>\n",
       "      <td>Species of Concern</td>\n",
       "    </tr>\n",
       "    <tr>\n",
       "      <th>98</th>\n",
       "      <td>Zizia trifoliata</td>\n",
       "      <td>Bryce National Park</td>\n",
       "      <td>Vascular Plant</td>\n",
       "      <td>Species of Concern</td>\n",
       "    </tr>\n",
       "    <tr>\n",
       "      <th>99</th>\n",
       "      <td>Zizia trifoliata</td>\n",
       "      <td>Great Smoky Mountains National Park</td>\n",
       "      <td>Vascular Plant</td>\n",
       "      <td>Species of Concern</td>\n",
       "    </tr>\n",
       "    <tr>\n",
       "      <th>144</th>\n",
       "      <td>Camissonia sierrae ssp. alticola</td>\n",
       "      <td>Bryce National Park</td>\n",
       "      <td>Vascular Plant</td>\n",
       "      <td>Species of Concern</td>\n",
       "    </tr>\n",
       "  </tbody>\n",
       "</table>\n",
       "</div>"
      ],
      "text/plain": [
       "                      scientific_name                            park_name  \\\n",
       "96                   Zizia trifoliata               Yosemite National Park   \n",
       "97                   Zizia trifoliata            Yellowstone National Park   \n",
       "98                   Zizia trifoliata                  Bryce National Park   \n",
       "99                   Zizia trifoliata  Great Smoky Mountains National Park   \n",
       "144  Camissonia sierrae ssp. alticola                  Bryce National Park   \n",
       "\n",
       "           category conservation_status  \n",
       "96   Vascular Plant  Species of Concern  \n",
       "97   Vascular Plant  Species of Concern  \n",
       "98   Vascular Plant  Species of Concern  \n",
       "99   Vascular Plant  Species of Concern  \n",
       "144  Vascular Plant  Species of Concern  "
      ]
     },
     "execution_count": 1779,
     "metadata": {},
     "output_type": "execute_result"
    }
   ],
   "source": [
    "# 35 (Cont.)\n",
    "\n",
    "# Dataframe without 'Not at Risk'\n",
    "category_df = pk_sp_nar_excluded[['scientific_name', 'park_name', 'category', 'conservation_status']]\n",
    "category_df.head()"
   ]
  },
  {
   "attachments": {},
   "cell_type": "markdown",
   "metadata": {},
   "source": [
    "Great, you won't need the ```common_names``` or ```observations``` columns moving foward.\n",
    "\n",
    "Let's better understand the relationship between category of species and conservation status with some visualizations!\n",
    "\n",
    "36. Plot the number of unique 'At Risk' species for each conservation status in each category"
   ]
  },
  {
   "cell_type": "code",
   "execution_count": 1780,
   "metadata": {},
   "outputs": [
    {
     "data": {
      "image/png": "[encoded data removed]",
      "text/plain": [
       "<Figure size 800x800 with 1 Axes>"
      ]
     },
     "metadata": {},
     "output_type": "display_data"
    },
    {
     "data": {
      "text/plain": [
       "<Figure size 640x480 with 0 Axes>"
      ]
     },
     "metadata": {},
     "output_type": "display_data"
    }
   ],
   "source": [
    "# 36\n",
    "\n",
    "# Have to drop duplicates or each scientific name will be counted 4 times each\n",
    "category_status_species = category_df.drop_duplicates(subset=['scientific_name'])\n",
    "\n",
    "category_status_species = category_status_species.groupby(['category', 'conservation_status']).scientific_name.count().reset_index()\n",
    "\n",
    "plt.figure(figsize=(8, 8))\n",
    "sns.barplot(data=category_status_species, x='category', y='scientific_name', hue='conservation_status')\n",
    "ax = plt.subplot()\n",
    "ax.set_xticks(range(len(category_status_species.category.unique())))\n",
    "ax.set_xticklabels(category_status_species.category.unique(), rotation=30)\n",
    "plt.title('Species per Category based off Conservation Status')\n",
    "plt.ylabel('Number of Different Species')\n",
    "plt.xlabel('Category of Species')\n",
    "plt.legend(title='Conservation Status', loc='upper right')\n",
    "plt.show()\n",
    "plt.clf()"
   ]
  },
  {
   "attachments": {},
   "cell_type": "markdown",
   "metadata": {},
   "source": [
    "You can clearly see some major differences between the categories of species!  \n",
    "\n",
    "If you were to rank the categories from greatest to least by how much attention each category needs, then the ranking would be as follows...\n",
    "\n",
    "1. ```Bird``` (Huge concern for nearly the entire category of species)\n",
    "2. ```Vascular Plant``` (Huge concern for nearly the entire category of species)\n",
    "3. ```Mammal``` (Has the most endangered species but far less species who are of concern)\n",
    "4. ```Fish``` (Moderate concern)\n",
    "5. ```Amphibian``` (Moderate concern)\n",
    "6. ```Nonvascular Plant``` & ```Reptile``` (No Reptiles or Nonvascular Plants are endangered and very few are of concern)\n",
    "\n",
    "Let's see if there is an inverse relationship when you plot the number of species which are not at risk.\n",
    "\n",
    "37. Plot the number of unique 'Not at Risk' species for each conservation status in each category (For comparison)"
   ]
  },
  {
   "cell_type": "code",
   "execution_count": 1781,
   "metadata": {},
   "outputs": [
    {
     "data": {
      "image/png": "[encoded data removed]",
      "text/plain": [
       "<Figure size 800x800 with 1 Axes>"
      ]
     },
     "metadata": {},
     "output_type": "display_data"
    },
    {
     "data": {
      "text/plain": [
       "<Figure size 640x480 with 0 Axes>"
      ]
     },
     "metadata": {},
     "output_type": "display_data"
    }
   ],
   "source": [
    "# 37\n",
    "\n",
    "# Dataframe with 'Not at Risk' included\n",
    "category_nar_df = pk_sp_nar_included[['scientific_name', 'park_name', 'category', 'conservation_status']]\n",
    "\n",
    "# Have to drop duplicates or each scientific name will be counted 4 times each\n",
    "nar_category_status_species = category_nar_df.drop_duplicates(subset=['scientific_name'])\n",
    "\n",
    "nar_category_status_species = nar_category_status_species.groupby(['category', 'conservation_status']).scientific_name.count().reset_index()\n",
    "\n",
    "plt.figure(figsize=(8, 8))\n",
    "sns.barplot(data=nar_category_status_species, x='category', y='scientific_name')\n",
    "ax = plt.subplot()\n",
    "ax.set_xticks(range(len(nar_category_status_species.category.unique())))\n",
    "ax.set_xticklabels(nar_category_status_species.category.unique(), rotation=30)\n",
    "plt.title('\\'Not at Risk\\' Species per Category')\n",
    "plt.ylabel('Number of Different Species')\n",
    "plt.xlabel('Category of Species')\n",
    "plt.show()\n",
    "plt.clf()"
   ]
  },
  {
   "attachments": {},
   "cell_type": "markdown",
   "metadata": {},
   "source": [
    "The plot doesn't show us too much but it does show us that there is a very large amount of Vascular Plant species.  You could spend some time making assumptions and thinking about totals and percentages based off of these two graphs, but a better idea would be to make another pivot table!\n",
    "\n",
    "These graphs will be more informative if we can understand the proportions of the total number of species within each category.\n",
    "\n",
    "38. Create a pivot table that includes all the counts for all the conservation statuses ('Not at Risk' as well) in each category"
   ]
  },
  {
   "cell_type": "code",
   "execution_count": 1782,
   "metadata": {},
   "outputs": [
    {
     "data": {
      "text/html": [
       "<div>\n",
       "<style scoped>\n",
       "    .dataframe tbody tr th:only-of-type {\n",
       "        vertical-align: middle;\n",
       "    }\n",
       "\n",
       "    .dataframe tbody tr th {\n",
       "        vertical-align: top;\n",
       "    }\n",
       "\n",
       "    .dataframe thead th {\n",
       "        text-align: right;\n",
       "    }\n",
       "</style>\n",
       "<table border=\"1\" class=\"dataframe\">\n",
       "  <thead>\n",
       "    <tr style=\"text-align: right;\">\n",
       "      <th>conservation_status</th>\n",
       "      <th>Endangered</th>\n",
       "      <th>In Recovery</th>\n",
       "      <th>Not at Risk</th>\n",
       "      <th>Species of Concern</th>\n",
       "      <th>Threatened</th>\n",
       "    </tr>\n",
       "    <tr>\n",
       "      <th>category</th>\n",
       "      <th></th>\n",
       "      <th></th>\n",
       "      <th></th>\n",
       "      <th></th>\n",
       "      <th></th>\n",
       "    </tr>\n",
       "  </thead>\n",
       "  <tbody>\n",
       "    <tr>\n",
       "      <th>Amphibian</th>\n",
       "      <td>1.0</td>\n",
       "      <td>0.0</td>\n",
       "      <td>72.0</td>\n",
       "      <td>4.0</td>\n",
       "      <td>2.0</td>\n",
       "    </tr>\n",
       "    <tr>\n",
       "      <th>Bird</th>\n",
       "      <td>4.0</td>\n",
       "      <td>3.0</td>\n",
       "      <td>413.0</td>\n",
       "      <td>68.0</td>\n",
       "      <td>0.0</td>\n",
       "    </tr>\n",
       "    <tr>\n",
       "      <th>Fish</th>\n",
       "      <td>3.0</td>\n",
       "      <td>0.0</td>\n",
       "      <td>115.0</td>\n",
       "      <td>4.0</td>\n",
       "      <td>3.0</td>\n",
       "    </tr>\n",
       "    <tr>\n",
       "      <th>Mammal</th>\n",
       "      <td>6.0</td>\n",
       "      <td>0.0</td>\n",
       "      <td>146.0</td>\n",
       "      <td>22.0</td>\n",
       "      <td>2.0</td>\n",
       "    </tr>\n",
       "    <tr>\n",
       "      <th>Nonvascular Plant</th>\n",
       "      <td>0.0</td>\n",
       "      <td>0.0</td>\n",
       "      <td>328.0</td>\n",
       "      <td>5.0</td>\n",
       "      <td>0.0</td>\n",
       "    </tr>\n",
       "    <tr>\n",
       "      <th>Reptile</th>\n",
       "      <td>0.0</td>\n",
       "      <td>0.0</td>\n",
       "      <td>73.0</td>\n",
       "      <td>5.0</td>\n",
       "      <td>0.0</td>\n",
       "    </tr>\n",
       "    <tr>\n",
       "      <th>Vascular Plant</th>\n",
       "      <td>1.0</td>\n",
       "      <td>0.0</td>\n",
       "      <td>4216.0</td>\n",
       "      <td>43.0</td>\n",
       "      <td>2.0</td>\n",
       "    </tr>\n",
       "  </tbody>\n",
       "</table>\n",
       "</div>"
      ],
      "text/plain": [
       "conservation_status  Endangered  In Recovery  Not at Risk  Species of Concern  \\\n",
       "category                                                                        \n",
       "Amphibian                   1.0          0.0         72.0                 4.0   \n",
       "Bird                        4.0          3.0        413.0                68.0   \n",
       "Fish                        3.0          0.0        115.0                 4.0   \n",
       "Mammal                      6.0          0.0        146.0                22.0   \n",
       "Nonvascular Plant           0.0          0.0        328.0                 5.0   \n",
       "Reptile                     0.0          0.0         73.0                 5.0   \n",
       "Vascular Plant              1.0          0.0       4216.0                43.0   \n",
       "\n",
       "conservation_status  Threatened  \n",
       "category                         \n",
       "Amphibian                   2.0  \n",
       "Bird                        0.0  \n",
       "Fish                        3.0  \n",
       "Mammal                      2.0  \n",
       "Nonvascular Plant           0.0  \n",
       "Reptile                     0.0  \n",
       "Vascular Plant              2.0  "
      ]
     },
     "execution_count": 1782,
     "metadata": {},
     "output_type": "execute_result"
    }
   ],
   "source": [
    "# 38\n",
    "\n",
    "parks_species_cat = parks_species[['scientific_name', 'park_name', 'category', 'conservation_status']]\n",
    "\n",
    "parks_species_cat = parks_species_cat.drop_duplicates(subset=['scientific_name'])\n",
    "\n",
    "parks_species_cat = parks_species_cat.groupby(['category', 'conservation_status']).scientific_name.count().reset_index()\n",
    "\n",
    "parks_species_cat_pivot = parks_species_cat.pivot(\n",
    "    index='category',\n",
    "    columns='conservation_status',\n",
    "    values='scientific_name'\n",
    ")\n",
    "\n",
    "parks_species_cat_pivot.fillna(0.0, inplace=True)\n",
    "\n",
    "parks_species_cat_pivot"
   ]
  },
  {
   "attachments": {},
   "cell_type": "markdown",
   "metadata": {},
   "source": [
    "Next, you want to find the totals of each category so you can calculate the proportions for the table.  You'll also create a copy of the pivot table above so that you don't alter the existing pivot table.\n",
    "\n",
    "39. Create a pivot table of proportions from the pivot table above"
   ]
  },
  {
   "cell_type": "code",
   "execution_count": 1783,
   "metadata": {},
   "outputs": [
    {
     "name": "stdout",
     "output_type": "stream",
     "text": [
      "Total Amphibian Species: 79.0\n",
      "Total Bird Species: 488.0\n",
      "Total Fish Species: 125.0\n",
      "Total Mammal Species: 176.0\n",
      "Total Nonvascular Plant Species: 333.0\n",
      "Total Reptile Species: 78.0\n",
      "Total Vascular Plant Species: 4262.0\n"
     ]
    },
    {
     "data": {
      "text/html": [
       "<div>\n",
       "<style scoped>\n",
       "    .dataframe tbody tr th:only-of-type {\n",
       "        vertical-align: middle;\n",
       "    }\n",
       "\n",
       "    .dataframe tbody tr th {\n",
       "        vertical-align: top;\n",
       "    }\n",
       "\n",
       "    .dataframe thead th {\n",
       "        text-align: right;\n",
       "    }\n",
       "</style>\n",
       "<table border=\"1\" class=\"dataframe\">\n",
       "  <thead>\n",
       "    <tr style=\"text-align: right;\">\n",
       "      <th>conservation_status</th>\n",
       "      <th>Endangered</th>\n",
       "      <th>In Recovery</th>\n",
       "      <th>Not at Risk</th>\n",
       "      <th>Species of Concern</th>\n",
       "      <th>Threatened</th>\n",
       "    </tr>\n",
       "    <tr>\n",
       "      <th>category</th>\n",
       "      <th></th>\n",
       "      <th></th>\n",
       "      <th></th>\n",
       "      <th></th>\n",
       "      <th></th>\n",
       "    </tr>\n",
       "  </thead>\n",
       "  <tbody>\n",
       "    <tr>\n",
       "      <th>Amphibian</th>\n",
       "      <td>1.27%</td>\n",
       "      <td>0.0%</td>\n",
       "      <td>91.14%</td>\n",
       "      <td>5.06%</td>\n",
       "      <td>2.53%</td>\n",
       "    </tr>\n",
       "    <tr>\n",
       "      <th>Bird</th>\n",
       "      <td>0.82%</td>\n",
       "      <td>0.61%</td>\n",
       "      <td>84.63%</td>\n",
       "      <td>13.93%</td>\n",
       "      <td>0.0%</td>\n",
       "    </tr>\n",
       "    <tr>\n",
       "      <th>Fish</th>\n",
       "      <td>2.4%</td>\n",
       "      <td>0.0%</td>\n",
       "      <td>92.0%</td>\n",
       "      <td>3.2%</td>\n",
       "      <td>2.4%</td>\n",
       "    </tr>\n",
       "    <tr>\n",
       "      <th>Mammal</th>\n",
       "      <td>3.41%</td>\n",
       "      <td>0.0%</td>\n",
       "      <td>82.95%</td>\n",
       "      <td>12.5%</td>\n",
       "      <td>1.14%</td>\n",
       "    </tr>\n",
       "    <tr>\n",
       "      <th>Nonvascular Plant</th>\n",
       "      <td>0.0%</td>\n",
       "      <td>0.0%</td>\n",
       "      <td>98.5%</td>\n",
       "      <td>1.5%</td>\n",
       "      <td>0.0%</td>\n",
       "    </tr>\n",
       "    <tr>\n",
       "      <th>Reptile</th>\n",
       "      <td>0.0%</td>\n",
       "      <td>0.0%</td>\n",
       "      <td>93.59%</td>\n",
       "      <td>6.41%</td>\n",
       "      <td>0.0%</td>\n",
       "    </tr>\n",
       "    <tr>\n",
       "      <th>Vascular Plant</th>\n",
       "      <td>0.02%</td>\n",
       "      <td>0.0%</td>\n",
       "      <td>98.92%</td>\n",
       "      <td>1.01%</td>\n",
       "      <td>0.05%</td>\n",
       "    </tr>\n",
       "  </tbody>\n",
       "</table>\n",
       "</div>"
      ],
      "text/plain": [
       "conservation_status Endangered In Recovery Not at Risk Species of Concern  \\\n",
       "category                                                                    \n",
       "Amphibian                1.27%        0.0%      91.14%              5.06%   \n",
       "Bird                     0.82%       0.61%      84.63%             13.93%   \n",
       "Fish                      2.4%        0.0%       92.0%               3.2%   \n",
       "Mammal                   3.41%        0.0%      82.95%              12.5%   \n",
       "Nonvascular Plant         0.0%        0.0%       98.5%               1.5%   \n",
       "Reptile                   0.0%        0.0%      93.59%              6.41%   \n",
       "Vascular Plant           0.02%        0.0%      98.92%              1.01%   \n",
       "\n",
       "conservation_status Threatened  \n",
       "category                        \n",
       "Amphibian                2.53%  \n",
       "Bird                      0.0%  \n",
       "Fish                      2.4%  \n",
       "Mammal                   1.14%  \n",
       "Nonvascular Plant         0.0%  \n",
       "Reptile                   0.0%  \n",
       "Vascular Plant           0.05%  "
      ]
     },
     "execution_count": 1783,
     "metadata": {},
     "output_type": "execute_result"
    }
   ],
   "source": [
    "# 39\n",
    "\n",
    "parks_species_cat_pivot_props = parks_species_cat_pivot.copy()\n",
    "\n",
    "for cat in parks_species_cat_pivot_props.index:\n",
    "    \n",
    "    cat_total = parks_species_cat_pivot_props.loc[cat].sum(axis=0)\n",
    "    print(f'Total {cat} Species: {cat_total}')\n",
    "\n",
    "    parks_species_cat_pivot_props.loc[cat] = parks_species_cat_pivot_props.loc[cat].apply(lambda x: str(round((x / cat_total) * 100, 2)) + '%')\n",
    "\n",
    "parks_species_cat_pivot_props"
   ]
  },
  {
   "attachments": {},
   "cell_type": "markdown",
   "metadata": {},
   "source": [
    "This puts your graphs into better perspective!  \n",
    "\n",
    "Here are some important insights you can take from the pivot table...\n",
    "\n",
    "- ```Mammals are the most at risk category of species overall with birds being the second most at risk```  \n",
    "- ```Both Plant catagories are the least at risk categories of species```\n",
    "- ```Mammals and Fish are the most endangered categories with mammals being the most endangered```\n",
    "- ```Birds and Mammals are the categories of species with the most concern with birds having the highest concern```\n",
    "- ```Reptiles and Nonvascular Plants have no endangered species within their categories but reptiles have the third highest level of concern```\n",
    "\n",
    "When analyzing data, it is necessary that one takes multiple approaches to the data to avoid coming to incomplete or false conclusions.  That being said, the next step will be to create another pivot table with proportions, but without the 'Not at Risk' species this time.  This will give you another angle at the data.  The pivot table above is great but the goal is to prevent further endangerment AND the extinction of any species, if possible.  If we went solely off of the pivot table above then we would completely overlook preventative measures for the vascular plants because the amount of species within the category makes them seem free from harm.  \n",
    "\n",
    "The best course of action is to create both pivot tables and then come to a conclusion.\n",
    "\n",
    "40. Create the new pivot tables without the 'Not at Risk' species"
   ]
  },
  {
   "cell_type": "code",
   "execution_count": 1784,
   "metadata": {},
   "outputs": [
    {
     "data": {
      "text/html": [
       "<div>\n",
       "<style scoped>\n",
       "    .dataframe tbody tr th:only-of-type {\n",
       "        vertical-align: middle;\n",
       "    }\n",
       "\n",
       "    .dataframe tbody tr th {\n",
       "        vertical-align: top;\n",
       "    }\n",
       "\n",
       "    .dataframe thead th {\n",
       "        text-align: right;\n",
       "    }\n",
       "</style>\n",
       "<table border=\"1\" class=\"dataframe\">\n",
       "  <thead>\n",
       "    <tr style=\"text-align: right;\">\n",
       "      <th>conservation_status</th>\n",
       "      <th>Endangered</th>\n",
       "      <th>In Recovery</th>\n",
       "      <th>Species of Concern</th>\n",
       "      <th>Threatened</th>\n",
       "    </tr>\n",
       "    <tr>\n",
       "      <th>category</th>\n",
       "      <th></th>\n",
       "      <th></th>\n",
       "      <th></th>\n",
       "      <th></th>\n",
       "    </tr>\n",
       "  </thead>\n",
       "  <tbody>\n",
       "    <tr>\n",
       "      <th>Amphibian</th>\n",
       "      <td>1.0</td>\n",
       "      <td>0.0</td>\n",
       "      <td>4.0</td>\n",
       "      <td>2.0</td>\n",
       "    </tr>\n",
       "    <tr>\n",
       "      <th>Bird</th>\n",
       "      <td>4.0</td>\n",
       "      <td>3.0</td>\n",
       "      <td>68.0</td>\n",
       "      <td>0.0</td>\n",
       "    </tr>\n",
       "    <tr>\n",
       "      <th>Fish</th>\n",
       "      <td>3.0</td>\n",
       "      <td>0.0</td>\n",
       "      <td>4.0</td>\n",
       "      <td>3.0</td>\n",
       "    </tr>\n",
       "    <tr>\n",
       "      <th>Mammal</th>\n",
       "      <td>6.0</td>\n",
       "      <td>0.0</td>\n",
       "      <td>22.0</td>\n",
       "      <td>2.0</td>\n",
       "    </tr>\n",
       "    <tr>\n",
       "      <th>Nonvascular Plant</th>\n",
       "      <td>0.0</td>\n",
       "      <td>0.0</td>\n",
       "      <td>5.0</td>\n",
       "      <td>0.0</td>\n",
       "    </tr>\n",
       "    <tr>\n",
       "      <th>Reptile</th>\n",
       "      <td>0.0</td>\n",
       "      <td>0.0</td>\n",
       "      <td>5.0</td>\n",
       "      <td>0.0</td>\n",
       "    </tr>\n",
       "    <tr>\n",
       "      <th>Vascular Plant</th>\n",
       "      <td>1.0</td>\n",
       "      <td>0.0</td>\n",
       "      <td>43.0</td>\n",
       "      <td>2.0</td>\n",
       "    </tr>\n",
       "  </tbody>\n",
       "</table>\n",
       "</div>"
      ],
      "text/plain": [
       "conservation_status  Endangered  In Recovery  Species of Concern  Threatened\n",
       "category                                                                    \n",
       "Amphibian                   1.0          0.0                 4.0         2.0\n",
       "Bird                        4.0          3.0                68.0         0.0\n",
       "Fish                        3.0          0.0                 4.0         3.0\n",
       "Mammal                      6.0          0.0                22.0         2.0\n",
       "Nonvascular Plant           0.0          0.0                 5.0         0.0\n",
       "Reptile                     0.0          0.0                 5.0         0.0\n",
       "Vascular Plant              1.0          0.0                43.0         2.0"
      ]
     },
     "execution_count": 1784,
     "metadata": {},
     "output_type": "execute_result"
    }
   ],
   "source": [
    "# 40\n",
    "\n",
    "pk_sp_cat_nar_excluded = pk_sp_nar_excluded[['scientific_name', 'park_name', 'category', 'conservation_status']]\n",
    "\n",
    "pk_sp_cat_nar_excluded = pk_sp_cat_nar_excluded.drop_duplicates(subset=['scientific_name'])\n",
    "\n",
    "pk_sp_cat_nar_excluded = pk_sp_cat_nar_excluded.groupby(['category', 'conservation_status']).scientific_name.count().reset_index()\n",
    "\n",
    "pk_sp_cat_nar_excluded_pivot = pk_sp_cat_nar_excluded.pivot(\n",
    "    index='category',\n",
    "    columns='conservation_status',\n",
    "    values='scientific_name'\n",
    ")\n",
    "\n",
    "pk_sp_cat_nar_excluded_pivot.fillna(0.0, inplace=True)\n",
    "\n",
    "pk_sp_cat_nar_excluded_pivot"
   ]
  },
  {
   "cell_type": "code",
   "execution_count": 1785,
   "metadata": {},
   "outputs": [
    {
     "name": "stdout",
     "output_type": "stream",
     "text": [
      "Total Amphibian Species: 7.0\n",
      "Total Bird Species: 75.0\n",
      "Total Fish Species: 10.0\n",
      "Total Mammal Species: 30.0\n",
      "Total Nonvascular Plant Species: 5.0\n",
      "Total Reptile Species: 5.0\n",
      "Total Vascular Plant Species: 46.0\n"
     ]
    },
    {
     "data": {
      "text/html": [
       "<div>\n",
       "<style scoped>\n",
       "    .dataframe tbody tr th:only-of-type {\n",
       "        vertical-align: middle;\n",
       "    }\n",
       "\n",
       "    .dataframe tbody tr th {\n",
       "        vertical-align: top;\n",
       "    }\n",
       "\n",
       "    .dataframe thead th {\n",
       "        text-align: right;\n",
       "    }\n",
       "</style>\n",
       "<table border=\"1\" class=\"dataframe\">\n",
       "  <thead>\n",
       "    <tr style=\"text-align: right;\">\n",
       "      <th>conservation_status</th>\n",
       "      <th>Endangered</th>\n",
       "      <th>In Recovery</th>\n",
       "      <th>Species of Concern</th>\n",
       "      <th>Threatened</th>\n",
       "    </tr>\n",
       "    <tr>\n",
       "      <th>category</th>\n",
       "      <th></th>\n",
       "      <th></th>\n",
       "      <th></th>\n",
       "      <th></th>\n",
       "    </tr>\n",
       "  </thead>\n",
       "  <tbody>\n",
       "    <tr>\n",
       "      <th>Amphibian</th>\n",
       "      <td>14.29%</td>\n",
       "      <td>0.0%</td>\n",
       "      <td>57.14%</td>\n",
       "      <td>28.57%</td>\n",
       "    </tr>\n",
       "    <tr>\n",
       "      <th>Bird</th>\n",
       "      <td>5.33%</td>\n",
       "      <td>4.0%</td>\n",
       "      <td>90.67%</td>\n",
       "      <td>0.0%</td>\n",
       "    </tr>\n",
       "    <tr>\n",
       "      <th>Fish</th>\n",
       "      <td>30.0%</td>\n",
       "      <td>0.0%</td>\n",
       "      <td>40.0%</td>\n",
       "      <td>30.0%</td>\n",
       "    </tr>\n",
       "    <tr>\n",
       "      <th>Mammal</th>\n",
       "      <td>20.0%</td>\n",
       "      <td>0.0%</td>\n",
       "      <td>73.33%</td>\n",
       "      <td>6.67%</td>\n",
       "    </tr>\n",
       "    <tr>\n",
       "      <th>Nonvascular Plant</th>\n",
       "      <td>0.0%</td>\n",
       "      <td>0.0%</td>\n",
       "      <td>100.0%</td>\n",
       "      <td>0.0%</td>\n",
       "    </tr>\n",
       "    <tr>\n",
       "      <th>Reptile</th>\n",
       "      <td>0.0%</td>\n",
       "      <td>0.0%</td>\n",
       "      <td>100.0%</td>\n",
       "      <td>0.0%</td>\n",
       "    </tr>\n",
       "    <tr>\n",
       "      <th>Vascular Plant</th>\n",
       "      <td>2.17%</td>\n",
       "      <td>0.0%</td>\n",
       "      <td>93.48%</td>\n",
       "      <td>4.35%</td>\n",
       "    </tr>\n",
       "  </tbody>\n",
       "</table>\n",
       "</div>"
      ],
      "text/plain": [
       "conservation_status Endangered In Recovery Species of Concern Threatened\n",
       "category                                                                \n",
       "Amphibian               14.29%        0.0%             57.14%     28.57%\n",
       "Bird                     5.33%        4.0%             90.67%       0.0%\n",
       "Fish                     30.0%        0.0%              40.0%      30.0%\n",
       "Mammal                   20.0%        0.0%             73.33%      6.67%\n",
       "Nonvascular Plant         0.0%        0.0%             100.0%       0.0%\n",
       "Reptile                   0.0%        0.0%             100.0%       0.0%\n",
       "Vascular Plant           2.17%        0.0%             93.48%      4.35%"
      ]
     },
     "execution_count": 1785,
     "metadata": {},
     "output_type": "execute_result"
    }
   ],
   "source": [
    "# 40 (Cont.)\n",
    "\n",
    "pk_sp_cat_nar_excluded_pivot_props = pk_sp_cat_nar_excluded_pivot.copy()\n",
    "\n",
    "for cat in pk_sp_cat_nar_excluded_pivot_props.index:\n",
    "    \n",
    "    cat_total = pk_sp_cat_nar_excluded_pivot_props.loc[cat].sum(axis=0)\n",
    "    print(f'Total {cat} Species: {cat_total}')\n",
    "\n",
    "    pk_sp_cat_nar_excluded_pivot_props.loc[cat] = pk_sp_cat_nar_excluded_pivot_props.loc[cat].apply(lambda x: str(round((x / cat_total) * 100, 2)) + '%')\n",
    "\n",
    "pk_sp_cat_nar_excluded_pivot_props"
   ]
  },
  {
   "attachments": {},
   "cell_type": "markdown",
   "metadata": {},
   "source": [
    "When looking at this pivot table, you look past the 'Not at Risk' species and you look directly at the species that are currently 'At Risk'.  This can allow for you, or whoever the analysis is made for, to hone in on a trouble area among a specific category of species.  Both pivot tables can be used for preventative measures but this pivot table gets a closer look at the proportions within each conservation status.\n",
    "\n",
    "Some insights from this pivot table are listed below.\n",
    "\n",
    "Among 'At Risk' species...\n",
    "- ```...Fish have the highest proportion of endangered species (30%) with Mammals being the second highest (20%)```\n",
    "- ```...If preventative actions are taken, Birds, Reptiles, Vascular Plants and Nonvascular Plants have a much lower chance of moving towards endangerment```\n",
    "- ```...Creatures that live primarily in the water (Amphibians and Fish) have higher proportions of endangerment and are more threatened than any other category```\n",
    "\n",
    "If you hadn't analyzed both pivot tables, then you could've missed out on some very useful information!\n",
    "\n",
    "Always work to see the data from various angles before jumping to absolute conclusions."
   ]
  },
  {
   "attachments": {},
   "cell_type": "markdown",
   "metadata": {},
   "source": [
    "---"
   ]
  },
  {
   "attachments": {},
   "cell_type": "markdown",
   "metadata": {},
   "source": [
    "# Section 3 - Exploring the Data - Part 4\n",
    "### _Categories, Parks, and Observations_\n",
    "The final section of the analysis will look into the category observations and see how they differ from park to park, if they differ at all.\n",
    "\n",
    "For this section, you won't be using the dataframe that excluded the 'Not at Risk' ```conservation_status``` value since you won't be using that column of the data.\n",
    "\n",
    "41. Make sure you have the correct dataframe variable to use\n",
    "42. Manipulate it to be workable for this problem and create a pivot table"
   ]
  },
  {
   "cell_type": "code",
   "execution_count": 1792,
   "metadata": {},
   "outputs": [
    {
     "data": {
      "text/html": [
       "<div>\n",
       "<style scoped>\n",
       "    .dataframe tbody tr th:only-of-type {\n",
       "        vertical-align: middle;\n",
       "    }\n",
       "\n",
       "    .dataframe tbody tr th {\n",
       "        vertical-align: top;\n",
       "    }\n",
       "\n",
       "    .dataframe thead th {\n",
       "        text-align: right;\n",
       "    }\n",
       "</style>\n",
       "<table border=\"1\" class=\"dataframe\">\n",
       "  <thead>\n",
       "    <tr style=\"text-align: right;\">\n",
       "      <th></th>\n",
       "      <th>scientific_name</th>\n",
       "      <th>park_name</th>\n",
       "      <th>observations</th>\n",
       "      <th>category</th>\n",
       "      <th>common_names</th>\n",
       "      <th>conservation_status</th>\n",
       "    </tr>\n",
       "  </thead>\n",
       "  <tbody>\n",
       "    <tr>\n",
       "      <th>0</th>\n",
       "      <td>Vicia benghalensis</td>\n",
       "      <td>Great Smoky Mountains National Park</td>\n",
       "      <td>68</td>\n",
       "      <td>Vascular Plant</td>\n",
       "      <td>Purple Vetch, Reddish Tufted Vetch</td>\n",
       "      <td>Not at Risk</td>\n",
       "    </tr>\n",
       "    <tr>\n",
       "      <th>1</th>\n",
       "      <td>Vicia benghalensis</td>\n",
       "      <td>Yosemite National Park</td>\n",
       "      <td>148</td>\n",
       "      <td>Vascular Plant</td>\n",
       "      <td>Purple Vetch, Reddish Tufted Vetch</td>\n",
       "      <td>Not at Risk</td>\n",
       "    </tr>\n",
       "    <tr>\n",
       "      <th>2</th>\n",
       "      <td>Vicia benghalensis</td>\n",
       "      <td>Yellowstone National Park</td>\n",
       "      <td>247</td>\n",
       "      <td>Vascular Plant</td>\n",
       "      <td>Purple Vetch, Reddish Tufted Vetch</td>\n",
       "      <td>Not at Risk</td>\n",
       "    </tr>\n",
       "    <tr>\n",
       "      <th>3</th>\n",
       "      <td>Vicia benghalensis</td>\n",
       "      <td>Bryce National Park</td>\n",
       "      <td>104</td>\n",
       "      <td>Vascular Plant</td>\n",
       "      <td>Purple Vetch, Reddish Tufted Vetch</td>\n",
       "      <td>Not at Risk</td>\n",
       "    </tr>\n",
       "    <tr>\n",
       "      <th>4</th>\n",
       "      <td>Neovison vison</td>\n",
       "      <td>Great Smoky Mountains National Park</td>\n",
       "      <td>77</td>\n",
       "      <td>Mammal</td>\n",
       "      <td>American Mink</td>\n",
       "      <td>Not at Risk</td>\n",
       "    </tr>\n",
       "  </tbody>\n",
       "</table>\n",
       "</div>"
      ],
      "text/plain": [
       "      scientific_name                            park_name  observations  \\\n",
       "0  Vicia benghalensis  Great Smoky Mountains National Park            68   \n",
       "1  Vicia benghalensis               Yosemite National Park           148   \n",
       "2  Vicia benghalensis            Yellowstone National Park           247   \n",
       "3  Vicia benghalensis                  Bryce National Park           104   \n",
       "4      Neovison vison  Great Smoky Mountains National Park            77   \n",
       "\n",
       "         category                        common_names conservation_status  \n",
       "0  Vascular Plant  Purple Vetch, Reddish Tufted Vetch         Not at Risk  \n",
       "1  Vascular Plant  Purple Vetch, Reddish Tufted Vetch         Not at Risk  \n",
       "2  Vascular Plant  Purple Vetch, Reddish Tufted Vetch         Not at Risk  \n",
       "3  Vascular Plant  Purple Vetch, Reddish Tufted Vetch         Not at Risk  \n",
       "4          Mammal                       American Mink         Not at Risk  "
      ]
     },
     "execution_count": 1792,
     "metadata": {},
     "output_type": "execute_result"
    }
   ],
   "source": [
    "# 41\n",
    "\n",
    "parks_species.head()"
   ]
  },
  {
   "cell_type": "code",
   "execution_count": 1793,
   "metadata": {},
   "outputs": [
    {
     "data": {
      "text/html": [
       "<div>\n",
       "<style scoped>\n",
       "    .dataframe tbody tr th:only-of-type {\n",
       "        vertical-align: middle;\n",
       "    }\n",
       "\n",
       "    .dataframe tbody tr th {\n",
       "        vertical-align: top;\n",
       "    }\n",
       "\n",
       "    .dataframe thead th {\n",
       "        text-align: right;\n",
       "    }\n",
       "</style>\n",
       "<table border=\"1\" class=\"dataframe\">\n",
       "  <thead>\n",
       "    <tr style=\"text-align: right;\">\n",
       "      <th>category</th>\n",
       "      <th>Amphibian</th>\n",
       "      <th>Bird</th>\n",
       "      <th>Fish</th>\n",
       "      <th>Mammal</th>\n",
       "      <th>Nonvascular Plant</th>\n",
       "      <th>Reptile</th>\n",
       "      <th>Vascular Plant</th>\n",
       "    </tr>\n",
       "    <tr>\n",
       "      <th>park_name</th>\n",
       "      <th></th>\n",
       "      <th></th>\n",
       "      <th></th>\n",
       "      <th></th>\n",
       "      <th></th>\n",
       "      <th></th>\n",
       "      <th></th>\n",
       "    </tr>\n",
       "  </thead>\n",
       "  <tbody>\n",
       "    <tr>\n",
       "      <th>Bryce National Park</th>\n",
       "      <td>7299</td>\n",
       "      <td>48383</td>\n",
       "      <td>12223</td>\n",
       "      <td>16823</td>\n",
       "      <td>32992</td>\n",
       "      <td>7854</td>\n",
       "      <td>422585</td>\n",
       "    </tr>\n",
       "    <tr>\n",
       "      <th>Great Smoky Mountains National Park</th>\n",
       "      <td>5622</td>\n",
       "      <td>35290</td>\n",
       "      <td>9068</td>\n",
       "      <td>12301</td>\n",
       "      <td>24857</td>\n",
       "      <td>5616</td>\n",
       "      <td>318071</td>\n",
       "    </tr>\n",
       "    <tr>\n",
       "      <th>Yellowstone National Park</th>\n",
       "      <td>19191</td>\n",
       "      <td>119219</td>\n",
       "      <td>30131</td>\n",
       "      <td>41905</td>\n",
       "      <td>83021</td>\n",
       "      <td>19300</td>\n",
       "      <td>1060769</td>\n",
       "    </tr>\n",
       "    <tr>\n",
       "      <th>Yosemite National Park</th>\n",
       "      <td>11309</td>\n",
       "      <td>71290</td>\n",
       "      <td>18353</td>\n",
       "      <td>24887</td>\n",
       "      <td>49783</td>\n",
       "      <td>11335</td>\n",
       "      <td>634515</td>\n",
       "    </tr>\n",
       "  </tbody>\n",
       "</table>\n",
       "</div>"
      ],
      "text/plain": [
       "category                             Amphibian    Bird   Fish  Mammal  \\\n",
       "park_name                                                               \n",
       "Bryce National Park                       7299   48383  12223   16823   \n",
       "Great Smoky Mountains National Park       5622   35290   9068   12301   \n",
       "Yellowstone National Park                19191  119219  30131   41905   \n",
       "Yosemite National Park                   11309   71290  18353   24887   \n",
       "\n",
       "category                             Nonvascular Plant  Reptile  \\\n",
       "park_name                                                         \n",
       "Bryce National Park                              32992     7854   \n",
       "Great Smoky Mountains National Park              24857     5616   \n",
       "Yellowstone National Park                        83021    19300   \n",
       "Yosemite National Park                           49783    11335   \n",
       "\n",
       "category                             Vascular Plant  \n",
       "park_name                                            \n",
       "Bryce National Park                          422585  \n",
       "Great Smoky Mountains National Park          318071  \n",
       "Yellowstone National Park                   1060769  \n",
       "Yosemite National Park                       634515  "
      ]
     },
     "execution_count": 1793,
     "metadata": {},
     "output_type": "execute_result"
    }
   ],
   "source": [
    "# 42\n",
    "\n",
    "parks_cats = parks_species[['category', 'park_name', 'observations']]\n",
    "\n",
    "parks_cats = parks_cats.groupby(['category', 'park_name']).observations.sum().reset_index()\n",
    "\n",
    "parks_cats_pivot = parks_cats.pivot(\n",
    "    index='park_name',\n",
    "    columns='category',\n",
    "    values='observations'\n",
    ")\n",
    "\n",
    "parks_cats_pivot"
   ]
  },
  {
   "attachments": {},
   "cell_type": "markdown",
   "metadata": {},
   "source": [
    "The numbers are too large to be able to read easily so let's, once again, make a pivot table with proportions instead!\n",
    "\n",
    "43. Per usual, create a second pivot table containing the proportions of the first pivot table"
   ]
  },
  {
   "cell_type": "code",
   "execution_count": 1795,
   "metadata": {},
   "outputs": [
    {
     "name": "stdout",
     "output_type": "stream",
     "text": [
      "Total Bryce National Park Observations: 548159\n",
      "Total Great Smoky Mountains National Park Observations: 410825\n",
      "Total Yellowstone National Park Observations: 1373536\n",
      "Total Yosemite National Park Observations: 821472\n"
     ]
    },
    {
     "data": {
      "text/html": [
       "<div>\n",
       "<style scoped>\n",
       "    .dataframe tbody tr th:only-of-type {\n",
       "        vertical-align: middle;\n",
       "    }\n",
       "\n",
       "    .dataframe tbody tr th {\n",
       "        vertical-align: top;\n",
       "    }\n",
       "\n",
       "    .dataframe thead th {\n",
       "        text-align: right;\n",
       "    }\n",
       "</style>\n",
       "<table border=\"1\" class=\"dataframe\">\n",
       "  <thead>\n",
       "    <tr style=\"text-align: right;\">\n",
       "      <th>category</th>\n",
       "      <th>Amphibian</th>\n",
       "      <th>Bird</th>\n",
       "      <th>Fish</th>\n",
       "      <th>Mammal</th>\n",
       "      <th>Nonvascular Plant</th>\n",
       "      <th>Reptile</th>\n",
       "      <th>Vascular Plant</th>\n",
       "    </tr>\n",
       "    <tr>\n",
       "      <th>park_name</th>\n",
       "      <th></th>\n",
       "      <th></th>\n",
       "      <th></th>\n",
       "      <th></th>\n",
       "      <th></th>\n",
       "      <th></th>\n",
       "      <th></th>\n",
       "    </tr>\n",
       "  </thead>\n",
       "  <tbody>\n",
       "    <tr>\n",
       "      <th>Bryce National Park</th>\n",
       "      <td>1.33%</td>\n",
       "      <td>8.83%</td>\n",
       "      <td>2.23%</td>\n",
       "      <td>3.07%</td>\n",
       "      <td>6.02%</td>\n",
       "      <td>1.43%</td>\n",
       "      <td>77.09%</td>\n",
       "    </tr>\n",
       "    <tr>\n",
       "      <th>Great Smoky Mountains National Park</th>\n",
       "      <td>1.37%</td>\n",
       "      <td>8.59%</td>\n",
       "      <td>2.21%</td>\n",
       "      <td>2.99%</td>\n",
       "      <td>6.05%</td>\n",
       "      <td>1.37%</td>\n",
       "      <td>77.42%</td>\n",
       "    </tr>\n",
       "    <tr>\n",
       "      <th>Yellowstone National Park</th>\n",
       "      <td>1.4%</td>\n",
       "      <td>8.68%</td>\n",
       "      <td>2.19%</td>\n",
       "      <td>3.05%</td>\n",
       "      <td>6.04%</td>\n",
       "      <td>1.41%</td>\n",
       "      <td>77.23%</td>\n",
       "    </tr>\n",
       "    <tr>\n",
       "      <th>Yosemite National Park</th>\n",
       "      <td>1.38%</td>\n",
       "      <td>8.68%</td>\n",
       "      <td>2.23%</td>\n",
       "      <td>3.03%</td>\n",
       "      <td>6.06%</td>\n",
       "      <td>1.38%</td>\n",
       "      <td>77.24%</td>\n",
       "    </tr>\n",
       "  </tbody>\n",
       "</table>\n",
       "</div>"
      ],
      "text/plain": [
       "category                            Amphibian   Bird   Fish Mammal  \\\n",
       "park_name                                                            \n",
       "Bryce National Park                     1.33%  8.83%  2.23%  3.07%   \n",
       "Great Smoky Mountains National Park     1.37%  8.59%  2.21%  2.99%   \n",
       "Yellowstone National Park                1.4%  8.68%  2.19%  3.05%   \n",
       "Yosemite National Park                  1.38%  8.68%  2.23%  3.03%   \n",
       "\n",
       "category                            Nonvascular Plant Reptile Vascular Plant  \n",
       "park_name                                                                     \n",
       "Bryce National Park                             6.02%   1.43%         77.09%  \n",
       "Great Smoky Mountains National Park             6.05%   1.37%         77.42%  \n",
       "Yellowstone National Park                       6.04%   1.41%         77.23%  \n",
       "Yosemite National Park                          6.06%   1.38%         77.24%  "
      ]
     },
     "execution_count": 1795,
     "metadata": {},
     "output_type": "execute_result"
    }
   ],
   "source": [
    "# 43\n",
    "\n",
    "parks_cats_pivot_props = parks_cats_pivot.copy()\n",
    "\n",
    "for park in parks_cats_pivot_props.index:\n",
    "    \n",
    "    park_total = parks_cats_pivot_props.loc[park].sum(axis=0)\n",
    "    print(f'Total {park} Observations: {park_total}')\n",
    "\n",
    "    parks_cats_pivot_props.loc[park] = parks_cats_pivot_props.loc[park].apply(lambda x: str(round((x / park_total) * 100, 2)) + '%')\n",
    "\n",
    "parks_cats_pivot_props\n",
    "\n"
   ]
  },
  {
   "attachments": {},
   "cell_type": "markdown",
   "metadata": {},
   "source": [
    "Well, once again, the proportions show that each park is nearly identical in percentage of observations for each category.\n",
    "\n",
    "For fun, make one last figure of graphs to visualize or pivot table findings.\n",
    "\n",
    "44. Create a visualization to show the observations of each category in each park"
   ]
  },
  {
   "cell_type": "code",
   "execution_count": 1815,
   "metadata": {},
   "outputs": [
    {
     "data": {
      "image/png": "[encoded data removed]",
      "text/plain": [
       "<Figure size 1000x1000 with 4 Axes>"
      ]
     },
     "metadata": {},
     "output_type": "display_data"
    },
    {
     "data": {
      "text/plain": [
       "<Figure size 640x480 with 0 Axes>"
      ]
     },
     "metadata": {},
     "output_type": "display_data"
    }
   ],
   "source": [
    "# 44\n",
    "\n",
    "plt.figure(figsize=(10, 10))\n",
    "\n",
    "for i in range(len(parks_species.park_name.unique())):\n",
    "  \n",
    "  cats_parks_df = parks_species[parks_species.park_name == parks_species.park_name.unique()[i]]\n",
    "  cats_parks_df = cats_parks_df[['category', 'observations']]\n",
    "  cats_parks_df = cats_parks_df.groupby('category', sort=False).observations.sum()\n",
    "  labels = cats_parks_df.index\n",
    "\n",
    "  plt.subplot(2, 2, i + 1)\n",
    "  plt.pie(cats_parks_df, autopct='%0.1f%%')\n",
    "  plt.axis('equal')\n",
    "  plt.title(f'{parks_species.park_name.unique()[i]} Obsvervation %\\'s')\n",
    "  plt.legend(labels, loc='upper right')\n",
    "\n",
    "plt.show()\n",
    "plt.clf()\n"
   ]
  },
  {
   "cell_type": "code",
   "execution_count": 1826,
   "metadata": {},
   "outputs": [
    {
     "data": {
      "image/png": "[encoded data removed]",
      "text/plain": [
       "<Figure size 1000x1000 with 4 Axes>"
      ]
     },
     "metadata": {},
     "output_type": "display_data"
    },
    {
     "data": {
      "text/plain": [
       "<Figure size 640x480 with 0 Axes>"
      ]
     },
     "metadata": {},
     "output_type": "display_data"
    }
   ],
   "source": [
    "# 44 (Cont.)\n",
    "\n",
    "plt.figure(figsize=(10, 10))\n",
    "\n",
    "for i in range(len(parks_species.park_name.unique())):\n",
    "  \n",
    "  cats_parks_df = parks_species[parks_species.park_name == parks_species.park_name.unique()[i]]\n",
    "  cats_parks_df = cats_parks_df[['category', 'observations']]\n",
    "  cats_parks_df = cats_parks_df.groupby('category', sort=False).observations.sum()\n",
    "\n",
    "  plt.subplot(2, 2, i + 1)\n",
    "  sns.barplot(x=cats_parks_df.index, y=cats_parks_df)\n",
    "  plt.title(f'{parks_species.park_name.unique()[i]} Obsvervations')\n",
    "  plt.xlabel('Category')\n",
    "  plt.ylabel('Observations')\n",
    "  ax = plt.subplot(2, 2, i + 1)\n",
    "  ax.set_xticks(range(len(cats_parks_df.index)))\n",
    "  ax.set_xticklabels(cats_parks_df.index, rotation=30)\n",
    "  plt.tight_layout()\n",
    "\n",
    "plt.show()\n",
    "plt.clf()"
   ]
  },
  {
   "attachments": {},
   "cell_type": "markdown",
   "metadata": {},
   "source": [
    "Just as you discovered earlier with the observations of conservation statuses per park, the observations of categories within each park is almost identical in proportion.  \n",
    "\n",
    "After a few final calculations, you'll wrap up the analysis and summarize the overall conclusions.\n",
    "\n",
    "45. Perform some final calculations to learn a bit more about the data"
   ]
  },
  {
   "cell_type": "code",
   "execution_count": 1841,
   "metadata": {},
   "outputs": [
    {
     "name": "stdout",
     "output_type": "stream",
     "text": [
      "The least observed species in Great Smoky Mountains National Park is: Collomia tinctoria, Vascular Plant, Not at Risk, 10 observations\n",
      "The most observed species in Great Smoky Mountains National Park is: Sonchus asper ssp. asper, Vascular Plant, Not at Risk, 147 observations\n",
      "\n",
      "The least observed species in Yosemite National Park is: Noturus baileyi, Fish, Endangered, 31 observations\n",
      "The most observed species in Yosemite National Park is: Ivesia shockleyi var. shockleyi, Vascular Plant, Not at Risk, 223 observations\n",
      "\n",
      "The least observed species in Yellowstone National Park is: Grus americana, Bird, Endangered, 57 observations\n",
      "The most observed species in Yellowstone National Park is: Lycopodium tristachyum, Vascular Plant, Not at Risk, 321 observations\n",
      "\n",
      "The least observed species in Bryce National Park is: Corydalis aurea, Vascular Plant, Not at Risk, 9 observations\n",
      "The most observed species in Bryce National Park is: Valerianella radiata, Vascular Plant, Not at Risk, 176 observations\n",
      "\n"
     ]
    }
   ],
   "source": [
    "# 45\n",
    "\n",
    "for i in range(len(parks_species.park_name.unique())):\n",
    "  park_name = parks_species.park_name.unique()[i]\n",
    "  parks_species_park = parks_species[parks_species.park_name == park_name]\n",
    "  least_observed = parks_species_park[parks_species_park.observations == parks_species_park.observations.min()].reset_index()\n",
    "  most_observed = parks_species_park[parks_species_park.observations == parks_species_park.observations.max()].reset_index()\n",
    "  \n",
    "  idx = least_observed.index[0]\n",
    "\n",
    "  least_sci_name = least_observed.scientific_name.iloc[idx]\n",
    "  least_observations = least_observed.observations.iloc[idx]\n",
    "  least_category = least_observed.category.iloc[idx]\n",
    "  least_conservation_status = least_observed.conservation_status.iloc[idx]\n",
    "\n",
    "  most_sci_name = most_observed.scientific_name.iloc[idx]\n",
    "  most_observations = most_observed.observations.iloc[idx]\n",
    "  most_category = most_observed.category.iloc[idx]\n",
    "  most_conservation_status = most_observed.conservation_status.iloc[idx]\n",
    "\n",
    "  print(f'The least observed species in {park_name} is: {least_sci_name}, {least_category}, {least_conservation_status}, {least_observations} observations')\n",
    "  print(f'The most observed species in {park_name} is: {most_sci_name}, {most_category}, {most_conservation_status}, {most_observations} observations\\n')"
   ]
  },
  {
   "attachments": {},
   "cell_type": "markdown",
   "metadata": {},
   "source": [
    "There is a higher chance of the least observed species being endangered than the most observed species being endangered, as addressed earlier.  The most observed species will typically be a species that is 'Not at Risk'.  According to our data, every park's ```MOST``` observed species was 'Not at Risk' (100%) and two of the four park's ```LEAST``` observed species were 'Endangered' (50%).  If you were given observations over time, then predictions could be made based off of increasing or decreasing observations over time.  If observations decrease over time, then there is a high chance that the species is moving into higher severities of conservation status.  If the observations increase over time, then the species is most likely not going to be at risk.  The accuracy of course depends on how long the species is observed, the longer the better."
   ]
  },
  {
   "attachments": {},
   "cell_type": "markdown",
   "metadata": {},
   "source": [
    "---"
   ]
  },
  {
   "attachments": {},
   "cell_type": "markdown",
   "metadata": {},
   "source": [
    "# Section 4 - Conclusions\n",
    "### Analysis Findings -\n",
    "\n",
    "_General analysis Findings:_\n",
    "- ```Though there is a huge difference in observation counts for each park, there are near equal proportions of observations for each conservation status within each park (Ex: The endangered conservation status has nearly the same percent of observations in each park)```\n",
    "- ```Though there is a huge difference in observation counts for each park, there are near equal proportions of observations for each category of species within each park (Ex: The mammal category has nearly the same percent of observations in each park)```\n",
    "- ```On average, as the severity of the conservation status increases for a specific species, the sightings of that specific species decreases (Approaches Endangerment)```\n",
    "- ```On average, the observation count of a species can be a predictor of conservation status (higher count = lower risk status | lower count = higher risk status)```\n",
    "- ```Every park's MOST observed species was 'Not at Risk'```\n",
    "- ```Two out of the four park's LEAST observed species were 'Endangered' (50%), the other two were 'Not at Risk' and both vascular plants (Partly due to the massive amount of species within the 'Vascular Plant' category, the range of observations is quite large)```\n",
    "\n",
    "_Findings among 'At Risk' and 'Not at Risk' species:_  \n",
    "- ```Both Plant catagories have the lowest proportion of species that are 'At risk'```\n",
    "- ```Birds have the highest proportion of species that are labeled a 'Species of Concern'```\n",
    "- ```Reptiles and Nonvascular Plants have no endangered species within their categories```\n",
    "- ```Mammals have the highest proportion of species that are at 'At Risk' (Lowest proportion of species that are 'Not at Risk')```\n",
    "- ```Mammals have the highest proportion of species that are endangered```\n",
    "\n",
    "_Findings among 'At Risk' species:_\n",
    "- ```Fish have the highest proportion of species that are endangered```\n",
    "- ```Species that live primarily in the water (Amphibians and Fish) have higher proportions of endangerment and are more threatened than any other category```\n",
    "- ```Birds, Reptiles, Vascular Plants and Nonvascular Plants each have a very high proportion of species labeled as a 'Species of Concern', and a low proportion of species that are endangered, relative to the other categories (This finding could be used for preventative measures)```\n",
    "\n",
    "_Findings among 'Not at Risk' species:_\n",
    "- ```Vascular plants take up roughly 77% of all 'Not at Risk' species (4216 out of 5363 species)```\n",
    "\n",
    "_Predictive findings:_\n",
    "- ```Given observations over a period of time, if the observations decrease over time, then there is a high chance that the species is moving into higher severities of conservation status (Moving towards endangerment and/or extinction).  If the observations increase over time, then the species is most likely 'in recovery' or 'Not at risk' (The accuracy is highly dependant on the length of time the species is observed).```"
   ]
  },
  {
   "attachments": {},
   "cell_type": "markdown",
   "metadata": {},
   "source": [
    "---"
   ]
  },
  {
   "attachments": {},
   "cell_type": "markdown",
   "metadata": {},
   "source": [
    "# Appendix\n",
    "### Section 1\n",
    "1. Python library imports:\n",
    "* Numpy - Used for fast calculations within pandas.  Can perform matrix calculations.\n",
    "* Pandas - Used for loading in datasets into workable dataframes.  Crucial for Data Analysis with Python.\n",
    "* Matplotlib - Used for creating plots and visualizations from pandas dataframes.\n",
    "* Seaborn - Newer, more intuitive visualization library built to work with Matplotlib and pandas.\n",
    "* Statsmodels - Used for creating predictive models.\n",
    "\n",
    "2. Use the ```.read_csv()``` method along with ```pd``` (pandas) to import a csv file into a pandas dataframe.  The method takes the CSV filename surrounded by quotations as a parameter (Example: parks = pd.read_csv(\"observations.csv\"))\n",
    "\n",
    "3. Use the ```.head()``` method from the ```pandas``` library on the ```parks``` dataframe to show the first 10 rows of the dataframe\n",
    "\n",
    "4. Use the ```.head()``` method from the ```pandas``` library on the ```species``` dataframe to show the first 10 rows of the dataframe\n",
    "\n",
    "5. Use the ```.info()``` method from the ```pandas``` library on the ```parks``` dataframe to show column names, data types of the columns, length of the dataframe, and possible missing values within the dataframe.  This shows that the length of the dataframe is 23,296 rows long and that it has 3 columns, each with 0 missing values.  We can see that the column names are clean and easy to work with and we can also see the data types of each column, which are workable for now.\n",
    "\n",
    "6. Use the ```.decribe()``` method from the ```pandas``` library on the ```parks``` dataframe to show some summary statistics about each column.  In order to see summary statistics for categorical variables, you need to use the ```include=``` parameter and set its value to ```'all'```.  This shows the amount of unique values for the categorical variables (```scientific_name``` and ```park_name```), and some useful statistics about the quantitative variable (```observations```).  The average number of times a single species was observed in 7 days was 142 times.  The minimum times observed was 9 times and the maximum was 321 times.  This is useful primarily because now you know that the ```observations``` column doesn't contain any zero values in it.  This means you can move on to exploring a different variable within the data.\n",
    "\n",
    "7. Use the ```.value_counts()``` method from the ```pandas``` library on the ```parks.park_name``` dataframe column to show the frequency of the unique values within the column.  You can see that each of the 4 National Parks contain an equal amount of entries.  This information also shows that the 4 unique values within this column are in fact National Parks.\n",
    "\n",
    "8. Create a ```for``` loop that loops 10 times.  With every loop print a string of the sample number.  With every loop you'll pull a random sample of the ```parks.scientific_name``` column using the pandas ```.sample()``` method.  The method will take an integer as a parameter which specifies the size of the random sample.  The larger the sample, the better.  After the samples are pulled, the samples should be examined for any values that are not scientific names.  If you pull enough samples of a decent size, then this can accurately portray the dataset as a whole.  This is much more efficient than reading through all 5541 unique scientific names.\n"
   ]
  }
 ],
 "metadata": {
  "kernelspec": {
   "display_name": "Python 3",
   "language": "python",
   "name": "python3"
  },
  "language_info": {
   "codemirror_mode": {
    "name": "ipython",
    "version": 3
   },
   "file_extension": ".py",
   "mimetype": "text/x-python",
   "name": "python",
   "nbconvert_exporter": "python",
   "pygments_lexer": "ipython3",
   "version": "3.11.0"
  },
  "orig_nbformat": 4
 },
 "nbformat": 4,
 "nbformat_minor": 2
}
